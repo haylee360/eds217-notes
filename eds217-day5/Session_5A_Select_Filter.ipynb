{
 "cells": [
  {
   "cell_type": "markdown",
   "id": "08166c04-4426-427d-901f-c14ed1fcc055",
   "metadata": {},
   "source": [
    "# Day 5 Session A - Live Coding\n",
    "\n",
    "[session link](https://eds-217-essential-python.github.io/course-materials/live-coding/5a_selecting_and_filtering.html)\n",
    "\n",
    "## Basic Pandas Selection and Filtering\n",
    "Filtering is on rows and selection is on columns, at the highest level\n",
    "\n",
    "A more general decsription: Filtering you're doing based on criteria that relate to the values in the df. Selection is not based on values."
   ]
  },
  {
   "cell_type": "markdown",
   "id": "bc405e52-fa12-41fc-9594-3142f7e680cf",
   "metadata": {},
   "source": [
    "## 1. Setup\n"
   ]
  },
  {
   "cell_type": "code",
   "execution_count": 1,
   "id": "6e5db3e4-2992-4590-907e-201635a112a2",
   "metadata": {
    "tags": []
   },
   "outputs": [],
   "source": [
    "import pandas as pd\n",
    "\n",
    "# data\n",
    "url = 'https://bit.ly/eds217-studentdata'\n",
    "\n",
    "df = pd.read_csv(url)"
   ]
  },
  {
   "cell_type": "code",
   "execution_count": 2,
   "id": "06b003bf-60d5-4bee-8e17-02c684b9f116",
   "metadata": {
    "tags": []
   },
   "outputs": [
    {
     "data": {
      "text/html": [
       "<div>\n",
       "<style scoped>\n",
       "    .dataframe tbody tr th:only-of-type {\n",
       "        vertical-align: middle;\n",
       "    }\n",
       "\n",
       "    .dataframe tbody tr th {\n",
       "        vertical-align: top;\n",
       "    }\n",
       "\n",
       "    .dataframe thead th {\n",
       "        text-align: right;\n",
       "    }\n",
       "</style>\n",
       "<table border=\"1\" class=\"dataframe\">\n",
       "  <thead>\n",
       "    <tr style=\"text-align: right;\">\n",
       "      <th></th>\n",
       "      <th>student_id</th>\n",
       "      <th>age</th>\n",
       "      <th>gpa</th>\n",
       "      <th>major</th>\n",
       "    </tr>\n",
       "  </thead>\n",
       "  <tbody>\n",
       "    <tr>\n",
       "      <th>0</th>\n",
       "      <td>1000</td>\n",
       "      <td>24</td>\n",
       "      <td>2.18</td>\n",
       "      <td>Mathematics</td>\n",
       "    </tr>\n",
       "    <tr>\n",
       "      <th>1</th>\n",
       "      <td>1001</td>\n",
       "      <td>21</td>\n",
       "      <td>2.39</td>\n",
       "      <td>Physics</td>\n",
       "    </tr>\n",
       "    <tr>\n",
       "      <th>2</th>\n",
       "      <td>1002</td>\n",
       "      <td>22</td>\n",
       "      <td>2.09</td>\n",
       "      <td>Physics</td>\n",
       "    </tr>\n",
       "    <tr>\n",
       "      <th>3</th>\n",
       "      <td>1003</td>\n",
       "      <td>24</td>\n",
       "      <td>2.65</td>\n",
       "      <td>Computer Science</td>\n",
       "    </tr>\n",
       "    <tr>\n",
       "      <th>4</th>\n",
       "      <td>1004</td>\n",
       "      <td>20</td>\n",
       "      <td>2.78</td>\n",
       "      <td>Chemistry</td>\n",
       "    </tr>\n",
       "  </tbody>\n",
       "</table>\n",
       "</div>"
      ],
      "text/plain": [
       "   student_id  age   gpa             major\n",
       "0        1000   24  2.18       Mathematics\n",
       "1        1001   21  2.39           Physics\n",
       "2        1002   22  2.09           Physics\n",
       "3        1003   24  2.65  Computer Science\n",
       "4        1004   20  2.78         Chemistry"
      ]
     },
     "execution_count": 2,
     "metadata": {},
     "output_type": "execute_result"
    }
   ],
   "source": [
    "df.head()"
   ]
  },
  {
   "cell_type": "markdown",
   "id": "12f244a9-cc8a-4a62-a44a-daf6523a3bd6",
   "metadata": {},
   "source": [
    "## 2. Basic Selection\n"
   ]
  },
  {
   "cell_type": "code",
   "execution_count": 8,
   "id": "d54455f1-8e84-4b61-9755-e1f84fa0c7fb",
   "metadata": {
    "tags": []
   },
   "outputs": [
    {
     "data": {
      "text/plain": [
       "pandas.core.frame.DataFrame"
      ]
     },
     "execution_count": 8,
     "metadata": {},
     "output_type": "execute_result"
    }
   ],
   "source": [
    "# Selecting a single column of data and assign to a series\n",
    "\n",
    "majors = df['major'] # if you wanna make this a df, use [['major']]\n",
    "type(majors)\n",
    "\n",
    "# Selecting multiple columnds from a df and assign it to a new df\n",
    "# provide a list of columns into selector/filter brackets\n",
    "id_majors = df[['student_id', 'major']]\n",
    "type(id_majors)"
   ]
  },
  {
   "cell_type": "markdown",
   "id": "14396abf-4f49-4659-af36-7613a5f21a0c",
   "metadata": {},
   "source": [
    "## 3. Filtering Based on Column Values\n",
    "\n",
    "### 3a. Single Condition Filtering\n"
   ]
  },
  {
   "cell_type": "code",
   "execution_count": 10,
   "id": "525dcef3-e982-4909-aa2e-b6a14d61fac9",
   "metadata": {
    "tags": []
   },
   "outputs": [
    {
     "data": {
      "text/plain": [
       "pandas.core.frame.DataFrame"
      ]
     },
     "execution_count": 10,
     "metadata": {},
     "output_type": "execute_result"
    }
   ],
   "source": [
    "# filtering on the value of a single condition\n",
    "# filter gpa > 3.7\n",
    "high_achievers = df[df['gpa'] > 3.7]\n",
    "type(high_achievers)"
   ]
  },
  {
   "cell_type": "code",
   "execution_count": 12,
   "id": "437aced9-3362-4f03-ae0f-1af41da903cf",
   "metadata": {
    "tags": []
   },
   "outputs": [
    {
     "name": "stdout",
     "output_type": "stream",
     "text": [
      "0     False\n",
      "1     False\n",
      "2     False\n",
      "3     False\n",
      "4     False\n",
      "      ...  \n",
      "95    False\n",
      "96    False\n",
      "97    False\n",
      "98     True\n",
      "99    False\n",
      "Name: gpa, Length: 100, dtype: bool\n"
     ]
    }
   ],
   "source": [
    "valid = df['gpa'] > 3.7\n",
    "print(valid) # Creates a list of T/F values\n",
    "# Can then pass into the selection"
   ]
  },
  {
   "cell_type": "markdown",
   "id": "2a69f195-ca47-4f45-a39c-c35e29003d94",
   "metadata": {},
   "source": [
    "### 3b. Multiple Conditions with Logical Operators\n"
   ]
  },
  {
   "cell_type": "code",
   "execution_count": null,
   "id": "096e795d-847c-4931-af41-56546f16caf6",
   "metadata": {},
   "outputs": [],
   "source": [
    "# filtering on values of multiple columns\n",
    "# usually multiple column values but not always\n",
    "\n",
    "young_math = df[(df['age'] < 20) & (df['major'] == 'Mathematics')]\n"
   ]
  },
  {
   "cell_type": "markdown",
   "id": "795f0c20-e348-4a1f-94eb-a2fa6f0bee14",
   "metadata": {},
   "source": [
    "### 3c. Using the filter command\n"
   ]
  },
  {
   "cell_type": "code",
   "execution_count": null,
   "id": "47b38966-20bc-4cc1-8a93-26b3a7117aa2",
   "metadata": {},
   "outputs": [],
   "source": []
  },
  {
   "cell_type": "markdown",
   "id": "48c5eda6-4b45-4cca-a1a3-dbecda5c85b6",
   "metadata": {},
   "source": [
    "## 4. Combining Selection and Filtering\n"
   ]
  },
  {
   "cell_type": "code",
   "execution_count": null,
   "id": "162fd1cc-e5ef-4559-87ca-f15b530fd21d",
   "metadata": {},
   "outputs": [],
   "source": []
  },
  {
   "cell_type": "markdown",
   "id": "159e5e47-4723-4257-975c-fe368bda72b0",
   "metadata": {},
   "source": [
    "## 5. Using .isin() for Multiple Values\n"
   ]
  },
  {
   "cell_type": "code",
   "execution_count": null,
   "id": "1ae53e35-9978-4d1f-87a6-6e5b3084864a",
   "metadata": {},
   "outputs": [],
   "source": []
  },
  {
   "cell_type": "markdown",
   "id": "e8b99c3e-0e62-4bba-9a6a-2357821bc43b",
   "metadata": {},
   "source": [
    "## 6. Filtering with String Methods\n"
   ]
  },
  {
   "cell_type": "code",
   "execution_count": null,
   "id": "ef6400b8-6225-4a9b-b4b7-12d2c04ccb1f",
   "metadata": {},
   "outputs": [],
   "source": []
  },
  {
   "cell_type": "markdown",
   "id": "cf89d0f1-343a-4c60-b701-314374440f42",
   "metadata": {},
   "source": [
    "## 7. Advanced Selection: .loc vs .iloc\n"
   ]
  },
  {
   "cell_type": "code",
   "execution_count": null,
   "id": "040ef891-6276-4eab-9e38-abe6ad5f63a8",
   "metadata": {},
   "outputs": [],
   "source": []
  },
  {
   "cell_type": "markdown",
   "id": "4ae07f21-1398-4b8f-9511-183c81b6bc04",
   "metadata": {},
   "source": [
    "## Conclusion\n"
   ]
  }
 ],
 "metadata": {
  "kernelspec": {
   "display_name": "Python 3.10.0",
   "language": "python",
   "name": "python3.10.0"
  },
  "language_info": {
   "codemirror_mode": {
    "name": "ipython",
    "version": 3
   },
   "file_extension": ".py",
   "mimetype": "text/x-python",
   "name": "python",
   "nbconvert_exporter": "python",
   "pygments_lexer": "ipython3",
   "version": "3.10.0"
  }
 },
 "nbformat": 4,
 "nbformat_minor": 5
}
