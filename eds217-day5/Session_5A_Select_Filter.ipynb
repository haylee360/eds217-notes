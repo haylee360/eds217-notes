{
 "cells": [
  {
   "cell_type": "markdown",
   "id": "08166c04-4426-427d-901f-c14ed1fcc055",
   "metadata": {},
   "source": [
    "# Day 5 Session A - Live Coding\n",
    "\n",
    "[session link](https://eds-217-essential-python.github.io/course-materials/live-coding/5a_selecting_and_filtering.html)\n",
    "\n",
    "## Basic Pandas Selection and Filtering\n",
    "Filtering is on rows and selection is on columns, at the highest level\n",
    "\n",
    "A more general decsription: Filtering you're doing based on criteria that relate to the values in the df. Selection is not based on values."
   ]
  },
  {
   "cell_type": "markdown",
   "id": "bc405e52-fa12-41fc-9594-3142f7e680cf",
   "metadata": {},
   "source": [
    "## 1. Setup\n"
   ]
  },
  {
   "cell_type": "code",
   "execution_count": 1,
   "id": "6e5db3e4-2992-4590-907e-201635a112a2",
   "metadata": {
    "tags": []
   },
   "outputs": [],
   "source": [
    "import pandas as pd\n",
    "\n",
    "# data\n",
    "url = 'https://bit.ly/eds217-studentdata'\n",
    "\n",
    "df = pd.read_csv(url)"
   ]
  },
  {
   "cell_type": "code",
   "execution_count": 2,
   "id": "06b003bf-60d5-4bee-8e17-02c684b9f116",
   "metadata": {
    "tags": []
   },
   "outputs": [
    {
     "data": {
      "text/html": [
       "<div>\n",
       "<style scoped>\n",
       "    .dataframe tbody tr th:only-of-type {\n",
       "        vertical-align: middle;\n",
       "    }\n",
       "\n",
       "    .dataframe tbody tr th {\n",
       "        vertical-align: top;\n",
       "    }\n",
       "\n",
       "    .dataframe thead th {\n",
       "        text-align: right;\n",
       "    }\n",
       "</style>\n",
       "<table border=\"1\" class=\"dataframe\">\n",
       "  <thead>\n",
       "    <tr style=\"text-align: right;\">\n",
       "      <th></th>\n",
       "      <th>student_id</th>\n",
       "      <th>age</th>\n",
       "      <th>gpa</th>\n",
       "      <th>major</th>\n",
       "    </tr>\n",
       "  </thead>\n",
       "  <tbody>\n",
       "    <tr>\n",
       "      <th>0</th>\n",
       "      <td>1000</td>\n",
       "      <td>24</td>\n",
       "      <td>2.18</td>\n",
       "      <td>Mathematics</td>\n",
       "    </tr>\n",
       "    <tr>\n",
       "      <th>1</th>\n",
       "      <td>1001</td>\n",
       "      <td>21</td>\n",
       "      <td>2.39</td>\n",
       "      <td>Physics</td>\n",
       "    </tr>\n",
       "    <tr>\n",
       "      <th>2</th>\n",
       "      <td>1002</td>\n",
       "      <td>22</td>\n",
       "      <td>2.09</td>\n",
       "      <td>Physics</td>\n",
       "    </tr>\n",
       "    <tr>\n",
       "      <th>3</th>\n",
       "      <td>1003</td>\n",
       "      <td>24</td>\n",
       "      <td>2.65</td>\n",
       "      <td>Computer Science</td>\n",
       "    </tr>\n",
       "    <tr>\n",
       "      <th>4</th>\n",
       "      <td>1004</td>\n",
       "      <td>20</td>\n",
       "      <td>2.78</td>\n",
       "      <td>Chemistry</td>\n",
       "    </tr>\n",
       "  </tbody>\n",
       "</table>\n",
       "</div>"
      ],
      "text/plain": [
       "   student_id  age   gpa             major\n",
       "0        1000   24  2.18       Mathematics\n",
       "1        1001   21  2.39           Physics\n",
       "2        1002   22  2.09           Physics\n",
       "3        1003   24  2.65  Computer Science\n",
       "4        1004   20  2.78         Chemistry"
      ]
     },
     "execution_count": 2,
     "metadata": {},
     "output_type": "execute_result"
    }
   ],
   "source": [
    "df.head()"
   ]
  },
  {
   "cell_type": "markdown",
   "id": "12f244a9-cc8a-4a62-a44a-daf6523a3bd6",
   "metadata": {},
   "source": [
    "## 2. Basic Selection\n"
   ]
  },
  {
   "cell_type": "code",
   "execution_count": 8,
   "id": "d54455f1-8e84-4b61-9755-e1f84fa0c7fb",
   "metadata": {
    "tags": []
   },
   "outputs": [
    {
     "data": {
      "text/plain": [
       "pandas.core.frame.DataFrame"
      ]
     },
     "execution_count": 8,
     "metadata": {},
     "output_type": "execute_result"
    }
   ],
   "source": [
    "# Selecting a single column of data and assign to a series\n",
    "\n",
    "majors = df['major'] # if you wanna make this a df, use [['major']]\n",
    "type(majors)\n",
    "\n",
    "# Selecting multiple columnds from a df and assign it to a new df\n",
    "# provide a list of columns into selector/filter brackets\n",
    "id_majors = df[['student_id', 'major']]\n",
    "type(id_majors)"
   ]
  },
  {
   "cell_type": "markdown",
   "id": "14396abf-4f49-4659-af36-7613a5f21a0c",
   "metadata": {},
   "source": [
    "## 3. Filtering Based on Column Values\n",
    "\n",
    "### 3a. Single Condition Filtering\n"
   ]
  },
  {
   "cell_type": "code",
   "execution_count": 10,
   "id": "525dcef3-e982-4909-aa2e-b6a14d61fac9",
   "metadata": {
    "tags": []
   },
   "outputs": [
    {
     "data": {
      "text/plain": [
       "pandas.core.frame.DataFrame"
      ]
     },
     "execution_count": 10,
     "metadata": {},
     "output_type": "execute_result"
    }
   ],
   "source": [
    "# filtering on the value of a single condition\n",
    "# filter gpa > 3.7\n",
    "high_achievers = df[df['gpa'] > 3.7]\n",
    "type(high_achievers)"
   ]
  },
  {
   "cell_type": "code",
   "execution_count": 12,
   "id": "437aced9-3362-4f03-ae0f-1af41da903cf",
   "metadata": {
    "tags": []
   },
   "outputs": [
    {
     "name": "stdout",
     "output_type": "stream",
     "text": [
      "0     False\n",
      "1     False\n",
      "2     False\n",
      "3     False\n",
      "4     False\n",
      "      ...  \n",
      "95    False\n",
      "96    False\n",
      "97    False\n",
      "98     True\n",
      "99    False\n",
      "Name: gpa, Length: 100, dtype: bool\n"
     ]
    }
   ],
   "source": [
    "valid = df['gpa'] > 3.7\n",
    "print(valid) # Creates a list of T/F values\n",
    "# Can then pass into the selection"
   ]
  },
  {
   "cell_type": "markdown",
   "id": "2a69f195-ca47-4f45-a39c-c35e29003d94",
   "metadata": {},
   "source": [
    "### 3b. Multiple Conditions with Logical Operators\n"
   ]
  },
  {
   "cell_type": "code",
   "execution_count": 13,
   "id": "096e795d-847c-4931-af41-56546f16caf6",
   "metadata": {
    "tags": []
   },
   "outputs": [],
   "source": [
    "# filtering on values of multiple columns\n",
    "# usually multiple column values but not always\n",
    "\n",
    "young_math = df[(df['age'] < 20) & (df['major'] == 'Mathematics')]\n",
    "\n",
    "# Find students who are either 22 years old or have a GPA of 3.5\n",
    "\n",
    "specific_students = df[(df['age'] == 22) | (df['gpa'] == 3.5)]"
   ]
  },
  {
   "cell_type": "markdown",
   "id": "795f0c20-e348-4a1f-94eb-a2fa6f0bee14",
   "metadata": {},
   "source": [
    "### 3c. Using the filter command\n",
    "\n",
    "use filter command to match specific columns or rows based on labels (column names, index labels)\n",
    "\n",
    "By default, filter filters columns\n",
    "\n",
    "Use `like` argument to filter/select substrings (especially useful for large df with many columns)"
   ]
  },
  {
   "cell_type": "code",
   "execution_count": 19,
   "id": "47b38966-20bc-4cc1-8a93-26b3a7117aa2",
   "metadata": {},
   "outputs": [
    {
     "name": "stdout",
     "output_type": "stream",
     "text": [
      "    student_id  age   gpa             major\n",
      "5         1005   22  2.54       Engineering\n",
      "15        1015   20  2.40         Chemistry\n",
      "25        1025   18  3.25           Physics\n",
      "35        1035   24  3.43  Computer Science\n",
      "45        1045   21  3.27  Computer Science\n",
      "50        1050   22  2.82       Engineering\n",
      "51        1051   20  3.51       Engineering\n",
      "52        1052   24  2.46           Physics\n",
      "53        1053   22  2.15  Computer Science\n",
      "54        1054   18  2.58  Computer Science\n",
      "55        1055   24  2.32           Physics\n",
      "56        1056   19  3.86           Physics\n",
      "57        1057   21  3.62           Physics\n",
      "58        1058   18  3.27       Mathematics\n",
      "59        1059   21  3.74         Chemistry\n",
      "65        1065   22  3.79         Chemistry\n",
      "75        1075   20  2.44         Chemistry\n",
      "85        1085   19  2.50  Computer Science\n",
      "95        1095   23  2.48         Chemistry\n"
     ]
    }
   ],
   "source": [
    "# filter all the columns that contain the substring \"id\"\n",
    "id_columns = df.filter(like='id')\n",
    "\n",
    "# filter all the rows where the index contains a '5'\n",
    "rows_with_5 = df.filter(like='5', axis=0) #first axis is the 0 axis which is rows, second axis is 1 which is columns\n",
    "print(rows_with_5)"
   ]
  },
  {
   "cell_type": "code",
   "execution_count": 21,
   "id": "63154e77-3e11-466a-9329-afe976aaf579",
   "metadata": {
    "tags": []
   },
   "outputs": [
    {
     "name": "stdout",
     "output_type": "stream",
     "text": [
      "    age\n",
      "0    24\n",
      "1    21\n",
      "2    22\n",
      "3    24\n",
      "4    20\n",
      "..  ...\n",
      "95   23\n",
      "96   21\n",
      "97   23\n",
      "98   24\n",
      "99   24\n",
      "\n",
      "[100 rows x 1 columns]\n"
     ]
    }
   ],
   "source": [
    "# filter column names using a regex instead of like\n",
    "# Find all the columns that end in the letter 'e'\n",
    "e_ending_columns = df.filter(regex='e$')\n",
    "print(e_ending_columns)"
   ]
  },
  {
   "cell_type": "markdown",
   "id": "95ec3ac3-183a-4a15-a822-9760b8d7d264",
   "metadata": {},
   "source": [
    "RegexLearn:\n",
    "https://regexlearn.com/learn/regex101"
   ]
  },
  {
   "cell_type": "markdown",
   "id": "48c5eda6-4b45-4cca-a1a3-dbecda5c85b6",
   "metadata": {},
   "source": [
    "## 4. Combining Selection and Filtering\n",
    "\n",
    "Use method chaining to append selection to the resutls of a filter before assigning it to a new variable"
   ]
  },
  {
   "cell_type": "code",
   "execution_count": 29,
   "id": "162fd1cc-e5ef-4559-87ca-f15b530fd21d",
   "metadata": {},
   "outputs": [
    {
     "name": "stdout",
     "output_type": "stream",
     "text": [
      "['Chemistry', 'Chemistry', 'Chemistry', 'Computer Science', 'Computer Science', 'Chemistry', 'Mathematics', 'Physics', 'Physics', 'Mathematics', 'Computer Science', 'Physics', 'Mathematics', 'Computer Science', 'Biology', 'Mathematics', 'Chemistry', 'Mathematics', 'Engineering', 'Computer Science', 'Physics', 'Mathematics', 'Mathematics', 'Physics', 'Computer Science', 'Mathematics', 'Mathematics', 'Chemistry', 'Biology', 'Physics', 'Computer Science', 'Computer Science', 'Computer Science', 'Computer Science', 'Physics', 'Physics']\n"
     ]
    }
   ],
   "source": [
    "# get a list of majors for students under 21\n",
    "young_majors = df[df['age'] <  21]['major'].to_list()\n",
    "# first command returns a data frame, then you can use ['major']\n",
    "print(young_majors) # series, cuz just one column\n",
    "# if you wanted to make it a list, you can use to_list"
   ]
  },
  {
   "cell_type": "markdown",
   "id": "159e5e47-4723-4257-975c-fe368bda72b0",
   "metadata": {},
   "source": [
    "## 5. Using .isin() for Multiple Values\n",
    "\n",
    "`.isin` is useful for filtering rows that meet any of a list of criteria. For example, fitlering by a subset of majors\n",
    "\n",
    "only runs on series\n",
    "\n",
    "Can only filter by: A string, a list of columns, a list of TF's . All need to be the length of the df\n",
    "```python\n",
    "df['string'], df[['list', 'of', 'columns'], df[True, False, False,...]\n",
    "```\n",
    "\n",
    "Most useful for filtering categorical data"
   ]
  },
  {
   "cell_type": "code",
   "execution_count": 31,
   "id": "1ae53e35-9978-4d1f-87a6-6e5b3084864a",
   "metadata": {},
   "outputs": [
    {
     "data": {
      "text/html": [
       "<div>\n",
       "<style scoped>\n",
       "    .dataframe tbody tr th:only-of-type {\n",
       "        vertical-align: middle;\n",
       "    }\n",
       "\n",
       "    .dataframe tbody tr th {\n",
       "        vertical-align: top;\n",
       "    }\n",
       "\n",
       "    .dataframe thead th {\n",
       "        text-align: right;\n",
       "    }\n",
       "</style>\n",
       "<table border=\"1\" class=\"dataframe\">\n",
       "  <thead>\n",
       "    <tr style=\"text-align: right;\">\n",
       "      <th></th>\n",
       "      <th>student_id</th>\n",
       "      <th>age</th>\n",
       "      <th>gpa</th>\n",
       "      <th>major</th>\n",
       "    </tr>\n",
       "  </thead>\n",
       "  <tbody>\n",
       "    <tr>\n",
       "      <th>1</th>\n",
       "      <td>1001</td>\n",
       "      <td>21</td>\n",
       "      <td>2.39</td>\n",
       "      <td>Physics</td>\n",
       "    </tr>\n",
       "    <tr>\n",
       "      <th>2</th>\n",
       "      <td>1002</td>\n",
       "      <td>22</td>\n",
       "      <td>2.09</td>\n",
       "      <td>Physics</td>\n",
       "    </tr>\n",
       "    <tr>\n",
       "      <th>4</th>\n",
       "      <td>1004</td>\n",
       "      <td>20</td>\n",
       "      <td>2.78</td>\n",
       "      <td>Chemistry</td>\n",
       "    </tr>\n",
       "    <tr>\n",
       "      <th>5</th>\n",
       "      <td>1005</td>\n",
       "      <td>22</td>\n",
       "      <td>2.54</td>\n",
       "      <td>Engineering</td>\n",
       "    </tr>\n",
       "    <tr>\n",
       "      <th>8</th>\n",
       "      <td>1008</td>\n",
       "      <td>19</td>\n",
       "      <td>2.56</td>\n",
       "      <td>Chemistry</td>\n",
       "    </tr>\n",
       "  </tbody>\n",
       "</table>\n",
       "</div>"
      ],
      "text/plain": [
       "   student_id  age   gpa        major\n",
       "1        1001   21  2.39      Physics\n",
       "2        1002   22  2.09      Physics\n",
       "4        1004   20  2.78    Chemistry\n",
       "5        1005   22  2.54  Engineering\n",
       "8        1008   19  2.56    Chemistry"
      ]
     },
     "execution_count": 31,
     "metadata": {},
     "output_type": "execute_result"
    }
   ],
   "source": [
    "stem_majors = df[ df['major'].isin(['Engineering', 'Chemistry', 'Physics']) ]\n",
    "stem_majors.head()"
   ]
  },
  {
   "cell_type": "markdown",
   "id": "e8b99c3e-0e62-4bba-9a6a-2357821bc43b",
   "metadata": {},
   "source": [
    "## 6. Filtering with String Methods\n",
    "\n",
    "Pandas provides string methods that can be used to filter text data\n",
    "\n",
    "What can we put in our conditional that will give us a bunch of T/F?"
   ]
  },
  {
   "cell_type": "code",
   "execution_count": 33,
   "id": "ef6400b8-6225-4a9b-b4b7-12d2c04ccb1f",
   "metadata": {},
   "outputs": [
    {
     "name": "stdout",
     "output_type": "stream",
     "text": [
      "    student_id  age   gpa             major\n",
      "3         1003   24  2.65  Computer Science\n",
      "11        1011   20  3.60  Computer Science\n",
      "12        1012   20  2.15  Computer Science\n",
      "28        1028   23  2.62  Computer Science\n",
      "29        1029   22  2.65  Computer Science\n"
     ]
    }
   ],
   "source": [
    "# filter majors that contain the word science\n",
    "science_majors = df[ df['major'].str.contains('Science')]\n",
    "# take str commands, then find where it contains science\n",
    "print(science_majors.head())"
   ]
  },
  {
   "cell_type": "markdown",
   "id": "cf89d0f1-343a-4c60-b701-314374440f42",
   "metadata": {},
   "source": [
    "## 7. Advanced Selection: .loc vs .iloc\n"
   ]
  },
  {
   "cell_type": "code",
   "execution_count": null,
   "id": "040ef891-6276-4eab-9e38-abe6ad5f63a8",
   "metadata": {},
   "outputs": [],
   "source": [
    "df['string'], df[['list', 'of', 'columns'], df[True, False, False,...]"
   ]
  },
  {
   "cell_type": "markdown",
   "id": "4ae07f21-1398-4b8f-9511-183c81b6bc04",
   "metadata": {},
   "source": [
    "## Conclusion\n"
   ]
  }
 ],
 "metadata": {
  "kernelspec": {
   "display_name": "Python 3.10.0",
   "language": "python",
   "name": "python3.10.0"
  },
  "language_info": {
   "codemirror_mode": {
    "name": "ipython",
    "version": 3
   },
   "file_extension": ".py",
   "mimetype": "text/x-python",
   "name": "python",
   "nbconvert_exporter": "python",
   "pygments_lexer": "ipython3",
   "version": "3.10.0"
  }
 },
 "nbformat": 4,
 "nbformat_minor": 5
}
