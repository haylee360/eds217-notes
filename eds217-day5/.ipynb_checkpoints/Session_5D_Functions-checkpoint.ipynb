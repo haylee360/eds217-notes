{
 "cells": [
  {
   "cell_type": "markdown",
   "id": "62a0d78c-898a-4aea-9ddd-c9b5140084e8",
   "metadata": {},
   "source": [
    "# Grammar and Syntax of Functions"
   ]
  },
  {
   "cell_type": "markdown",
   "id": "fe982472-453d-4966-8283-74a2734dd15d",
   "metadata": {
    "tags": []
   },
   "source": [
    "Defining a function is simple\n",
    "```python\n",
    "def my_function(x):\n",
    "    # This is the function code\n",
    "\n",
    "    \n",
    "    \n",
    "    \n",
    "    # This is all function code\n",
    "\n",
    "print(\"Not in the function\")\n",
    "```\n",
    "Indentation separates code blocks"
   ]
  },
  {
   "cell_type": "code",
   "execution_count": 10,
   "id": "3dc64aca-ad68-4720-8936-b4eaeb4cb952",
   "metadata": {
    "tags": []
   },
   "outputs": [],
   "source": [
    "def my_function(x):\n",
    "    # square x and return it\n",
    "     return x*x"
   ]
  },
  {
   "cell_type": "code",
   "execution_count": 6,
   "id": "ee1450f3-17cf-4fd7-b3ba-4668f0bdd1fd",
   "metadata": {
    "tags": []
   },
   "outputs": [
    {
     "data": {
      "text/plain": [
       "100"
      ]
     },
     "execution_count": 6,
     "metadata": {},
     "output_type": "execute_result"
    }
   ],
   "source": [
    "my_function(10)"
   ]
  },
  {
   "cell_type": "markdown",
   "id": "b75d5e1f-195d-408d-8bcf-f36a8444cf9a",
   "metadata": {},
   "source": [
    "If you have to do something more than 3 times, write a function!\n",
    "\n",
    "Even if it doesn't save you time, it's easier to maintain\n",
    "\n",
    "Function needs to return something to use it!"
   ]
  },
  {
   "cell_type": "code",
   "execution_count": 11,
   "id": "3e613f3a-8b14-4723-8ee7-2711aa77805f",
   "metadata": {
    "tags": []
   },
   "outputs": [
    {
     "name": "stdout",
     "output_type": "stream",
     "text": [
      "100\n"
     ]
    }
   ],
   "source": [
    "a = my_function(10)\n",
    "print(a)"
   ]
  }
 ],
 "metadata": {
  "kernelspec": {
   "display_name": "Python 3.10.0",
   "language": "python",
   "name": "python3.10.0"
  },
  "language_info": {
   "codemirror_mode": {
    "name": "ipython",
    "version": 3
   },
   "file_extension": ".py",
   "mimetype": "text/x-python",
   "name": "python",
   "nbconvert_exporter": "python",
   "pygments_lexer": "ipython3",
   "version": "3.10.0"
  }
 },
 "nbformat": 4,
 "nbformat_minor": 5
}
