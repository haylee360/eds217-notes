{
 "cells": [
  {
   "cell_type": "markdown",
   "id": "d2d73ec3-7b68-4199-b759-139b181424cb",
   "metadata": {},
   "source": [
    "# Day 4: Session A - Data Frames\n",
    "\n",
    "[Link to session webpage](https://eds-217-essential-python.github.io/course-materials/interactive-sessions/4a_dataframes.html)\n"
   ]
  },
  {
   "cell_type": "code",
   "execution_count": 1,
   "id": "57659259-749f-4cc1-8197-b4be0390153e",
   "metadata": {
    "tags": []
   },
   "outputs": [],
   "source": [
    "import pandas as pd\n",
    "import numpy as np"
   ]
  },
  {
   "cell_type": "markdown",
   "id": "11e37a93-e772-412b-b630-5e87ed7f3ca3",
   "metadata": {},
   "source": [
    "## Import Data"
   ]
  },
  {
   "cell_type": "code",
   "execution_count": 2,
   "id": "cdb007bd-f72a-45f0-b303-058d27a6efd0",
   "metadata": {
    "tags": []
   },
   "outputs": [],
   "source": [
    "url = \"https://raw.githubusercontent.com/datasets/world-cities/master/data/world-cities.csv\"\n",
    "cities_df = pd.read_csv(url)"
   ]
  },
  {
   "cell_type": "markdown",
   "id": "bdd484f0-1b7b-4f32-ae87-f6d23fbf2304",
   "metadata": {},
   "source": [
    "## View the data"
   ]
  },
  {
   "cell_type": "code",
   "execution_count": 6,
   "id": "8395765a-e979-4296-923d-aed06be4d48f",
   "metadata": {
    "tags": []
   },
   "outputs": [
    {
     "name": "stdout",
     "output_type": "stream",
     "text": [
      "                  name               country             subcountry  geonameid\n",
      "0         les Escaldes               Andorra     Escaldes-Engordany    3040051\n",
      "1     Andorra la Vella               Andorra       Andorra la Vella    3041563\n",
      "2   Umm Al Quwain City  United Arab Emirates  Imārat Umm al Qaywayn     290594\n",
      "3  Ras Al Khaimah City  United Arab Emirates        Raʼs al Khaymah     291074\n",
      "4           Zayed City  United Arab Emirates              Abu Dhabi     291580\n",
      "              name   country           subcountry  geonameid\n",
      "26462     Bulawayo  Zimbabwe             Bulawayo     894701\n",
      "26463      Bindura  Zimbabwe  Mashonaland Central     895061\n",
      "26464   Beitbridge  Zimbabwe   Matabeleland South     895269\n",
      "26465      Epworth  Zimbabwe               Harare    1085510\n",
      "26466  Chitungwiza  Zimbabwe               Harare    1106542\n"
     ]
    }
   ],
   "source": [
    "#these are functions, that's why ()\n",
    "print(cities_df.head())\n",
    "print(cities_df.tail())"
   ]
  },
  {
   "cell_type": "markdown",
   "id": "36fb5aa9-ad8e-472d-9d84-655dba779c7a",
   "metadata": {},
   "source": [
    "### Data frame properties"
   ]
  },
  {
   "cell_type": "code",
   "execution_count": 13,
   "id": "8ba17772-9973-44ed-a3e6-53ae0b7e50e7",
   "metadata": {
    "tags": []
   },
   "outputs": [
    {
     "name": "stdout",
     "output_type": "stream",
     "text": [
      "Shape: (26467, 4)\n",
      "\n",
      "Columns: Index(['name', 'country', 'subcountry', 'geonameid'], dtype='object')\n",
      "\n",
      "Data types:\n",
      " name          object\n",
      "country       object\n",
      "subcountry    object\n",
      "geonameid      int64\n",
      "dtype: object\n",
      "\n",
      "Summary statistics:\n",
      "           geonameid\n",
      "count  2.646700e+04\n",
      "mean   2.858410e+06\n",
      "std    2.167506e+06\n",
      "min    1.057000e+04\n",
      "25%    1.274182e+06\n",
      "50%    2.524907e+06\n",
      "75%    3.589464e+06\n",
      "max    1.254173e+07\n",
      "<class 'pandas.core.frame.DataFrame'>\n",
      "RangeIndex: 26467 entries, 0 to 26466\n",
      "Data columns (total 4 columns):\n",
      " #   Column      Non-Null Count  Dtype \n",
      "---  ------      --------------  ----- \n",
      " 0   name        26467 non-null  object\n",
      " 1   country     26467 non-null  object\n",
      " 2   subcountry  26439 non-null  object\n",
      " 3   geonameid   26467 non-null  int64 \n",
      "dtypes: int64(1), object(3)\n",
      "memory usage: 827.2+ KB\n",
      "\n",
      "Info:\n",
      " None\n"
     ]
    }
   ],
   "source": [
    "# Number of rows and columns\n",
    "# returns a tuple of rows and columns\n",
    "# shape is like a variable, head and tail are functions. \n",
    "print(\"Shape:\", cities_df.shape)\n",
    "\n",
    "# Column names\n",
    "# just a variable that contains info about the data frame. \n",
    "print(\"\\nColumns:\", cities_df.columns)\n",
    "\n",
    "# Data types of each column. Index type\n",
    "print(\"\\nData types:\\n\", cities_df.dtypes)\n",
    "\n",
    "# This is using a method rather than an attribute!!\n",
    "# Summary statistics of numeric columns (if any)\n",
    "print(\"\\nSummary statistics:\\n\", cities_df.describe())\n",
    "\n",
    "# detailed info about column types and content\n",
    "print(\"\\nInfo:\\n\", cities_df.info())\n"
   ]
  },
  {
   "cell_type": "markdown",
   "id": "59c093da-b771-495b-85ad-d217f533c12a",
   "metadata": {},
   "source": [
    "### Check for missing values"
   ]
  },
  {
   "cell_type": "code",
   "execution_count": 15,
   "id": "5813718c-8e88-4e5c-8a66-45936240f068",
   "metadata": {
    "tags": []
   },
   "outputs": [
    {
     "name": "stdout",
     "output_type": "stream",
     "text": [
      "name           0\n",
      "country        0\n",
      "subcountry    28\n",
      "geonameid      0\n",
      "dtype: int64\n"
     ]
    }
   ],
   "source": [
    "# sum's over all columns to collapse them into rows. \n",
    "# Usually always summing over columns, not rows. \n",
    "print(cities_df.isnull().sum())"
   ]
  },
  {
   "cell_type": "markdown",
   "id": "408d1f84-57fe-436a-a6f7-29597dce8059",
   "metadata": {},
   "source": [
    "## Step 2: Cleaning Data\n",
    "\n",
    "For removing missing data, `dropna()` is best"
   ]
  },
  {
   "cell_type": "code",
   "execution_count": 16,
   "id": "991c0899-f9e3-42de-b149-10a9c7e4ac36",
   "metadata": {
    "tags": []
   },
   "outputs": [],
   "source": [
    "# only one column has NAs, so you can subset if you're unsure\n",
    "cities_df = cities_df.dropna(subset=['subcountry'])"
   ]
  },
  {
   "cell_type": "code",
   "execution_count": 17,
   "id": "0a30b7a2-e05c-43ea-a851-cf12d44a7f3b",
   "metadata": {
    "tags": []
   },
   "outputs": [
    {
     "name": "stdout",
     "output_type": "stream",
     "text": [
      "name          0\n",
      "country       0\n",
      "subcountry    0\n",
      "geonameid     0\n",
      "dtype: int64\n"
     ]
    }
   ],
   "source": [
    "print(cities_df.isnull().sum())"
   ]
  },
  {
   "cell_type": "markdown",
   "id": "f6b77569-73cf-4709-9ab8-25a159ebe1e6",
   "metadata": {},
   "source": [
    "## Basic Selecting and Filtering\n",
    "\n",
    "a data frame is a bunch of series that point to an index in a column, they all share the same row index, they all have their own column index\n"
   ]
  },
  {
   "cell_type": "code",
   "execution_count": 21,
   "id": "8931a17b-35a1-42ec-b77e-ec9c35aa9501",
   "metadata": {
    "tags": []
   },
   "outputs": [
    {
     "name": "stdout",
     "output_type": "stream",
     "text": [
      "0           les Escaldes\n",
      "1       Andorra la Vella\n",
      "2     Umm Al Quwain City\n",
      "3    Ras Al Khaimah City\n",
      "4             Zayed City\n",
      "Name: name, dtype: object\n",
      "                  name               country             subcountry\n",
      "0         les Escaldes               Andorra     Escaldes-Engordany\n",
      "1     Andorra la Vella               Andorra       Andorra la Vella\n",
      "2   Umm Al Quwain City  United Arab Emirates  Imārat Umm al Qaywayn\n",
      "3  Ras Al Khaimah City  United Arab Emirates        Raʼs al Khaymah\n",
      "4           Zayed City  United Arab Emirates              Abu Dhabi\n"
     ]
    }
   ],
   "source": [
    "# Select a single column\n",
    "# Easy! just add it to the data frame with the brackets\n",
    "print(cities_df['name'].head()) # only using head to keep notebook clean\n",
    "# requesting a list of columns out of a df always makes a new df\n",
    "# requesting just one column makes a series\n",
    "\n",
    "\n",
    "# Select multiple columns\n",
    "print(cities_df[['name', 'country', 'subcountry']].head())\n",
    "# need to put a list in there to get multiple columns"
   ]
  },
  {
   "cell_type": "markdown",
   "id": "7b40a822-ef1f-470a-a8b0-8b86edb6574d",
   "metadata": {},
   "source": [
    "To make a series from a column: `df['column']`\n",
    "\n",
    "To make data frame from a column, request as a single item list: `df[ ['column'] ]`"
   ]
  },
  {
   "cell_type": "markdown",
   "id": "409f8bc6-143b-42a4-92e8-1298e9982794",
   "metadata": {},
   "source": [
    "## Filtering"
   ]
  },
  {
   "cell_type": "code",
   "execution_count": 22,
   "id": "3182d8ae-31a6-4ad1-98e3-0f191b0a952a",
   "metadata": {
    "tags": []
   },
   "outputs": [],
   "source": [
    "# Cities in the United States\n",
    "us_cities = cities_df[cities_df['country'] == 'United States']\n",
    "#rows where country in cities_df equals US\n",
    "print(us_cities[['name', 'country']].head())"
   ]
  },
  {
   "cell_type": "markdown",
   "id": "da1cb855-7c57-453a-857b-9bed4b852048",
   "metadata": {},
   "source": [
    "Can combine logical operators to filter on multiple columns"
   ]
  },
  {
   "cell_type": "code",
   "execution_count": 27,
   "id": "52326dcd-4811-407b-89e4-b9327246c550",
   "metadata": {
    "tags": []
   },
   "outputs": [
    {
     "data": {
      "text/html": [
       "<div>\n",
       "<style scoped>\n",
       "    .dataframe tbody tr th:only-of-type {\n",
       "        vertical-align: middle;\n",
       "    }\n",
       "\n",
       "    .dataframe tbody tr th {\n",
       "        vertical-align: top;\n",
       "    }\n",
       "\n",
       "    .dataframe thead th {\n",
       "        text-align: right;\n",
       "    }\n",
       "</style>\n",
       "<table border=\"1\" class=\"dataframe\">\n",
       "  <thead>\n",
       "    <tr style=\"text-align: right;\">\n",
       "      <th></th>\n",
       "      <th>name</th>\n",
       "      <th>country</th>\n",
       "      <th>subcountry</th>\n",
       "      <th>geonameid</th>\n",
       "    </tr>\n",
       "  </thead>\n",
       "  <tbody>\n",
       "    <tr>\n",
       "      <th>24818</th>\n",
       "      <td>Fillmore</td>\n",
       "      <td>United States</td>\n",
       "      <td>California</td>\n",
       "      <td>5284756</td>\n",
       "    </tr>\n",
       "    <tr>\n",
       "      <th>24867</th>\n",
       "      <td>Adelanto</td>\n",
       "      <td>United States</td>\n",
       "      <td>California</td>\n",
       "      <td>5322400</td>\n",
       "    </tr>\n",
       "    <tr>\n",
       "      <th>24868</th>\n",
       "      <td>Agoura</td>\n",
       "      <td>United States</td>\n",
       "      <td>California</td>\n",
       "      <td>5322551</td>\n",
       "    </tr>\n",
       "    <tr>\n",
       "      <th>24869</th>\n",
       "      <td>Agoura Hills</td>\n",
       "      <td>United States</td>\n",
       "      <td>California</td>\n",
       "      <td>5322553</td>\n",
       "    </tr>\n",
       "    <tr>\n",
       "      <th>24870</th>\n",
       "      <td>Alameda</td>\n",
       "      <td>United States</td>\n",
       "      <td>California</td>\n",
       "      <td>5322737</td>\n",
       "    </tr>\n",
       "  </tbody>\n",
       "</table>\n",
       "</div>"
      ],
      "text/plain": [
       "               name        country  subcountry  geonameid\n",
       "24818      Fillmore  United States  California    5284756\n",
       "24867      Adelanto  United States  California    5322400\n",
       "24868        Agoura  United States  California    5322551\n",
       "24869  Agoura Hills  United States  California    5322553\n",
       "24870       Alameda  United States  California    5322737"
      ]
     },
     "execution_count": 27,
     "metadata": {},
     "output_type": "execute_result"
    }
   ],
   "source": [
    "# Cities in California\n",
    "# the long way\n",
    "in_us = cities_df['country'] == 'United States'\n",
    "in_ca = cities_df['subcountry'] == 'California'\n",
    "california_cities = cities_df[ in_us & in_ca ]\n",
    "california_cities.head()"
   ]
  },
  {
   "cell_type": "markdown",
   "id": "5802736c-9ed1-4997-acb8-616fb0c37b0b",
   "metadata": {},
   "source": [
    "`&` is an operator. pandas overloaded & to do comparisons of long lists of things.\n",
    "\n",
    "`and` is a python thing that doesn't know how to do that "
   ]
  },
  {
   "cell_type": "code",
   "execution_count": 29,
   "id": "4dab3f5c-665f-4a8e-8b14-2fc7e1b00b49",
   "metadata": {
    "tags": []
   },
   "outputs": [
    {
     "name": "stdout",
     "output_type": "stream",
     "text": [
      "               name        country  subcountry\n",
      "24818      Fillmore  United States  California\n",
      "24867      Adelanto  United States  California\n",
      "24868        Agoura  United States  California\n",
      "24869  Agoura Hills  United States  California\n",
      "24870       Alameda  United States  California\n"
     ]
    }
   ],
   "source": [
    "# the short way\n",
    "# need to wrap each condition in ( ) to avoid confusion\n",
    "california_cities = cities_df[\n",
    "    (cities_df['country'] == 'United States') & \n",
    "    (cities_df['subcountry'] == 'California')\n",
    "]\n",
    "print(california_cities[['name', 'country', 'subcountry']].head())"
   ]
  },
  {
   "cell_type": "markdown",
   "id": "ff5b35c3-5a0c-4163-b05e-99858d866742",
   "metadata": {},
   "source": [
    "## Step 5 Sorting and Ranking"
   ]
  },
  {
   "cell_type": "markdown",
   "id": "346153d8-73fc-462a-a393-48b1571e9adb",
   "metadata": {},
   "source": [
    "## Step 6 Transformations"
   ]
  },
  {
   "cell_type": "markdown",
   "id": "55c2aad9-126d-43f7-b108-d69798b29cbb",
   "metadata": {},
   "source": [
    "## Step 7 Grouping and Aggregation\n",
    "\n",
    "groupby"
   ]
  },
  {
   "cell_type": "markdown",
   "id": "fc5a8426-d7be-4ee9-b5bd-b1951ae29339",
   "metadata": {},
   "source": [
    "Take something we know to be a category and groups the data by that catgeory\n",
    "take that mapping, go to this column, and do x function on it.\n",
    "i.e., find the the mean weight of dogs grouped by type\n",
    "\n",
    "group things and get aggregate information about each category\n",
    "50% of what you're doing in descriptive statistics"
   ]
  },
  {
   "cell_type": "code",
   "execution_count": 33,
   "id": "22e1f597-c09d-4ae8-a96b-2448fd98186a",
   "metadata": {
    "tags": []
   },
   "outputs": [
    {
     "data": {
      "text/plain": [
       "country\n",
       "Afghanistan           49\n",
       "Aland Islands          1\n",
       "Albania               21\n",
       "Algeria              250\n",
       "American Samoa         1\n",
       "                    ... \n",
       "Vietnam              116\n",
       "Wallis and Futuna      1\n",
       "Yemen                 23\n",
       "Zambia                29\n",
       "Zimbabwe              28\n",
       "Name: name, Length: 225, dtype: int64"
      ]
     },
     "execution_count": 33,
     "metadata": {},
     "output_type": "execute_result"
    }
   ],
   "source": [
    "cities_per_country = cities_df.groupby('country')\n",
    "\n",
    "cities_per_country['name'].count()\n"
   ]
  },
  {
   "cell_type": "code",
   "execution_count": 30,
   "id": "60080caa-a1af-4902-a29d-64978c543d7e",
   "metadata": {
    "tags": []
   },
   "outputs": [
    {
     "name": "stdout",
     "output_type": "stream",
     "text": [
      "country\n",
      "United States    3273\n",
      "India            2480\n",
      "China            1955\n",
      "Brazil           1217\n",
      "Germany          1117\n",
      "Name: name, dtype: int64\n",
      "country\n",
      "Russia      83\n",
      "Turkey      81\n",
      "Thailand    75\n",
      "Vietnam     62\n",
      "Algeria     53\n",
      "Name: subcountry, dtype: int64\n"
     ]
    }
   ],
   "source": [
    "# Number of cities by country\n",
    "# Groupby looks for the name of the column you wanna group b\n",
    "\n",
    "cities_per_country = cities_df.groupby('country')['name'].count().sort_values(ascending=False)\n",
    "print(cities_per_country.head())\n",
    "\n",
    "# Number of subcountries (e.g., states, provinces) by country\n",
    "subcountries_per_country = cities_df.groupby('country')['subcountry'].nunique().sort_values(ascending=False)\n",
    "print(subcountries_per_country.head())"
   ]
  }
 ],
 "metadata": {
  "kernelspec": {
   "display_name": "Python 3.10.0",
   "language": "python",
   "name": "python3.10.0"
  },
  "language_info": {
   "codemirror_mode": {
    "name": "ipython",
    "version": 3
   },
   "file_extension": ".py",
   "mimetype": "text/x-python",
   "name": "python",
   "nbconvert_exporter": "python",
   "pygments_lexer": "ipython3",
   "version": "3.10.0"
  }
 },
 "nbformat": 4,
 "nbformat_minor": 5
}
