{
 "cells": [
  {
   "cell_type": "markdown",
   "id": "b2a63bf0-0d5d-4f73-8d1d-e631580c2221",
   "metadata": {},
   "source": [
    "# Coding Co-lab Day 4\n",
    "\n",
    "[session link](https://eds-217-essential-python.github.io/course-materials/coding-colabs/4b_pandas_dataframes.html)"
   ]
  },
  {
   "cell_type": "code",
   "execution_count": 1,
   "id": "b6e32db7-f897-4608-a9bd-d7ddd4d5a632",
   "metadata": {
    "tags": []
   },
   "outputs": [],
   "source": [
    "import pandas as pd\n",
    "import numpy as np\n",
    "\n",
    "# Load the dataset\n",
    "url = \"https://raw.githubusercontent.com/rfordatascience/tidytuesday/master/data/2019/2019-09-17/national_parks.csv\"\n",
    "parks_df = pd.read_csv(url)"
   ]
  },
  {
   "cell_type": "markdown",
   "id": "9e0e263c-5486-4963-81bb-ad3e18d266a0",
   "metadata": {},
   "source": [
    "## Data exploration and cleaning"
   ]
  },
  {
   "cell_type": "markdown",
   "id": "fd29153b-1031-4a08-9bcf-1593121bcd46",
   "metadata": {},
   "source": [
    "How many rows and columns does the DataFrame have?\n",
    "\n",
    "What are the column names?\n",
    "\n",
    "What data types are used in each column?\n",
    "\n",
    "Are there any missing values in the DataFrame?\n",
    "\n",
    "Remove the rows where year is Total (these are summary rows we don’t need for our analysis).\n",
    "\n",
    "Convert the year column to numeric type."
   ]
  },
  {
   "cell_type": "code",
   "execution_count": 24,
   "id": "66ec701e-2c10-4592-8fd4-c9f57cfdd82d",
   "metadata": {
    "tags": []
   },
   "outputs": [
    {
     "name": "stdout",
     "output_type": "stream",
     "text": [
      "Shape: (21174, 12)\n",
      "\n",
      "Columns: Index(['year', 'gnis_id', 'geometry', 'metadata', 'number_of_records',\n",
      "       'parkname', 'region', 'state', 'unit_code', 'unit_name', 'unit_type',\n",
      "       'visitors'],\n",
      "      dtype='object')\n",
      "\n",
      "Data types:\n",
      " year                 float64\n",
      "gnis_id               object\n",
      "geometry              object\n",
      "metadata              object\n",
      "number_of_records      int64\n",
      "parkname              object\n",
      "region                object\n",
      "state                 object\n",
      "unit_code             object\n",
      "unit_name             object\n",
      "unit_type             object\n",
      "visitors             float64\n",
      "dtype: object\n",
      "\n",
      " Missing Values:\n",
      " year                    0\n",
      "gnis_id                 0\n",
      "geometry                0\n",
      "metadata             2663\n",
      "number_of_records       0\n",
      "parkname             2176\n",
      "region                  0\n",
      "state                   0\n",
      "unit_code               0\n",
      "unit_name               0\n",
      "unit_type               0\n",
      "visitors                0\n",
      "dtype: int64\n"
     ]
    }
   ],
   "source": [
    "#How many rows and columns does the DataFrame have?\n",
    "print(\"Shape:\", parks_df.shape)\n",
    "\n",
    "#What are the column names?\n",
    "print(\"\\nColumns:\", parks_df.columns)\n",
    "\n",
    "#What data types are used in each column?\n",
    "print(\"\\nData types:\\n\", parks_df.dtypes)\n",
    "\n",
    "#Are there any missing values in the DataFrame?\n",
    "print(\"\\n Missing Values:\\n\", parks_df.isnull().sum())\n",
    "\n",
    "#Remove the rows where year is Total (these are summary rows we don’t need for our analysis).\n",
    "parks_df = parks_df[parks_df['year'] != 'Total']\n",
    "\n",
    "#Convert the year column to numeric type.\n",
    "parks_df['year'] = parks_df['year'].astype(int)\n"
   ]
  },
  {
   "cell_type": "markdown",
   "id": "2a5657ea-ad38-4a3b-9ec2-4977ede7986e",
   "metadata": {},
   "source": [
    "## Basic filtering and analysis\n"
   ]
  },
  {
   "cell_type": "code",
   "execution_count": 53,
   "id": "bb8401fa-efde-4a88-9397-d90e69fed381",
   "metadata": {
    "tags": []
   },
   "outputs": [
    {
     "data": {
      "text/html": [
       "<div>\n",
       "<style scoped>\n",
       "    .dataframe tbody tr th:only-of-type {\n",
       "        vertical-align: middle;\n",
       "    }\n",
       "\n",
       "    .dataframe tbody tr th {\n",
       "        vertical-align: top;\n",
       "    }\n",
       "\n",
       "    .dataframe thead th {\n",
       "        text-align: right;\n",
       "    }\n",
       "</style>\n",
       "<table border=\"1\" class=\"dataframe\">\n",
       "  <thead>\n",
       "    <tr style=\"text-align: right;\">\n",
       "      <th></th>\n",
       "      <th>year</th>\n",
       "      <th>gnis_id</th>\n",
       "      <th>geometry</th>\n",
       "      <th>metadata</th>\n",
       "      <th>number_of_records</th>\n",
       "      <th>parkname</th>\n",
       "      <th>region</th>\n",
       "      <th>state</th>\n",
       "      <th>unit_code</th>\n",
       "      <th>unit_name</th>\n",
       "      <th>unit_type</th>\n",
       "      <th>visitors</th>\n",
       "    </tr>\n",
       "  </thead>\n",
       "  <tbody>\n",
       "    <tr>\n",
       "      <th>378</th>\n",
       "      <td>2002</td>\n",
       "      <td>1966567</td>\n",
       "      <td>MULTIPOLYGON</td>\n",
       "      <td>http://nrdata.nps.gov/programs/Lands/NPSA_META...</td>\n",
       "      <td>1</td>\n",
       "      <td>National Park of American Samoa</td>\n",
       "      <td>PW</td>\n",
       "      <td>AS</td>\n",
       "      <td>NPSA</td>\n",
       "      <td>National Park of American Samoa</td>\n",
       "      <td>National Park</td>\n",
       "      <td>1938.0</td>\n",
       "    </tr>\n",
       "    <tr>\n",
       "      <th>1146</th>\n",
       "      <td>2015</td>\n",
       "      <td>1163670</td>\n",
       "      <td>POLYGON</td>\n",
       "      <td>NaN</td>\n",
       "      <td>1</td>\n",
       "      <td>Crater Lake</td>\n",
       "      <td>PW</td>\n",
       "      <td>OR</td>\n",
       "      <td>CRLA</td>\n",
       "      <td>Crater Lake National Park</td>\n",
       "      <td>National Park</td>\n",
       "      <td>614712.0</td>\n",
       "    </tr>\n",
       "    <tr>\n",
       "      <th>1149</th>\n",
       "      <td>2015</td>\n",
       "      <td>1530459</td>\n",
       "      <td>MULTIPOLYGON</td>\n",
       "      <td>NaN</td>\n",
       "      <td>1</td>\n",
       "      <td>Olympic</td>\n",
       "      <td>PW</td>\n",
       "      <td>WA</td>\n",
       "      <td>OLYM</td>\n",
       "      <td>Olympic National Park</td>\n",
       "      <td>National Park</td>\n",
       "      <td>3263761.0</td>\n",
       "    </tr>\n",
       "    <tr>\n",
       "      <th>1151</th>\n",
       "      <td>2015</td>\n",
       "      <td>578853</td>\n",
       "      <td>MULTIPOLYGON</td>\n",
       "      <td>NaN</td>\n",
       "      <td>1</td>\n",
       "      <td>NaN</td>\n",
       "      <td>NE</td>\n",
       "      <td>ME</td>\n",
       "      <td>ACAD</td>\n",
       "      <td>Acadia National Park</td>\n",
       "      <td>National Park</td>\n",
       "      <td>2811184.0</td>\n",
       "    </tr>\n",
       "    <tr>\n",
       "      <th>1154</th>\n",
       "      <td>2015</td>\n",
       "      <td>1377082</td>\n",
       "      <td>POLYGON</td>\n",
       "      <td>NaN</td>\n",
       "      <td>1</td>\n",
       "      <td>NaN</td>\n",
       "      <td>IM</td>\n",
       "      <td>TX</td>\n",
       "      <td>BIBE</td>\n",
       "      <td>Big Bend National Park</td>\n",
       "      <td>National Park</td>\n",
       "      <td>381747.0</td>\n",
       "    </tr>\n",
       "  </tbody>\n",
       "</table>\n",
       "</div>"
      ],
      "text/plain": [
       "      year  gnis_id      geometry  \\\n",
       "378   2002  1966567  MULTIPOLYGON   \n",
       "1146  2015  1163670       POLYGON   \n",
       "1149  2015  1530459  MULTIPOLYGON   \n",
       "1151  2015   578853  MULTIPOLYGON   \n",
       "1154  2015  1377082       POLYGON   \n",
       "\n",
       "                                               metadata  number_of_records  \\\n",
       "378   http://nrdata.nps.gov/programs/Lands/NPSA_META...                  1   \n",
       "1146                                                NaN                  1   \n",
       "1149                                                NaN                  1   \n",
       "1151                                                NaN                  1   \n",
       "1154                                                NaN                  1   \n",
       "\n",
       "                             parkname region state unit_code  \\\n",
       "378   National Park of American Samoa     PW    AS      NPSA   \n",
       "1146                      Crater Lake     PW    OR      CRLA   \n",
       "1149                          Olympic     PW    WA      OLYM   \n",
       "1151                              NaN     NE    ME      ACAD   \n",
       "1154                              NaN     IM    TX      BIBE   \n",
       "\n",
       "                            unit_name      unit_type   visitors  \n",
       "378   National Park of American Samoa  National Park     1938.0  \n",
       "1146        Crater Lake National Park  National Park   614712.0  \n",
       "1149            Olympic National Park  National Park  3263761.0  \n",
       "1151             Acadia National Park  National Park  2811184.0  \n",
       "1154           Big Bend National Park  National Park   381747.0  "
      ]
     },
     "execution_count": 53,
     "metadata": {},
     "output_type": "execute_result"
    }
   ],
   "source": [
    "#Create a new DataFrame containing only data for the years 2000-2015 \n",
    "#and only data for National Parks (unit_type is National Park)\n",
    "new_parks = parks_df[\n",
    "    (parks_df['year'] >= 2000) & (parks_df['year'] <= 2015) & \n",
    "    (parks_df['unit_type'] == 'National Park')\n",
    "]\n",
    "\n",
    "# new_parks = parks_df['year'].isin(range(2000, 2016)) \n",
    "# also works and is shorter!\n",
    "\n",
    "new_parks.head()"
   ]
  },
  {
   "cell_type": "code",
   "execution_count": 37,
   "id": "6904a673-4d56-4851-b1db-32c027363296",
   "metadata": {
    "tags": []
   },
   "outputs": [
    {
     "data": {
      "text/plain": [
       "1050226400.0"
      ]
     },
     "execution_count": 37,
     "metadata": {},
     "output_type": "execute_result"
    }
   ],
   "source": [
    "#Find the total number of visitors across all National Parks for each year from 2000-2015.\n",
    "\n",
    "new_parks['visitors'].sum()"
   ]
  },
  {
   "cell_type": "code",
   "execution_count": 40,
   "id": "e6b34ef2-a16b-4539-aa03-5741cc8f04d7",
   "metadata": {
    "tags": []
   },
   "outputs": [
    {
     "data": {
      "text/plain": [
       "unit_name\n",
       "Acadia National Park                               2.360204e+06\n",
       "Arches National Park                               9.433541e+05\n",
       "Badlands National Park                             9.171606e+05\n",
       "Big Bend National Park                             3.385452e+05\n",
       "Biscayne National Park                             5.086311e+05\n",
       "                                                       ...     \n",
       "Wolf Trap National Park for the Performing Arts    4.898754e+05\n",
       "Wrangell-St. Elias National Park                   5.886169e+04\n",
       "Yellowstone National Park                          3.184916e+06\n",
       "Yosemite National Park                             3.590033e+06\n",
       "Zion National Park                                 2.732917e+06\n",
       "Name: visitors, Length: 61, dtype: float64"
      ]
     },
     "execution_count": 40,
     "metadata": {},
     "output_type": "execute_result"
    }
   ],
   "source": [
    "# Calculate the average yearly visitors for each National Park during the 2000-2015 period.\n",
    "\n",
    "new_parks.groupby('unit_name')['visitors'].mean()"
   ]
  },
  {
   "cell_type": "code",
   "execution_count": 45,
   "id": "fc7370df-686e-49bb-a9d7-d7ff92908384",
   "metadata": {
    "tags": []
   },
   "outputs": [
    {
     "data": {
      "text/plain": [
       "unit_name\n",
       "Great Smoky Mountains National Park    151938054.0\n",
       "Grand Canyon National Park              70836419.0\n",
       "Yosemite National Park                  57440533.0\n",
       "Yellowstone National Park               50958648.0\n",
       "Olympic National Park                   50201663.0\n",
       "Name: visitors, dtype: float64"
      ]
     },
     "execution_count": 45,
     "metadata": {},
     "output_type": "execute_result"
    }
   ],
   "source": [
    "#Identify the top 5 most visited National Parks (based on total visitors) during the 2000-2015 period.\n",
    "\n",
    "new_parks.groupby('unit_name')['visitors'].sum().sort_values(ascending=False).head()"
   ]
  },
  {
   "cell_type": "code",
   "execution_count": 52,
   "id": "3950dbcc-46eb-4919-b43d-15acd027322d",
   "metadata": {
    "tags": []
   },
   "outputs": [
    {
     "name": "stdout",
     "output_type": "stream",
     "text": [
      "year\n",
      "1904      120690.0\n",
      "1905      140954.0\n",
      "1906       30569.0\n",
      "1907       32935.0\n",
      "1908       42768.0\n",
      "           ...    \n",
      "2012    65919193.0\n",
      "2013    64486815.0\n",
      "2014    69847696.0\n",
      "2015    76258329.0\n",
      "2016    83920334.0\n",
      "Name: visitors, Length: 113, dtype: float64\n"
     ]
    },
    {
     "data": {
      "text/plain": [
       "<Axes: xlabel='year'>"
      ]
     },
     "execution_count": 52,
     "metadata": {},
     "output_type": "execute_result"
    },
    {
     "data": {
      "image/png": "[encoded data removed]",
      "text/plain": [
       "<Figure size 640x480 with 1 Axes>"
      ]
     },
     "metadata": {},
     "output_type": "display_data"
    }
   ],
   "source": [
    "nat_df = parks_df[parks_df['unit_type'] == 'National Park']\n",
    "\n",
    "plot_df = nat_df.groupby('year')['visitors'].sum()\n",
    "print(plot_df)\n",
    "\n",
    "plot_df.plot()"
   ]
  }
 ],
 "metadata": {
  "kernelspec": {
   "display_name": "Python 3.10.0",
   "language": "python",
   "name": "python3.10.0"
  },
  "language_info": {
   "codemirror_mode": {
    "name": "ipython",
    "version": 3
   },
   "file_extension": ".py",
   "mimetype": "text/x-python",
   "name": "python",
   "nbconvert_exporter": "python",
   "pygments_lexer": "ipython3",
   "version": "3.10.0"
  }
 },
 "nbformat": 4,
 "nbformat_minor": 5
}
