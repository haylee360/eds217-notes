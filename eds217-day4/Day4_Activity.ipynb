{
 "cells": [
  {
   "cell_type": "markdown",
   "id": "ae525a4e-4aa7-488a-b7bd-65ccb8b6b3bf",
   "metadata": {},
   "source": [
    "# Day 4 End of Day Activity\n",
    "\n",
    "[session link](https://eds-217-essential-python.github.io/course-materials/eod-practice/eod-day4.html)"
   ]
  },
  {
   "cell_type": "code",
   "execution_count": 70,
   "id": "31bdf6c2-00e5-4a13-b2a8-68e9c57f9f94",
   "metadata": {
    "tags": []
   },
   "outputs": [
    {
     "data": {
      "text/html": [
       "<div>\n",
       "<style scoped>\n",
       "    .dataframe tbody tr th:only-of-type {\n",
       "        vertical-align: middle;\n",
       "    }\n",
       "\n",
       "    .dataframe tbody tr th {\n",
       "        vertical-align: top;\n",
       "    }\n",
       "\n",
       "    .dataframe thead th {\n",
       "        text-align: right;\n",
       "    }\n",
       "</style>\n",
       "<table border=\"1\" class=\"dataframe\">\n",
       "  <thead>\n",
       "    <tr style=\"text-align: right;\">\n",
       "      <th></th>\n",
       "      <th>OBJECTID</th>\n",
       "      <th>Oceans</th>\n",
       "      <th>Regions</th>\n",
       "      <th>SubRegions</th>\n",
       "      <th>Sampling Method</th>\n",
       "      <th>Measurement</th>\n",
       "      <th>Unit</th>\n",
       "      <th>Density Range</th>\n",
       "      <th>Density Class</th>\n",
       "      <th>Short Reference</th>\n",
       "      <th>...</th>\n",
       "      <th>Organization</th>\n",
       "      <th>Keywords</th>\n",
       "      <th>Accession Number</th>\n",
       "      <th>Accession Link</th>\n",
       "      <th>Latitude</th>\n",
       "      <th>Longitude</th>\n",
       "      <th>Date</th>\n",
       "      <th>GlobalID</th>\n",
       "      <th>x</th>\n",
       "      <th>y</th>\n",
       "    </tr>\n",
       "  </thead>\n",
       "  <tbody>\n",
       "    <tr>\n",
       "      <th>0</th>\n",
       "      <td>10008</td>\n",
       "      <td>Atlantic Ocean</td>\n",
       "      <td>NaN</td>\n",
       "      <td>NaN</td>\n",
       "      <td>Grab sample</td>\n",
       "      <td>0.020000</td>\n",
       "      <td>pieces/m3</td>\n",
       "      <td>0.005-1</td>\n",
       "      <td>Medium</td>\n",
       "      <td>Barrows et al.2018</td>\n",
       "      <td>...</td>\n",
       "      <td>Adventure Scientist</td>\n",
       "      <td>Adventure Scientist/Citizen Science</td>\n",
       "      <td>211009</td>\n",
       "      <td>https://www.ncei.noaa.gov/access/metadata/land...</td>\n",
       "      <td>-58.428300</td>\n",
       "      <td>-64.1640</td>\n",
       "      <td>2017-02-03</td>\n",
       "      <td>1e5b8e71-037b-4887-a276-f1e4552acb1f</td>\n",
       "      <td>-64.1640</td>\n",
       "      <td>-58.428300</td>\n",
       "    </tr>\n",
       "    <tr>\n",
       "      <th>1</th>\n",
       "      <td>8680</td>\n",
       "      <td>Atlantic Ocean</td>\n",
       "      <td>NaN</td>\n",
       "      <td>NaN</td>\n",
       "      <td>Grab sample</td>\n",
       "      <td>0.008000</td>\n",
       "      <td>pieces/m3</td>\n",
       "      <td>0.005-1</td>\n",
       "      <td>Medium</td>\n",
       "      <td>Barrows et al.2018</td>\n",
       "      <td>...</td>\n",
       "      <td>Adventure Scientist</td>\n",
       "      <td>Adventure Scientist/Citizen Science</td>\n",
       "      <td>211009</td>\n",
       "      <td>https://www.ncei.noaa.gov/access/metadata/land...</td>\n",
       "      <td>-51.308200</td>\n",
       "      <td>-60.5467</td>\n",
       "      <td>2013-11-17</td>\n",
       "      <td>a40f7f7c-1025-4aac-ad16-ee4cba196870</td>\n",
       "      <td>-60.5467</td>\n",
       "      <td>-51.308200</td>\n",
       "    </tr>\n",
       "    <tr>\n",
       "      <th>2</th>\n",
       "      <td>13257</td>\n",
       "      <td>Pacific Ocean</td>\n",
       "      <td>NaN</td>\n",
       "      <td>NaN</td>\n",
       "      <td>Manta net</td>\n",
       "      <td>0.019886</td>\n",
       "      <td>pieces/m3</td>\n",
       "      <td>0.005-1</td>\n",
       "      <td>Medium</td>\n",
       "      <td>Faure et al.2015</td>\n",
       "      <td>...</td>\n",
       "      <td>Oceaneye Association,  Switzerland</td>\n",
       "      <td>Oceaneye Association; Citizen Science</td>\n",
       "      <td>276422</td>\n",
       "      <td>https://www.ncei.noaa.gov/access/metadata/land...</td>\n",
       "      <td>-51.826667</td>\n",
       "      <td>-72.5750</td>\n",
       "      <td>2015-12-26</td>\n",
       "      <td>febf79b8-7e2c-46e6-bc15-e08492ec2029</td>\n",
       "      <td>-72.5750</td>\n",
       "      <td>-51.826667</td>\n",
       "    </tr>\n",
       "    <tr>\n",
       "      <th>3</th>\n",
       "      <td>9676</td>\n",
       "      <td>Atlantic Ocean</td>\n",
       "      <td>NaN</td>\n",
       "      <td>NaN</td>\n",
       "      <td>Grab sample</td>\n",
       "      <td>0.018000</td>\n",
       "      <td>pieces/m3</td>\n",
       "      <td>0.005-1</td>\n",
       "      <td>Medium</td>\n",
       "      <td>Barrows et al.2018</td>\n",
       "      <td>...</td>\n",
       "      <td>Adventure Scientist</td>\n",
       "      <td>Adventure Scientist/Citizen Science</td>\n",
       "      <td>211009</td>\n",
       "      <td>https://www.ncei.noaa.gov/access/metadata/land...</td>\n",
       "      <td>-31.696000</td>\n",
       "      <td>-48.5600</td>\n",
       "      <td>2015-08-11</td>\n",
       "      <td>a77121b2-e113-444e-82d9-7af11d62fdd2</td>\n",
       "      <td>-48.5600</td>\n",
       "      <td>-31.696000</td>\n",
       "    </tr>\n",
       "    <tr>\n",
       "      <th>4</th>\n",
       "      <td>6427</td>\n",
       "      <td>Pacific Ocean</td>\n",
       "      <td>NaN</td>\n",
       "      <td>NaN</td>\n",
       "      <td>Neuston net</td>\n",
       "      <td>0.000000</td>\n",
       "      <td>pieces/m3</td>\n",
       "      <td>0-0.0005</td>\n",
       "      <td>Very Low</td>\n",
       "      <td>Law et al.2014</td>\n",
       "      <td>...</td>\n",
       "      <td>Sea Education Association</td>\n",
       "      <td>SEA</td>\n",
       "      <td>211008</td>\n",
       "      <td>https://www.ncei.noaa.gov/access/metadata/land...</td>\n",
       "      <td>6.350000</td>\n",
       "      <td>-121.8500</td>\n",
       "      <td>2002-12-18</td>\n",
       "      <td>be27c450-02ca-4261-8d89-cae21108e6cc</td>\n",
       "      <td>-121.8500</td>\n",
       "      <td>6.350000</td>\n",
       "    </tr>\n",
       "  </tbody>\n",
       "</table>\n",
       "<p>5 rows × 22 columns</p>\n",
       "</div>"
      ],
      "text/plain": [
       "   OBJECTID          Oceans Regions SubRegions Sampling Method  Measurement  \\\n",
       "0     10008  Atlantic Ocean     NaN        NaN     Grab sample     0.020000   \n",
       "1      8680  Atlantic Ocean     NaN        NaN     Grab sample     0.008000   \n",
       "2     13257   Pacific Ocean     NaN        NaN       Manta net     0.019886   \n",
       "3      9676  Atlantic Ocean     NaN        NaN     Grab sample     0.018000   \n",
       "4      6427   Pacific Ocean     NaN        NaN     Neuston net     0.000000   \n",
       "\n",
       "        Unit Density Range Density Class     Short Reference  ...  \\\n",
       "0  pieces/m3       0.005-1        Medium  Barrows et al.2018  ...   \n",
       "1  pieces/m3       0.005-1        Medium  Barrows et al.2018  ...   \n",
       "2  pieces/m3       0.005-1        Medium    Faure et al.2015  ...   \n",
       "3  pieces/m3       0.005-1        Medium  Barrows et al.2018  ...   \n",
       "4  pieces/m3      0-0.0005      Very Low      Law et al.2014  ...   \n",
       "\n",
       "                         Organization                               Keywords  \\\n",
       "0                 Adventure Scientist    Adventure Scientist/Citizen Science   \n",
       "1                 Adventure Scientist    Adventure Scientist/Citizen Science   \n",
       "2  Oceaneye Association,  Switzerland  Oceaneye Association; Citizen Science   \n",
       "3                 Adventure Scientist    Adventure Scientist/Citizen Science   \n",
       "4           Sea Education Association                                    SEA   \n",
       "\n",
       "  Accession Number                                     Accession Link  \\\n",
       "0           211009  https://www.ncei.noaa.gov/access/metadata/land...   \n",
       "1           211009  https://www.ncei.noaa.gov/access/metadata/land...   \n",
       "2           276422  https://www.ncei.noaa.gov/access/metadata/land...   \n",
       "3           211009  https://www.ncei.noaa.gov/access/metadata/land...   \n",
       "4           211008  https://www.ncei.noaa.gov/access/metadata/land...   \n",
       "\n",
       "    Latitude Longitude       Date                              GlobalID  \\\n",
       "0 -58.428300  -64.1640 2017-02-03  1e5b8e71-037b-4887-a276-f1e4552acb1f   \n",
       "1 -51.308200  -60.5467 2013-11-17  a40f7f7c-1025-4aac-ad16-ee4cba196870   \n",
       "2 -51.826667  -72.5750 2015-12-26  febf79b8-7e2c-46e6-bc15-e08492ec2029   \n",
       "3 -31.696000  -48.5600 2015-08-11  a77121b2-e113-444e-82d9-7af11d62fdd2   \n",
       "4   6.350000 -121.8500 2002-12-18  be27c450-02ca-4261-8d89-cae21108e6cc   \n",
       "\n",
       "          x          y  \n",
       "0  -64.1640 -58.428300  \n",
       "1  -60.5467 -51.308200  \n",
       "2  -72.5750 -51.826667  \n",
       "3  -48.5600 -31.696000  \n",
       "4 -121.8500   6.350000  \n",
       "\n",
       "[5 rows x 22 columns]"
      ]
     },
     "execution_count": 70,
     "metadata": {},
     "output_type": "execute_result"
    }
   ],
   "source": [
    "import pandas as pd\n",
    "import numpy as np\n",
    "\n",
    "\n",
    "url = 'https://ucsb.box.com/shared/static/dnnu59jsnkymup6o8aaovdywrtxiy3a9.csv'\n",
    "df = pd.read_csv(url, parse_dates=[\"Date\"], date_format = \"%m/%d/%Y %I:%M:%S %p\")\n",
    "df.dtypes\n",
    "df.head()"
   ]
  },
  {
   "cell_type": "markdown",
   "id": "3be3fee0-c54b-427a-9afd-5b3cae418eaa",
   "metadata": {},
   "source": [
    "## Part 2 Exploring the Data"
   ]
  },
  {
   "cell_type": "code",
   "execution_count": 9,
   "id": "02d84c84-6c05-43f0-884f-ed8674e41740",
   "metadata": {
    "tags": []
   },
   "outputs": [],
   "source": [
    "print(df.describe())"
   ]
  },
  {
   "cell_type": "code",
   "execution_count": 10,
   "id": "b60b9c75-4117-4a92-bbd9-086c9cbd0b27",
   "metadata": {
    "tags": []
   },
   "outputs": [
    {
     "name": "stdout",
     "output_type": "stream",
     "text": [
      "OBJECTID              int64\n",
      "Oceans               object\n",
      "Regions              object\n",
      "SubRegions           object\n",
      "Sampling Method      object\n",
      "Measurement         float64\n",
      "Unit                 object\n",
      "Density Range        object\n",
      "Density Class        object\n",
      "Short Reference      object\n",
      "Long Reference       object\n",
      "DOI                  object\n",
      "Organization         object\n",
      "Keywords             object\n",
      "Accession Number      int64\n",
      "Accession Link       object\n",
      "Latitude            float64\n",
      "Longitude           float64\n",
      "Date                 object\n",
      "GlobalID             object\n",
      "x                   float64\n",
      "y                   float64\n",
      "dtype: object\n"
     ]
    }
   ],
   "source": [
    "print(df.dtypes)"
   ]
  },
  {
   "cell_type": "code",
   "execution_count": 15,
   "id": "c27cd7de-4c55-4565-a06c-4560d270ebc1",
   "metadata": {
    "tags": []
   },
   "outputs": [],
   "source": [
    "df.isnull().sum()\n",
    "\n",
    "df = df.dropna(subset=['Oceans'])"
   ]
  },
  {
   "cell_type": "code",
   "execution_count": 17,
   "id": "dc5df33c-1fd7-4c76-9fd1-ce77fe4f5855",
   "metadata": {
    "tags": []
   },
   "outputs": [
    {
     "data": {
      "text/plain": [
       "OBJECTID                0\n",
       "Oceans                  0\n",
       "Regions              7978\n",
       "SubRegions          15386\n",
       "Sampling Method         0\n",
       "Measurement          5521\n",
       "Unit                    0\n",
       "Density Range           0\n",
       "Density Class           0\n",
       "Short Reference         0\n",
       "Long Reference          0\n",
       "DOI                     0\n",
       "Organization            0\n",
       "Keywords               18\n",
       "Accession Number        0\n",
       "Accession Link          0\n",
       "Latitude                0\n",
       "Longitude               0\n",
       "Date                    0\n",
       "GlobalID                0\n",
       "x                       0\n",
       "y                       0\n",
       "dtype: int64"
      ]
     },
     "execution_count": 17,
     "metadata": {},
     "output_type": "execute_result"
    }
   ],
   "source": [
    "df.isnull().sum()"
   ]
  },
  {
   "cell_type": "code",
   "execution_count": 18,
   "id": "1b943b20-2c98-4f0b-8be2-3cc9209ed2db",
   "metadata": {
    "tags": []
   },
   "outputs": [],
   "source": [
    "# Use ~ to invert. Use only the data that aren't null\n",
    "# df_valid = df[~(df['column'].isnull())].copy()"
   ]
  },
  {
   "cell_type": "markdown",
   "id": "2423e13e-3263-4056-bed0-952cadc4af28",
   "metadata": {},
   "source": [
    "Create a groupby object called oceans that groups the data in df according to the value of the Oceans column.\n",
    "\n",
    "Determine the total number of Measurements taken from each Ocean.\n",
    "\n",
    "Determine the average value of Measurement taken from each Ocean."
   ]
  },
  {
   "cell_type": "markdown",
   "id": "c3b29dc0-7f45-4357-bb8a-838bcb350516",
   "metadata": {},
   "source": [
    "## Grouping the Data"
   ]
  },
  {
   "cell_type": "code",
   "execution_count": 25,
   "id": "8208ac1e-12c7-414b-868a-59cba4ae69d0",
   "metadata": {
    "tags": []
   },
   "outputs": [
    {
     "name": "stdout",
     "output_type": "stream",
     "text": [
      "Oceans\n",
      "Arctic Ocean        69\n",
      "Atlantic Ocean    9314\n",
      "Pacific Ocean     1050\n",
      "Southern Ocean      20\n",
      "Name: Measurement, dtype: int64\n",
      "Oceans\n",
      "Arctic Ocean        1.916192\n",
      "Atlantic Ocean    202.347671\n",
      "Pacific Ocean     452.918721\n",
      "Southern Ocean      0.068133\n",
      "Name: Measurement, dtype: float64\n"
     ]
    }
   ],
   "source": [
    "print(df.groupby('Oceans')['Measurement'].count())\n",
    "\n",
    "print(df.groupby('Oceans')['Measurement'].mean())\n"
   ]
  },
  {
   "cell_type": "markdown",
   "id": "ae613edb-8cac-4d26-a58b-30f8afaee382",
   "metadata": {},
   "source": [
    "## Filtering and Aggregating\n",
    "\n",
    "Filter the data to a new df (called df2) that only contains rows where the Unit of measurement is pieces/m3\n",
    "\n",
    "Use the groupby and the max() command to determine the Maximum value of pieces/m3 measured for each Ocean"
   ]
  },
  {
   "cell_type": "code",
   "execution_count": 37,
   "id": "60520e60-0394-4c48-afbb-4bcf30295fb9",
   "metadata": {
    "tags": []
   },
   "outputs": [
    {
     "data": {
      "text/plain": [
       "array(['pieces/m3'], dtype=object)"
      ]
     },
     "execution_count": 37,
     "metadata": {},
     "output_type": "execute_result"
    }
   ],
   "source": [
    "df2 = df[df['Unit'] == 'pieces/m3'].copy()\n",
    "np.unique(df2['Unit'])"
   ]
  },
  {
   "cell_type": "code",
   "execution_count": 36,
   "id": "0e4e979d-a77c-4eab-a109-77b7f4e8d75d",
   "metadata": {
    "tags": []
   },
   "outputs": [
    {
     "data": {
      "text/plain": [
       "Oceans\n",
       "Arctic Ocean          63.000000\n",
       "Atlantic Ocean    110480.000000\n",
       "Pacific Ocean      21156.558533\n",
       "Southern Ocean         0.499663\n",
       "Name: Measurement, dtype: float64"
      ]
     },
     "execution_count": 36,
     "metadata": {},
     "output_type": "execute_result"
    }
   ],
   "source": [
    "df2.groupby('Oceans')['Measurement'].max()"
   ]
  },
  {
   "cell_type": "markdown",
   "id": "df4789be-cff2-4e97-9748-495c84898dbc",
   "metadata": {},
   "source": [
    "## 5. Plotting\n",
    "\n",
    "Make a histogram of the latitude of every sample in your filtered dataframe using the DataFrame plot command.\n"
   ]
  },
  {
   "cell_type": "code",
   "execution_count": 42,
   "id": "28b4c5a2-a06f-445f-b0a9-09190b2231cd",
   "metadata": {
    "tags": []
   },
   "outputs": [
    {
     "data": {
      "text/plain": [
       "<Axes: ylabel='Frequency'>"
      ]
     },
     "execution_count": 42,
     "metadata": {},
     "output_type": "execute_result"
    },
    {
     "data": {
      "image/png": "[encoded data removed]",
      "text/plain": [
       "<Figure size 640x480 with 1 Axes>"
      ]
     },
     "metadata": {},
     "output_type": "display_data"
    }
   ],
   "source": [
    "df2['Latitude'].plot(kind = 'hist')"
   ]
  },
  {
   "cell_type": "code",
   "execution_count": 50,
   "id": "c0d96fea-f35d-4ae8-95fa-08ca0738192b",
   "metadata": {
    "tags": []
   },
   "outputs": [],
   "source": [
    "#Make a new dataframe (df3) from your filtered dataframe (df2) that contains only rows where Measurement is greater than zero.\n",
    "df3 = df2[df2['Measurement'] > 0].copy()"
   ]
  },
  {
   "cell_type": "code",
   "execution_count": 51,
   "id": "086362a6-b748-4a67-95a0-f26c4481b12f",
   "metadata": {
    "tags": []
   },
   "outputs": [
    {
     "data": {
      "text/html": [
       "<div>\n",
       "<style scoped>\n",
       "    .dataframe tbody tr th:only-of-type {\n",
       "        vertical-align: middle;\n",
       "    }\n",
       "\n",
       "    .dataframe tbody tr th {\n",
       "        vertical-align: top;\n",
       "    }\n",
       "\n",
       "    .dataframe thead th {\n",
       "        text-align: right;\n",
       "    }\n",
       "</style>\n",
       "<table border=\"1\" class=\"dataframe\">\n",
       "  <thead>\n",
       "    <tr style=\"text-align: right;\">\n",
       "      <th></th>\n",
       "      <th>OBJECTID</th>\n",
       "      <th>Oceans</th>\n",
       "      <th>Regions</th>\n",
       "      <th>SubRegions</th>\n",
       "      <th>Sampling Method</th>\n",
       "      <th>Measurement</th>\n",
       "      <th>Unit</th>\n",
       "      <th>Density Range</th>\n",
       "      <th>Density Class</th>\n",
       "      <th>Short Reference</th>\n",
       "      <th>...</th>\n",
       "      <th>Keywords</th>\n",
       "      <th>Accession Number</th>\n",
       "      <th>Accession Link</th>\n",
       "      <th>Latitude</th>\n",
       "      <th>Longitude</th>\n",
       "      <th>Date</th>\n",
       "      <th>GlobalID</th>\n",
       "      <th>x</th>\n",
       "      <th>y</th>\n",
       "      <th>log10</th>\n",
       "    </tr>\n",
       "  </thead>\n",
       "  <tbody>\n",
       "    <tr>\n",
       "      <th>0</th>\n",
       "      <td>10008</td>\n",
       "      <td>Atlantic Ocean</td>\n",
       "      <td>NaN</td>\n",
       "      <td>NaN</td>\n",
       "      <td>Grab sample</td>\n",
       "      <td>0.020000</td>\n",
       "      <td>pieces/m3</td>\n",
       "      <td>0.005-1</td>\n",
       "      <td>Medium</td>\n",
       "      <td>Barrows et al.2018</td>\n",
       "      <td>...</td>\n",
       "      <td>Adventure Scientist/Citizen Science</td>\n",
       "      <td>211009</td>\n",
       "      <td>https://www.ncei.noaa.gov/access/metadata/land...</td>\n",
       "      <td>-58.428300</td>\n",
       "      <td>-64.1640</td>\n",
       "      <td>2/3/2017 12:00:00 AM</td>\n",
       "      <td>1e5b8e71-037b-4887-a276-f1e4552acb1f</td>\n",
       "      <td>-64.1640</td>\n",
       "      <td>-58.428300</td>\n",
       "      <td>-1.698970</td>\n",
       "    </tr>\n",
       "    <tr>\n",
       "      <th>1</th>\n",
       "      <td>8680</td>\n",
       "      <td>Atlantic Ocean</td>\n",
       "      <td>NaN</td>\n",
       "      <td>NaN</td>\n",
       "      <td>Grab sample</td>\n",
       "      <td>0.008000</td>\n",
       "      <td>pieces/m3</td>\n",
       "      <td>0.005-1</td>\n",
       "      <td>Medium</td>\n",
       "      <td>Barrows et al.2018</td>\n",
       "      <td>...</td>\n",
       "      <td>Adventure Scientist/Citizen Science</td>\n",
       "      <td>211009</td>\n",
       "      <td>https://www.ncei.noaa.gov/access/metadata/land...</td>\n",
       "      <td>-51.308200</td>\n",
       "      <td>-60.5467</td>\n",
       "      <td>11/17/2013 12:00:00 AM</td>\n",
       "      <td>a40f7f7c-1025-4aac-ad16-ee4cba196870</td>\n",
       "      <td>-60.5467</td>\n",
       "      <td>-51.308200</td>\n",
       "      <td>-2.096910</td>\n",
       "    </tr>\n",
       "    <tr>\n",
       "      <th>2</th>\n",
       "      <td>13257</td>\n",
       "      <td>Pacific Ocean</td>\n",
       "      <td>NaN</td>\n",
       "      <td>NaN</td>\n",
       "      <td>Manta net</td>\n",
       "      <td>0.019886</td>\n",
       "      <td>pieces/m3</td>\n",
       "      <td>0.005-1</td>\n",
       "      <td>Medium</td>\n",
       "      <td>Faure et al.2015</td>\n",
       "      <td>...</td>\n",
       "      <td>Oceaneye Association; Citizen Science</td>\n",
       "      <td>276422</td>\n",
       "      <td>https://www.ncei.noaa.gov/access/metadata/land...</td>\n",
       "      <td>-51.826667</td>\n",
       "      <td>-72.5750</td>\n",
       "      <td>12/26/2015 12:00:00 AM</td>\n",
       "      <td>febf79b8-7e2c-46e6-bc15-e08492ec2029</td>\n",
       "      <td>-72.5750</td>\n",
       "      <td>-51.826667</td>\n",
       "      <td>-1.701453</td>\n",
       "    </tr>\n",
       "    <tr>\n",
       "      <th>3</th>\n",
       "      <td>9676</td>\n",
       "      <td>Atlantic Ocean</td>\n",
       "      <td>NaN</td>\n",
       "      <td>NaN</td>\n",
       "      <td>Grab sample</td>\n",
       "      <td>0.018000</td>\n",
       "      <td>pieces/m3</td>\n",
       "      <td>0.005-1</td>\n",
       "      <td>Medium</td>\n",
       "      <td>Barrows et al.2018</td>\n",
       "      <td>...</td>\n",
       "      <td>Adventure Scientist/Citizen Science</td>\n",
       "      <td>211009</td>\n",
       "      <td>https://www.ncei.noaa.gov/access/metadata/land...</td>\n",
       "      <td>-31.696000</td>\n",
       "      <td>-48.5600</td>\n",
       "      <td>8/11/2015 12:00:00 AM</td>\n",
       "      <td>a77121b2-e113-444e-82d9-7af11d62fdd2</td>\n",
       "      <td>-48.5600</td>\n",
       "      <td>-31.696000</td>\n",
       "      <td>-1.744727</td>\n",
       "    </tr>\n",
       "    <tr>\n",
       "      <th>5</th>\n",
       "      <td>10672</td>\n",
       "      <td>Pacific Ocean</td>\n",
       "      <td>NaN</td>\n",
       "      <td>NaN</td>\n",
       "      <td>Manta net</td>\n",
       "      <td>0.013000</td>\n",
       "      <td>pieces/m3</td>\n",
       "      <td>0.005-1</td>\n",
       "      <td>Medium</td>\n",
       "      <td>Goldstein et al.2013</td>\n",
       "      <td>...</td>\n",
       "      <td>Great Pacific Garbage Patch/SEAPLEX</td>\n",
       "      <td>253448</td>\n",
       "      <td>https://www.ncei.noaa.gov/access/metadata/land...</td>\n",
       "      <td>0.500000</td>\n",
       "      <td>-95.3500</td>\n",
       "      <td>10/17/2006 12:00:00 AM</td>\n",
       "      <td>23effcdd-35b7-4e1e-adb4-390693a287d3</td>\n",
       "      <td>-95.3500</td>\n",
       "      <td>0.500000</td>\n",
       "      <td>-1.886057</td>\n",
       "    </tr>\n",
       "  </tbody>\n",
       "</table>\n",
       "<p>5 rows × 23 columns</p>\n",
       "</div>"
      ],
      "text/plain": [
       "   OBJECTID          Oceans Regions SubRegions Sampling Method  Measurement  \\\n",
       "0     10008  Atlantic Ocean     NaN        NaN     Grab sample     0.020000   \n",
       "1      8680  Atlantic Ocean     NaN        NaN     Grab sample     0.008000   \n",
       "2     13257   Pacific Ocean     NaN        NaN       Manta net     0.019886   \n",
       "3      9676  Atlantic Ocean     NaN        NaN     Grab sample     0.018000   \n",
       "5     10672   Pacific Ocean     NaN        NaN       Manta net     0.013000   \n",
       "\n",
       "        Unit Density Range Density Class       Short Reference  ...  \\\n",
       "0  pieces/m3       0.005-1        Medium    Barrows et al.2018  ...   \n",
       "1  pieces/m3       0.005-1        Medium    Barrows et al.2018  ...   \n",
       "2  pieces/m3       0.005-1        Medium      Faure et al.2015  ...   \n",
       "3  pieces/m3       0.005-1        Medium    Barrows et al.2018  ...   \n",
       "5  pieces/m3       0.005-1        Medium  Goldstein et al.2013  ...   \n",
       "\n",
       "                                Keywords Accession Number  \\\n",
       "0    Adventure Scientist/Citizen Science           211009   \n",
       "1    Adventure Scientist/Citizen Science           211009   \n",
       "2  Oceaneye Association; Citizen Science           276422   \n",
       "3    Adventure Scientist/Citizen Science           211009   \n",
       "5    Great Pacific Garbage Patch/SEAPLEX           253448   \n",
       "\n",
       "                                      Accession Link   Latitude  Longitude  \\\n",
       "0  https://www.ncei.noaa.gov/access/metadata/land... -58.428300   -64.1640   \n",
       "1  https://www.ncei.noaa.gov/access/metadata/land... -51.308200   -60.5467   \n",
       "2  https://www.ncei.noaa.gov/access/metadata/land... -51.826667   -72.5750   \n",
       "3  https://www.ncei.noaa.gov/access/metadata/land... -31.696000   -48.5600   \n",
       "5  https://www.ncei.noaa.gov/access/metadata/land...   0.500000   -95.3500   \n",
       "\n",
       "                     Date                              GlobalID        x  \\\n",
       "0    2/3/2017 12:00:00 AM  1e5b8e71-037b-4887-a276-f1e4552acb1f -64.1640   \n",
       "1  11/17/2013 12:00:00 AM  a40f7f7c-1025-4aac-ad16-ee4cba196870 -60.5467   \n",
       "2  12/26/2015 12:00:00 AM  febf79b8-7e2c-46e6-bc15-e08492ec2029 -72.5750   \n",
       "3   8/11/2015 12:00:00 AM  a77121b2-e113-444e-82d9-7af11d62fdd2 -48.5600   \n",
       "5  10/17/2006 12:00:00 AM  23effcdd-35b7-4e1e-adb4-390693a287d3 -95.3500   \n",
       "\n",
       "           y     log10  \n",
       "0 -58.428300 -1.698970  \n",
       "1 -51.308200 -2.096910  \n",
       "2 -51.826667 -1.701453  \n",
       "3 -31.696000 -1.744727  \n",
       "5   0.500000 -1.886057  \n",
       "\n",
       "[5 rows x 23 columns]"
      ]
     },
     "execution_count": 51,
     "metadata": {},
     "output_type": "execute_result"
    }
   ],
   "source": [
    "df3['log10'] = np.log10(df3['Measurement'])\n",
    "df3.head()"
   ]
  },
  {
   "cell_type": "code",
   "execution_count": 52,
   "id": "869e58bb-0e08-4bcf-90cf-926016b18145",
   "metadata": {
    "tags": []
   },
   "outputs": [
    {
     "data": {
      "text/plain": [
       "<Axes: ylabel='Frequency'>"
      ]
     },
     "execution_count": 52,
     "metadata": {},
     "output_type": "execute_result"
    },
    {
     "data": {
      "image/png": "[encoded data removed]",
      "text/plain": [
       "<Figure size 640x480 with 1 Axes>"
      ]
     },
     "metadata": {},
     "output_type": "display_data"
    }
   ],
   "source": [
    "df3['log10'].plot(kind='hist')"
   ]
  }
 ],
 "metadata": {
  "kernelspec": {
   "display_name": "Python 3.10.0",
   "language": "python",
   "name": "python3.10.0"
  },
  "language_info": {
   "codemirror_mode": {
    "name": "ipython",
    "version": 3
   },
   "file_extension": ".py",
   "mimetype": "text/x-python",
   "name": "python",
   "nbconvert_exporter": "python",
   "pygments_lexer": "ipython3",
   "version": "3.10.0"
  }
 },
 "nbformat": 4,
 "nbformat_minor": 5
}
