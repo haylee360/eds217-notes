{
 "cells": [
  {
   "cell_type": "markdown",
   "id": "ca3898c6-2f54-4c9d-8829-c7ca2b54ad4b",
   "metadata": {},
   "source": [
    "# My First Notebook\n",
    "\n",
    "[Link to Session 1B](https://eds-217-essential-python.github.io/course-materials/interactive-sessions/1b_Jupyter_Notebooks.html)\n",
    "\n",
    "A little code block:\n",
    "```python\n",
    "# Assignment in python\n",
    "a = 3\n",
    "\n",
    "# Assignment in R\n",
    "a <- 3\n",
    "```"
   ]
  },
  {
   "cell_type": "code",
   "execution_count": null,
   "id": "6d48afe7-e418-4bed-a543-6e60735e5826",
   "metadata": {},
   "outputs": [
    {
     "data": {
      "text/plain": [
       "6"
      ]
     },
     "execution_count": 1,
     "metadata": {},
     "output_type": "execute_result"
    }
   ],
   "source": [
    "3 + 3"
   ]
  },
  {
   "cell_type": "code",
   "execution_count": 2,
   "id": "250568b6-ee1d-4e86-a1c8-3f841f11db29",
   "metadata": {
    "tags": []
   },
   "outputs": [
    {
     "data": {
      "text/plain": [
       "9"
      ]
     },
     "execution_count": 2,
     "metadata": {},
     "output_type": "execute_result"
    }
   ],
   "source": [
    "4 + 5"
   ]
  },
  {
   "cell_type": "code",
   "execution_count": 3,
   "id": "4400be40-0915-4a1b-9ecf-5f276285f933",
   "metadata": {
    "tags": []
   },
   "outputs": [
    {
     "name": "stdout",
     "output_type": "stream",
     "text": [
      "Hello, Jupyter!\n"
     ]
    }
   ],
   "source": [
    "# Simple Python code\n",
    "print(\"Hello, Jupyter!\")"
   ]
  },
  {
   "cell_type": "code",
   "execution_count": 5,
   "id": "cbd5814d-f528-4f82-b7b9-b1f87b17fdc7",
   "metadata": {
    "tags": []
   },
   "outputs": [],
   "source": [
    "from IPython.display import Image, display\n",
    "\n",
    "# Display an image\n",
    "img_path = 'https://jupyterlab.readthedocs.io/en/stable/_images/interface-jupyterlab.png'"
   ]
  },
  {
   "cell_type": "code",
   "execution_count": 9,
   "id": "a55089d5-6cb6-4558-8152-0e6f96b01cd9",
   "metadata": {
    "tags": []
   },
   "outputs": [
    {
     "data": {
      "text/html": [
       "<img src=\"https://jupyterlab.readthedocs.io/en/stable/_images/interface-jupyterlab.png\" width=\"700\"/>"
      ],
      "text/plain": [
       "<IPython.core.display.Image object>"
      ]
     },
     "metadata": {},
     "output_type": "display_data"
    }
   ],
   "source": [
    "display(Image(url=img_path, width=700))"
   ]
  }
 ],
 "metadata": {
  "kernelspec": {
   "display_name": "Python 3 (ipykernel)",
   "language": "python",
   "name": "python3"
  },
  "language_info": {
   "codemirror_mode": {
    "name": "ipython",
    "version": 3
   },
   "file_extension": ".py",
   "mimetype": "text/x-python",
   "name": "python",
   "nbconvert_exporter": "python",
   "pygments_lexer": "ipython3",
   "version": "3.7.13"
  }
 },
 "nbformat": 4,
 "nbformat_minor": 5
}
