{
 "cells": [
  {
   "cell_type": "markdown",
   "id": "ae0521c4-b1fa-4236-9627-b3881f8cd657",
   "metadata": {},
   "source": [
    "# Day 1 Activity\n",
    "[Activity link](https://eds-217-essential-python.github.io/course-materials/eod-practice/eod-day1.html)"
   ]
  },
  {
   "cell_type": "markdown",
   "id": "47900d02-d8dd-4331-b2ec-0c6afdd76076",
   "metadata": {},
   "source": [
    "0. get ready\n",
    "1. import\n",
    "2. clean\n",
    "3. filter\n",
    "4. sort\n",
    "5. transform\n",
    "6. group\n",
    "7. aggregate\n",
    "8. plot"
   ]
  },
  {
   "cell_type": "code",
   "execution_count": 10,
   "id": "ef678840-e534-4974-bef4-af4b30a3f4e9",
   "metadata": {
    "tags": []
   },
   "outputs": [],
   "source": [
    "# import libraries \n",
    "\n",
    "import pandas as pd\n",
    "import matplotlib.pyplot as plt"
   ]
  },
  {
   "cell_type": "code",
   "execution_count": 11,
   "id": "ac7f2fe0-e081-41e6-a577-4f87b6e14e5f",
   "metadata": {
    "tags": []
   },
   "outputs": [],
   "source": [
    "# Read in the data\n",
    "\n",
    "# make a url variable\n",
    "url = \"https://raw.githubusercontent.com/environmental-data-science/eds217-day0-comp/main/data/raw_data/toolik_weather.csv\"\n",
    "\n",
    "#import the url into a data frame using pd.read_csv\n",
    "df = pd.read_csv(url)"
   ]
  },
  {
   "cell_type": "code",
   "execution_count": 12,
   "id": "7b0ad430-affd-4d00-aa01-c5fb87740356",
   "metadata": {
    "tags": []
   },
   "outputs": [
    {
     "data": {
      "text/html": [
       "<div>\n",
       "<style scoped>\n",
       "    .dataframe tbody tr th:only-of-type {\n",
       "        vertical-align: middle;\n",
       "    }\n",
       "\n",
       "    .dataframe tbody tr th {\n",
       "        vertical-align: top;\n",
       "    }\n",
       "\n",
       "    .dataframe thead th {\n",
       "        text-align: right;\n",
       "    }\n",
       "</style>\n",
       "<table border=\"1\" class=\"dataframe\">\n",
       "  <thead>\n",
       "    <tr style=\"text-align: right;\">\n",
       "      <th></th>\n",
       "      <th>Year</th>\n",
       "      <th>Month</th>\n",
       "      <th>Date</th>\n",
       "      <th>LTER_Site</th>\n",
       "      <th>Station</th>\n",
       "      <th>Daily_AirTemp_Mean_C</th>\n",
       "      <th>Flag_Daily_AirTemp_Mean_C</th>\n",
       "      <th>Daily_AirTemp_AbsMax_C</th>\n",
       "      <th>Flag_Daily_AirTemp_AbsMax_C</th>\n",
       "      <th>Daily_AirTemp_AbsMin_C</th>\n",
       "      <th>...</th>\n",
       "      <th>Daily_Precip_Total_mm</th>\n",
       "      <th>Flag_Daily_Precip_Total_mm</th>\n",
       "      <th>Daily_windsp_mean_msec</th>\n",
       "      <th>FLAG_Daily_windsp_mean_msec</th>\n",
       "      <th>Daily_Windspeed_AbsMax_m_s</th>\n",
       "      <th>Daily_globalrad_total_jcm2</th>\n",
       "      <th>FLAG_Daily_globalrad_total_mjm2</th>\n",
       "      <th>Moss</th>\n",
       "      <th>Soil20cm</th>\n",
       "      <th>Comments</th>\n",
       "    </tr>\n",
       "  </thead>\n",
       "  <tbody>\n",
       "    <tr>\n",
       "      <th>0</th>\n",
       "      <td>1988</td>\n",
       "      <td>6</td>\n",
       "      <td>19880601</td>\n",
       "      <td>ARC</td>\n",
       "      <td>TLKMAIN</td>\n",
       "      <td>8.4</td>\n",
       "      <td>E</td>\n",
       "      <td>NaN</td>\n",
       "      <td>NaN</td>\n",
       "      <td>NaN</td>\n",
       "      <td>...</td>\n",
       "      <td>0.0</td>\n",
       "      <td>E</td>\n",
       "      <td>NaN</td>\n",
       "      <td>NaN</td>\n",
       "      <td>NaN</td>\n",
       "      <td>NaN</td>\n",
       "      <td>NaN</td>\n",
       "      <td>NaN</td>\n",
       "      <td>NaN</td>\n",
       "      <td>Air temp  1 &amp; 5 meter estimated from regressio...</td>\n",
       "    </tr>\n",
       "    <tr>\n",
       "      <th>1</th>\n",
       "      <td>1988</td>\n",
       "      <td>6</td>\n",
       "      <td>19880602</td>\n",
       "      <td>ARC</td>\n",
       "      <td>TLKMAIN</td>\n",
       "      <td>6.0</td>\n",
       "      <td>E</td>\n",
       "      <td>NaN</td>\n",
       "      <td>NaN</td>\n",
       "      <td>NaN</td>\n",
       "      <td>...</td>\n",
       "      <td>0.0</td>\n",
       "      <td>E</td>\n",
       "      <td>NaN</td>\n",
       "      <td>NaN</td>\n",
       "      <td>NaN</td>\n",
       "      <td>NaN</td>\n",
       "      <td>NaN</td>\n",
       "      <td>NaN</td>\n",
       "      <td>NaN</td>\n",
       "      <td>Air temp  1 &amp; 5 meter estimated from regressio...</td>\n",
       "    </tr>\n",
       "    <tr>\n",
       "      <th>2</th>\n",
       "      <td>1988</td>\n",
       "      <td>6</td>\n",
       "      <td>19880603</td>\n",
       "      <td>ARC</td>\n",
       "      <td>TLKMAIN</td>\n",
       "      <td>5.8</td>\n",
       "      <td>E</td>\n",
       "      <td>NaN</td>\n",
       "      <td>NaN</td>\n",
       "      <td>NaN</td>\n",
       "      <td>...</td>\n",
       "      <td>0.0</td>\n",
       "      <td>E</td>\n",
       "      <td>NaN</td>\n",
       "      <td>NaN</td>\n",
       "      <td>NaN</td>\n",
       "      <td>NaN</td>\n",
       "      <td>NaN</td>\n",
       "      <td>NaN</td>\n",
       "      <td>NaN</td>\n",
       "      <td>Air temp  1 &amp; 5 meter estimated from regressio...</td>\n",
       "    </tr>\n",
       "    <tr>\n",
       "      <th>3</th>\n",
       "      <td>1988</td>\n",
       "      <td>6</td>\n",
       "      <td>19880604</td>\n",
       "      <td>ARC</td>\n",
       "      <td>TLKMAIN</td>\n",
       "      <td>1.8</td>\n",
       "      <td>E</td>\n",
       "      <td>NaN</td>\n",
       "      <td>NaN</td>\n",
       "      <td>NaN</td>\n",
       "      <td>...</td>\n",
       "      <td>0.0</td>\n",
       "      <td>E</td>\n",
       "      <td>NaN</td>\n",
       "      <td>NaN</td>\n",
       "      <td>NaN</td>\n",
       "      <td>NaN</td>\n",
       "      <td>NaN</td>\n",
       "      <td>NaN</td>\n",
       "      <td>NaN</td>\n",
       "      <td>Air temp  1 &amp; 5 meter estimated from regressio...</td>\n",
       "    </tr>\n",
       "    <tr>\n",
       "      <th>4</th>\n",
       "      <td>1988</td>\n",
       "      <td>6</td>\n",
       "      <td>19880605</td>\n",
       "      <td>ARC</td>\n",
       "      <td>TLKMAIN</td>\n",
       "      <td>6.8</td>\n",
       "      <td>E</td>\n",
       "      <td>NaN</td>\n",
       "      <td>NaN</td>\n",
       "      <td>NaN</td>\n",
       "      <td>...</td>\n",
       "      <td>2.5</td>\n",
       "      <td>E</td>\n",
       "      <td>NaN</td>\n",
       "      <td>NaN</td>\n",
       "      <td>NaN</td>\n",
       "      <td>NaN</td>\n",
       "      <td>NaN</td>\n",
       "      <td>NaN</td>\n",
       "      <td>NaN</td>\n",
       "      <td>Air temp  1 &amp; 5 meter estimated from regressio...</td>\n",
       "    </tr>\n",
       "  </tbody>\n",
       "</table>\n",
       "<p>5 rows × 21 columns</p>\n",
       "</div>"
      ],
      "text/plain": [
       "   Year  Month      Date LTER_Site  Station  Daily_AirTemp_Mean_C  \\\n",
       "0  1988      6  19880601       ARC  TLKMAIN                   8.4   \n",
       "1  1988      6  19880602       ARC  TLKMAIN                   6.0   \n",
       "2  1988      6  19880603       ARC  TLKMAIN                   5.8   \n",
       "3  1988      6  19880604       ARC  TLKMAIN                   1.8   \n",
       "4  1988      6  19880605       ARC  TLKMAIN                   6.8   \n",
       "\n",
       "  Flag_Daily_AirTemp_Mean_C  Daily_AirTemp_AbsMax_C  \\\n",
       "0                         E                     NaN   \n",
       "1                         E                     NaN   \n",
       "2                         E                     NaN   \n",
       "3                         E                     NaN   \n",
       "4                         E                     NaN   \n",
       "\n",
       "  Flag_Daily_AirTemp_AbsMax_C  Daily_AirTemp_AbsMin_C  ...  \\\n",
       "0                         NaN                     NaN  ...   \n",
       "1                         NaN                     NaN  ...   \n",
       "2                         NaN                     NaN  ...   \n",
       "3                         NaN                     NaN  ...   \n",
       "4                         NaN                     NaN  ...   \n",
       "\n",
       "  Daily_Precip_Total_mm  Flag_Daily_Precip_Total_mm Daily_windsp_mean_msec  \\\n",
       "0                   0.0                           E                    NaN   \n",
       "1                   0.0                           E                    NaN   \n",
       "2                   0.0                           E                    NaN   \n",
       "3                   0.0                           E                    NaN   \n",
       "4                   2.5                           E                    NaN   \n",
       "\n",
       "   FLAG_Daily_windsp_mean_msec Daily_Windspeed_AbsMax_m_s  \\\n",
       "0                          NaN                        NaN   \n",
       "1                          NaN                        NaN   \n",
       "2                          NaN                        NaN   \n",
       "3                          NaN                        NaN   \n",
       "4                          NaN                        NaN   \n",
       "\n",
       "   Daily_globalrad_total_jcm2  FLAG_Daily_globalrad_total_mjm2 Moss  Soil20cm  \\\n",
       "0                         NaN                              NaN  NaN       NaN   \n",
       "1                         NaN                              NaN  NaN       NaN   \n",
       "2                         NaN                              NaN  NaN       NaN   \n",
       "3                         NaN                              NaN  NaN       NaN   \n",
       "4                         NaN                              NaN  NaN       NaN   \n",
       "\n",
       "                                            Comments  \n",
       "0  Air temp  1 & 5 meter estimated from regressio...  \n",
       "1  Air temp  1 & 5 meter estimated from regressio...  \n",
       "2  Air temp  1 & 5 meter estimated from regressio...  \n",
       "3  Air temp  1 & 5 meter estimated from regressio...  \n",
       "4  Air temp  1 & 5 meter estimated from regressio...  \n",
       "\n",
       "[5 rows x 21 columns]"
      ]
     },
     "execution_count": 12,
     "metadata": {},
     "output_type": "execute_result"
    }
   ],
   "source": [
    "# Checkout the data\n",
    "\n",
    "df.head() # df knows how to read its top 5 lines"
   ]
  },
  {
   "cell_type": "code",
   "execution_count": 15,
   "id": "c62dfd18-9750-48b7-a791-6979a88f9975",
   "metadata": {
    "tags": []
   },
   "outputs": [
    {
     "data": {
      "text/plain": [
       "Year                                   0\n",
       "Month                                  0\n",
       "Date                                   0\n",
       "LTER_Site                              0\n",
       "Station                                0\n",
       "Daily_AirTemp_Mean_C                   0\n",
       "Flag_Daily_AirTemp_Mean_C           9861\n",
       "Daily_AirTemp_AbsMax_C               170\n",
       "Flag_Daily_AirTemp_AbsMax_C        10151\n",
       "Daily_AirTemp_AbsMin_C               204\n",
       "Flag_Daily_AirTemp_AbsMin_C         9935\n",
       "Daily_Precip_Total_mm                420\n",
       "Flag_Daily_Precip_Total_mm          8002\n",
       "Daily_windsp_mean_msec               826\n",
       "FLAG_Daily_windsp_mean_msec        11170\n",
       "Daily_Windspeed_AbsMax_m_s           846\n",
       "Daily_globalrad_total_jcm2          7053\n",
       "FLAG_Daily_globalrad_total_mjm2    11156\n",
       "Moss                                 838\n",
       "Soil20cm                             820\n",
       "Comments                            2247\n",
       "dtype: int64"
      ]
     },
     "execution_count": 15,
     "metadata": {},
     "output_type": "execute_result"
    }
   ],
   "source": [
    "df.isnull().sum()\n",
    "# list of missing data in every column"
   ]
  },
  {
   "cell_type": "code",
   "execution_count": 19,
   "id": "346058a7-385c-45a2-872d-772868785bdc",
   "metadata": {
    "tags": []
   },
   "outputs": [
    {
     "data": {
      "text/html": [
       "<div>\n",
       "<style scoped>\n",
       "    .dataframe tbody tr th:only-of-type {\n",
       "        vertical-align: middle;\n",
       "    }\n",
       "\n",
       "    .dataframe tbody tr th {\n",
       "        vertical-align: top;\n",
       "    }\n",
       "\n",
       "    .dataframe thead th {\n",
       "        text-align: right;\n",
       "    }\n",
       "</style>\n",
       "<table border=\"1\" class=\"dataframe\">\n",
       "  <thead>\n",
       "    <tr style=\"text-align: right;\">\n",
       "      <th></th>\n",
       "      <th>Year</th>\n",
       "      <th>Month</th>\n",
       "      <th>Date</th>\n",
       "      <th>Daily_AirTemp_Mean_C</th>\n",
       "      <th>Daily_AirTemp_AbsMax_C</th>\n",
       "      <th>Daily_AirTemp_AbsMin_C</th>\n",
       "      <th>Daily_Precip_Total_mm</th>\n",
       "      <th>Daily_windsp_mean_msec</th>\n",
       "      <th>Daily_Windspeed_AbsMax_m_s</th>\n",
       "      <th>Daily_globalrad_total_jcm2</th>\n",
       "      <th>Moss</th>\n",
       "      <th>Soil20cm</th>\n",
       "    </tr>\n",
       "  </thead>\n",
       "  <tbody>\n",
       "    <tr>\n",
       "      <th>count</th>\n",
       "      <td>11171.000000</td>\n",
       "      <td>11171.000000</td>\n",
       "      <td>1.117100e+04</td>\n",
       "      <td>11171.000000</td>\n",
       "      <td>11001.000000</td>\n",
       "      <td>10967.000000</td>\n",
       "      <td>10751.000000</td>\n",
       "      <td>10345.000000</td>\n",
       "      <td>10325.000000</td>\n",
       "      <td>4118.000000</td>\n",
       "      <td>10333.000000</td>\n",
       "      <td>10351.000000</td>\n",
       "    </tr>\n",
       "    <tr>\n",
       "      <th>mean</th>\n",
       "      <td>2003.203384</td>\n",
       "      <td>6.570674</td>\n",
       "      <td>2.003271e+07</td>\n",
       "      <td>-8.196437</td>\n",
       "      <td>-3.447132</td>\n",
       "      <td>-13.295924</td>\n",
       "      <td>0.950953</td>\n",
       "      <td>2.995592</td>\n",
       "      <td>6.321288</td>\n",
       "      <td>1324.307188</td>\n",
       "      <td>-1.471402</td>\n",
       "      <td>-2.055647</td>\n",
       "    </tr>\n",
       "    <tr>\n",
       "      <th>std</th>\n",
       "      <td>8.831548</td>\n",
       "      <td>3.443637</td>\n",
       "      <td>8.830795e+04</td>\n",
       "      <td>14.831314</td>\n",
       "      <td>14.805298</td>\n",
       "      <td>14.727318</td>\n",
       "      <td>2.749060</td>\n",
       "      <td>1.553574</td>\n",
       "      <td>2.878432</td>\n",
       "      <td>866.670139</td>\n",
       "      <td>7.354649</td>\n",
       "      <td>5.555551</td>\n",
       "    </tr>\n",
       "    <tr>\n",
       "      <th>min</th>\n",
       "      <td>1988.000000</td>\n",
       "      <td>1.000000</td>\n",
       "      <td>1.988060e+07</td>\n",
       "      <td>-55.600000</td>\n",
       "      <td>-53.600000</td>\n",
       "      <td>-57.600000</td>\n",
       "      <td>0.000000</td>\n",
       "      <td>0.000000</td>\n",
       "      <td>0.000000</td>\n",
       "      <td>-2.000000</td>\n",
       "      <td>-24.000000</td>\n",
       "      <td>-21.000000</td>\n",
       "    </tr>\n",
       "    <tr>\n",
       "      <th>25%</th>\n",
       "      <td>1996.000000</td>\n",
       "      <td>4.000000</td>\n",
       "      <td>1.996012e+07</td>\n",
       "      <td>-19.700000</td>\n",
       "      <td>-14.200000</td>\n",
       "      <td>-25.600000</td>\n",
       "      <td>0.000000</td>\n",
       "      <td>2.000000</td>\n",
       "      <td>4.300000</td>\n",
       "      <td>591.000000</td>\n",
       "      <td>-7.000000</td>\n",
       "      <td>-6.000000</td>\n",
       "    </tr>\n",
       "    <tr>\n",
       "      <th>50%</th>\n",
       "      <td>2003.000000</td>\n",
       "      <td>7.000000</td>\n",
       "      <td>2.003092e+07</td>\n",
       "      <td>-7.100000</td>\n",
       "      <td>-2.900000</td>\n",
       "      <td>-12.300000</td>\n",
       "      <td>0.000000</td>\n",
       "      <td>2.800000</td>\n",
       "      <td>5.900000</td>\n",
       "      <td>1268.000000</td>\n",
       "      <td>-2.000000</td>\n",
       "      <td>-1.000000</td>\n",
       "    </tr>\n",
       "    <tr>\n",
       "      <th>75%</th>\n",
       "      <td>2011.000000</td>\n",
       "      <td>10.000000</td>\n",
       "      <td>2.011051e+07</td>\n",
       "      <td>4.400000</td>\n",
       "      <td>8.900000</td>\n",
       "      <td>-0.100000</td>\n",
       "      <td>0.400000</td>\n",
       "      <td>3.600000</td>\n",
       "      <td>7.800000</td>\n",
       "      <td>2026.000000</td>\n",
       "      <td>4.000000</td>\n",
       "      <td>2.000000</td>\n",
       "    </tr>\n",
       "    <tr>\n",
       "      <th>max</th>\n",
       "      <td>2018.000000</td>\n",
       "      <td>12.000000</td>\n",
       "      <td>2.018123e+07</td>\n",
       "      <td>20.700000</td>\n",
       "      <td>28.200000</td>\n",
       "      <td>14.900000</td>\n",
       "      <td>64.500000</td>\n",
       "      <td>12.500000</td>\n",
       "      <td>27.000000</td>\n",
       "      <td>3205.000000</td>\n",
       "      <td>19.000000</td>\n",
       "      <td>11.000000</td>\n",
       "    </tr>\n",
       "  </tbody>\n",
       "</table>\n",
       "</div>"
      ],
      "text/plain": [
       "               Year         Month          Date  Daily_AirTemp_Mean_C  \\\n",
       "count  11171.000000  11171.000000  1.117100e+04          11171.000000   \n",
       "mean    2003.203384      6.570674  2.003271e+07             -8.196437   \n",
       "std        8.831548      3.443637  8.830795e+04             14.831314   \n",
       "min     1988.000000      1.000000  1.988060e+07            -55.600000   \n",
       "25%     1996.000000      4.000000  1.996012e+07            -19.700000   \n",
       "50%     2003.000000      7.000000  2.003092e+07             -7.100000   \n",
       "75%     2011.000000     10.000000  2.011051e+07              4.400000   \n",
       "max     2018.000000     12.000000  2.018123e+07             20.700000   \n",
       "\n",
       "       Daily_AirTemp_AbsMax_C  Daily_AirTemp_AbsMin_C  Daily_Precip_Total_mm  \\\n",
       "count            11001.000000            10967.000000           10751.000000   \n",
       "mean                -3.447132              -13.295924               0.950953   \n",
       "std                 14.805298               14.727318               2.749060   \n",
       "min                -53.600000              -57.600000               0.000000   \n",
       "25%                -14.200000              -25.600000               0.000000   \n",
       "50%                 -2.900000              -12.300000               0.000000   \n",
       "75%                  8.900000               -0.100000               0.400000   \n",
       "max                 28.200000               14.900000              64.500000   \n",
       "\n",
       "       Daily_windsp_mean_msec  Daily_Windspeed_AbsMax_m_s  \\\n",
       "count            10345.000000                10325.000000   \n",
       "mean                 2.995592                    6.321288   \n",
       "std                  1.553574                    2.878432   \n",
       "min                  0.000000                    0.000000   \n",
       "25%                  2.000000                    4.300000   \n",
       "50%                  2.800000                    5.900000   \n",
       "75%                  3.600000                    7.800000   \n",
       "max                 12.500000                   27.000000   \n",
       "\n",
       "       Daily_globalrad_total_jcm2          Moss      Soil20cm  \n",
       "count                 4118.000000  10333.000000  10351.000000  \n",
       "mean                  1324.307188     -1.471402     -2.055647  \n",
       "std                    866.670139      7.354649      5.555551  \n",
       "min                     -2.000000    -24.000000    -21.000000  \n",
       "25%                    591.000000     -7.000000     -6.000000  \n",
       "50%                   1268.000000     -2.000000     -1.000000  \n",
       "75%                   2026.000000      4.000000      2.000000  \n",
       "max                   3205.000000     19.000000     11.000000  "
      ]
     },
     "execution_count": 19,
     "metadata": {},
     "output_type": "execute_result"
    }
   ],
   "source": [
    "df.describe() # like summary"
   ]
  },
  {
   "cell_type": "code",
   "execution_count": 20,
   "id": "8ef880e2-6d6d-4939-b355-939d977e61bf",
   "metadata": {
    "tags": []
   },
   "outputs": [
    {
     "name": "stdout",
     "output_type": "stream",
     "text": [
      "<class 'pandas.core.frame.DataFrame'>\n",
      "RangeIndex: 11171 entries, 0 to 11170\n",
      "Data columns (total 21 columns):\n",
      " #   Column                           Non-Null Count  Dtype  \n",
      "---  ------                           --------------  -----  \n",
      " 0   Year                             11171 non-null  int64  \n",
      " 1   Month                            11171 non-null  int64  \n",
      " 2   Date                             11171 non-null  int64  \n",
      " 3   LTER_Site                        11171 non-null  object \n",
      " 4   Station                          11171 non-null  object \n",
      " 5   Daily_AirTemp_Mean_C             11171 non-null  float64\n",
      " 6   Flag_Daily_AirTemp_Mean_C        1310 non-null   object \n",
      " 7   Daily_AirTemp_AbsMax_C           11001 non-null  float64\n",
      " 8   Flag_Daily_AirTemp_AbsMax_C      1020 non-null   object \n",
      " 9   Daily_AirTemp_AbsMin_C           10967 non-null  float64\n",
      " 10  Flag_Daily_AirTemp_AbsMin_C      1236 non-null   object \n",
      " 11  Daily_Precip_Total_mm            10751 non-null  float64\n",
      " 12  Flag_Daily_Precip_Total_mm       3169 non-null   object \n",
      " 13  Daily_windsp_mean_msec           10345 non-null  float64\n",
      " 14  FLAG_Daily_windsp_mean_msec      1 non-null      object \n",
      " 15  Daily_Windspeed_AbsMax_m_s       10325 non-null  float64\n",
      " 16  Daily_globalrad_total_jcm2       4118 non-null   float64\n",
      " 17  FLAG_Daily_globalrad_total_mjm2  15 non-null     object \n",
      " 18  Moss                             10333 non-null  float64\n",
      " 19  Soil20cm                         10351 non-null  float64\n",
      " 20  Comments                         8924 non-null   object \n",
      "dtypes: float64(9), int64(3), object(9)\n",
      "memory usage: 1.8+ MB\n"
     ]
    }
   ],
   "source": [
    "df.info() # tells more about the structure"
   ]
  },
  {
   "cell_type": "markdown",
   "id": "2b0cc798-d1e4-4c70-a508-e3169480c1e4",
   "metadata": {},
   "source": [
    "### Steps 2-5 (intentionally left blank)\n",
    "\n",
    "### Step 6: Group By Month"
   ]
  },
  {
   "cell_type": "code",
   "execution_count": 24,
   "id": "1e1f4823-3453-4756-835b-72036cb92278",
   "metadata": {
    "tags": []
   },
   "outputs": [],
   "source": [
    "monthly = df.groupby('Month') # column names need to be strings"
   ]
  },
  {
   "cell_type": "markdown",
   "id": "4e324199-9ac8-48fa-9c9a-76aad6f1e4cb",
   "metadata": {},
   "source": [
    "### Step 7: Aggregate (get monthly averages)"
   ]
  },
  {
   "cell_type": "code",
   "execution_count": 27,
   "id": "cda0fbb1-05c7-4b06-ad86-b90b5f6c8219",
   "metadata": {
    "tags": []
   },
   "outputs": [
    {
     "name": "stdout",
     "output_type": "stream",
     "text": [
      "Month\n",
      "1    -22.889032\n",
      "2    -20.700945\n",
      "3    -20.692366\n",
      "4    -11.762556\n",
      "5     -0.795161\n",
      "6      8.589892\n",
      "7     11.222060\n",
      "8      7.234860\n",
      "9     -0.110753\n",
      "10   -10.544225\n",
      "11   -18.339355\n",
      "12   -21.442560\n",
      "Name: Daily_AirTemp_Mean_C, dtype: float64\n"
     ]
    }
   ],
   "source": [
    "monthly_means = monthly['Daily_AirTemp_Mean_C'].mean()\n",
    "# pull the list containing one column from monthly\n",
    "print(monthly_means)"
   ]
  },
  {
   "cell_type": "markdown",
   "id": "88248a22-06f9-4432-b8e0-40034e10f91a",
   "metadata": {},
   "source": [
    "### Step 8: Make a plot"
   ]
  },
  {
   "cell_type": "code",
   "execution_count": 31,
   "id": "11765343-23ca-4dd4-887e-f97b3fabba3a",
   "metadata": {
    "tags": []
   },
   "outputs": [
    {
     "data": {
      "text/plain": [
       "<BarContainer object of 12 artists>"
      ]
     },
     "execution_count": 31,
     "metadata": {},
     "output_type": "execute_result"
    },
    {
     "data": {
      "image/png": "[encoded data removed]",
      "text/plain": [
       "<Figure size 640x480 with 1 Axes>"
      ]
     },
     "metadata": {},
     "output_type": "display_data"
    }
   ],
   "source": [
    "month_names = ['Jan', 'Feb', 'Mar', 'Apr', 'May', 'Jun', 'Jul', 'Aug', 'Sep', 'Oct', 'Nov', 'Dec']\n",
    "plt.bar(month_names, monthly_means)"
   ]
  },
  {
   "cell_type": "code",
   "execution_count": 32,
   "id": "efd43958-0262-47d1-8808-0687057bced8",
   "metadata": {
    "tags": []
   },
   "outputs": [
    {
     "data": {
      "text/plain": [
       "<Figure size 640x480 with 0 Axes>"
      ]
     },
     "metadata": {},
     "output_type": "display_data"
    }
   ],
   "source": [
    "plt.savefig(\"sample_plot.jpg\", format='jpeg', dpi=300, bbox_inches='tight')"
   ]
  },
  {
   "cell_type": "code",
   "execution_count": null,
   "id": "09c54f54-e8d6-47f1-83eb-791f9cfb38fc",
   "metadata": {},
   "outputs": [],
   "source": [
    "# Writing the Series to a CSV file\n",
    "monthly_means.to_csv(\"monthly_means.csv\", header=True)"
   ]
  }
 ],
 "metadata": {
  "kernelspec": {
   "display_name": "Python 3.10.0",
   "language": "python",
   "name": "python3.10.0"
  },
  "language_info": {
   "codemirror_mode": {
    "name": "ipython",
    "version": 3
   },
   "file_extension": ".py",
   "mimetype": "text/x-python",
   "name": "python",
   "nbconvert_exporter": "python",
   "pygments_lexer": "ipython3",
   "version": "3.10.0"
  }
 },
 "nbformat": 4,
 "nbformat_minor": 5
}
