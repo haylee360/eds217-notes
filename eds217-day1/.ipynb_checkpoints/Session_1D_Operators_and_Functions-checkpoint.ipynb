{
 "cells": [
  {
   "cell_type": "markdown",
   "id": "e340f32f-68f1-4e05-9a1d-9425da7cd2f8",
   "metadata": {},
   "source": [
    "# Day 1 - Operators and Functions\n",
    "\n",
    "[link to session notes](https://eds-217-essential-python.github.io/course-materials/interactive-sessions/1d_operators_functions.html)\n",
    "\n",
    "Date: 09/03/2024"
   ]
  },
  {
   "cell_type": "markdown",
   "id": "226e5742-369d-40ce-8ba0-817d0b89e8b5",
   "metadata": {},
   "source": [
    "## Variables and Operators"
   ]
  },
  {
   "cell_type": "code",
   "execution_count": 1,
   "id": "f669b076-9a7f-4620-a52c-a59e99036dfc",
   "metadata": {
    "tags": []
   },
   "outputs": [],
   "source": [
    "# Define variables x and y as integers.\n",
    "x = 1\n",
    "y = 42"
   ]
  },
  {
   "cell_type": "code",
   "execution_count": 3,
   "id": "572f4dfd-1812-4dce-9ecf-016601eb71c7",
   "metadata": {
    "tags": []
   },
   "outputs": [],
   "source": [
    "# Define variables a, b, and c as floats.\n",
    "a = 1.0\n",
    "b = 42.0\n",
    "c = 23.782043"
   ]
  },
  {
   "cell_type": "code",
   "execution_count": 13,
   "id": "d7e8ad86-f69d-4706-98c1-e1b6a034d10c",
   "metadata": {
    "tags": []
   },
   "outputs": [
    {
     "data": {
      "text/plain": [
       "1"
      ]
     },
     "execution_count": 13,
     "metadata": {},
     "output_type": "execute_result"
    }
   ],
   "source": [
    "# Floor division\n",
    "15 // 4 \n",
    "# How many times can i get this into that with no remainder\n",
    "\n",
    "# modulus\n",
    "32 % 2 # remainder of 0\n",
    "31 % 2 # remainder of 1"
   ]
  },
  {
   "cell_type": "markdown",
   "id": "85e99c4f-fd53-4b76-bc13-0aae8685a049",
   "metadata": {},
   "source": [
    "### Compound Assignment Operators "
   ]
  },
  {
   "cell_type": "code",
   "execution_count": 17,
   "id": "e6f08aa0-32b7-4bb4-9f4f-c4304bac6617",
   "metadata": {
    "tags": []
   },
   "outputs": [
    {
     "name": "stdout",
     "output_type": "stream",
     "text": [
      "9\n",
      "11\n",
      "33\n"
     ]
    }
   ],
   "source": [
    "count = 10\n",
    "\n",
    "count -= 1 # count minus 1. The minus is equal to 1.\n",
    "print(count)\n",
    "\n",
    "count += 2\n",
    "print(count) \n",
    "\n",
    "count *= 3\n",
    "print(count)"
   ]
  },
  {
   "cell_type": "code",
   "execution_count": 18,
   "id": "3c071060-cebf-4a1d-acd5-37db8a30c7d2",
   "metadata": {
    "tags": []
   },
   "outputs": [
    {
     "name": "stdout",
     "output_type": "stream",
     "text": [
      "Final score: 34.0\n"
     ]
    }
   ],
   "source": [
    "# Initialize the score\n",
    "score = 100\n",
    "\n",
    "# TODO: Use compound assignment to decrease the score by 15\n",
    "score -= 15\n",
    "\n",
    "# TODO: Use compound assignment to double the score\n",
    "score *= 2\n",
    "\n",
    "# TODO: Use compound assignment to divide the score by 5\n",
    "score /= 5\n",
    "\n",
    "print(f\"Final score: {score}\")  # Expected output: 34.0"
   ]
  },
  {
   "cell_type": "markdown",
   "id": "d2464174-222e-4230-b58e-16f626a13214",
   "metadata": {},
   "source": [
    "### Boolean Operators"
   ]
  },
  {
   "cell_type": "code",
   "execution_count": 19,
   "id": "8c244999-809f-4efa-8320-41fe979645a2",
   "metadata": {
    "tags": []
   },
   "outputs": [
    {
     "name": "stdout",
     "output_type": "stream",
     "text": [
      "True\n",
      "False\n",
      "True\n",
      "False\n"
     ]
    }
   ],
   "source": [
    "print(b >= a)\n",
    "print(87 < -2)\n",
    "print(c != 0)\n",
    "print(y == x)"
   ]
  },
  {
   "cell_type": "code",
   "execution_count": 20,
   "id": "4be3fd9d-3ff3-47d9-9d95-c132f0057c46",
   "metadata": {
    "tags": []
   },
   "outputs": [
    {
     "data": {
      "text/plain": [
       "True"
      ]
     },
     "execution_count": 20,
     "metadata": {},
     "output_type": "execute_result"
    }
   ],
   "source": [
    "isinstance(12, int)"
   ]
  },
  {
   "cell_type": "code",
   "execution_count": 21,
   "id": "f38dcd14-0279-49e2-b551-7b6831e65be9",
   "metadata": {
    "tags": []
   },
   "outputs": [
    {
     "data": {
      "text/plain": [
       "False"
      ]
     },
     "execution_count": 21,
     "metadata": {},
     "output_type": "execute_result"
    }
   ],
   "source": [
    "isinstance(24.0, int)"
   ]
  },
  {
   "cell_type": "code",
   "execution_count": 23,
   "id": "47855b50-2740-4b57-96b1-d80f294dd8af",
   "metadata": {
    "tags": []
   },
   "outputs": [
    {
     "data": {
      "text/plain": [
       "True"
      ]
     },
     "execution_count": 23,
     "metadata": {},
     "output_type": "execute_result"
    }
   ],
   "source": [
    "isinstance(12.0, (int, float)) # is this thing any of these things"
   ]
  },
  {
   "cell_type": "markdown",
   "id": "6f1be6d8-83d9-4385-ae8d-33d5fd906c67",
   "metadata": {},
   "source": [
    "### Converting types"
   ]
  },
  {
   "cell_type": "code",
   "execution_count": 25,
   "id": "85a50b53-97b9-45a1-8cf9-a93751bf9c36",
   "metadata": {
    "tags": []
   },
   "outputs": [
    {
     "name": "stdout",
     "output_type": "stream",
     "text": [
      "1.0\n",
      "42\n",
      "42.0\n"
     ]
    }
   ],
   "source": [
    "print(float(x))\n",
    "print(int(b))\n",
    "print(str(b))"
   ]
  },
  {
   "cell_type": "markdown",
   "id": "e7859119-8386-40d4-b2f8-6626efd1a871",
   "metadata": {},
   "source": [
    "## Strings"
   ]
  },
  {
   "cell_type": "code",
   "execution_count": 28,
   "id": "7863c91c-0bba-43d8-a584-a7ddafcf23ac",
   "metadata": {
    "tags": []
   },
   "outputs": [],
   "source": [
    "mytext = 'This is a string.'\n",
    "mytext2 = \"This is also a string.\"\n",
    "# single or double, but they need to match"
   ]
  },
  {
   "cell_type": "code",
   "execution_count": 29,
   "id": "89a5658c-2bdd-43db-9c46-9fc81e6176ab",
   "metadata": {
    "tags": []
   },
   "outputs": [
    {
     "data": {
      "text/plain": [
       "True"
      ]
     },
     "execution_count": 29,
     "metadata": {},
     "output_type": "execute_result"
    }
   ],
   "source": [
    "q1a = \"What is Newton's 1st law of motion?\"\n",
    "q1b = 'What is Newton\\'s 1st law of motion?' # use single ' inside a '' string\n",
    "\n",
    "# Are q1a and q1b the same?\n",
    "q1a == q1b"
   ]
  },
  {
   "cell_type": "code",
   "execution_count": 31,
   "id": "f6e7d8aa-1292-44d6-98b7-7f4ac303eb1d",
   "metadata": {
    "tags": []
   },
   "outputs": [
    {
     "name": "stdout",
     "output_type": "stream",
     "text": [
      "\n",
      "l(a\n",
      "le\n",
      "af\n",
      "fa\n",
      "ll\n",
      "s)\n",
      "one\n",
      "l\n",
      "iness\n",
      "\n"
     ]
    }
   ],
   "source": [
    "# l(a or (A leaf falls on loneliness) by e.e. cummings\n",
    "# how to make a multi line string\n",
    "la = \"\"\"\n",
    "l(a\n",
    "le\n",
    "af\n",
    "fa\n",
    "ll\n",
    "s)\n",
    "one\n",
    "l\n",
    "iness\n",
    "\"\"\"\n",
    "\n",
    "print(la)"
   ]
  },
  {
   "cell_type": "code",
   "execution_count": 33,
   "id": "e0fff085-55cf-4632-a41b-ebcbd90b210e",
   "metadata": {
    "tags": []
   },
   "outputs": [
    {
     "name": "stdout",
     "output_type": "stream",
     "text": [
      "isaac newton\n"
     ]
    }
   ],
   "source": [
    "print('isaac' + ' ' + 'newton')"
   ]
  },
  {
   "cell_type": "markdown",
   "id": "e543bf75-3cf4-4caf-8dfc-3370780fe1ca",
   "metadata": {},
   "source": [
    "### Print statements\n",
    "\n",
    "Use f-string notations to include variable in print statements"
   ]
  },
  {
   "cell_type": "code",
   "execution_count": 34,
   "id": "3647957e-9ef1-48c0-b228-3e3215bb1756",
   "metadata": {
    "tags": []
   },
   "outputs": [
    {
     "name": "stdout",
     "output_type": "stream",
     "text": [
      "My name is Alice and I am 30 years old.\n"
     ]
    }
   ],
   "source": [
    "name = \"Alice\"\n",
    "age = 30\n",
    "\n",
    "# Example of an f-string\n",
    "print(f\"My name is {name} and I am {age} years old.\")"
   ]
  },
  {
   "cell_type": "code",
   "execution_count": 37,
   "id": "5de3099f-5149-434f-8c39-6c0963d6f5ba",
   "metadata": {
    "tags": []
   },
   "outputs": [
    {
     "name": "stdout",
     "output_type": "stream",
     "text": [
      "The value of pi is approximately 3.14.\n",
      "The value of pi is approx.:       3.1416\n"
     ]
    }
   ],
   "source": [
    "pi = 3.141592653589793\n",
    "\n",
    "# Format to 2 decimal places\n",
    "# : tells you to format, 2 decimals, f = float\n",
    "print(f\"The value of pi is approximately {pi:.2f}.\")\n",
    "\n",
    "# four decimal places and 6 integer places\n",
    "print(f\"The value of pi is approx.: {pi:12.4f}\")"
   ]
  }
 ],
 "metadata": {
  "kernelspec": {
   "display_name": "Python 3.10.0",
   "language": "python",
   "name": "python3.10.0"
  },
  "language_info": {
   "codemirror_mode": {
    "name": "ipython",
    "version": 3
   },
   "file_extension": ".py",
   "mimetype": "text/x-python",
   "name": "python",
   "nbconvert_exporter": "python",
   "pygments_lexer": "ipython3",
   "version": "3.10.0"
  }
 },
 "nbformat": 4,
 "nbformat_minor": 5
}
