{
 "cells": [
  {
   "cell_type": "markdown",
   "id": "d3a37f6f-e422-41e6-bfa5-cd38ee2b879c",
   "metadata": {},
   "source": [
    "# Day 1: Session C - Variables & Strings\n",
    "\n",
    "[Session Webpage](https://eds-217-essential-python.github.io/course-materials/interactive-sessions/1c_variables_strings.html)\n",
    "\n",
    "Date: 09/03/2024"
   ]
  },
  {
   "cell_type": "markdown",
   "id": "26ba931b-c0b0-4017-9a5a-f24e454ecb98",
   "metadata": {},
   "source": [
    "# Variable Types\n",
    "*everything is an object*"
   ]
  },
  {
   "cell_type": "code",
   "execution_count": 1,
   "id": "37af3e98-ca74-4726-9e03-2bb20b96b1fd",
   "metadata": {
    "tags": []
   },
   "outputs": [],
   "source": [
    "number = 42\n",
    "text = \"Hello, World!\"\n",
    "pi = 3.14159\n",
    "data = [1, 2, 3, 4, 5]"
   ]
  },
  {
   "cell_type": "markdown",
   "id": "db428282-17ba-431b-a83d-0af210a2ca0e",
   "metadata": {},
   "source": [
    "Most common built-in types:\n",
    "\n",
    "- `int` : Integers\n",
    "- `float` : Floating point numbers (e.g. 2.34)\n",
    "- `str` : strings (characters, text, etc.)\n",
    "- `list` : A collection of things "
   ]
  },
  {
   "cell_type": "code",
   "execution_count": 2,
   "id": "f32e7671-e858-46d8-8e60-8252388dfd0a",
   "metadata": {
    "tags": []
   },
   "outputs": [
    {
     "name": "stdout",
     "output_type": "stream",
     "text": [
      "<class 'str'>\n"
     ]
    }
   ],
   "source": [
    "print(type(text))"
   ]
  },
  {
   "cell_type": "markdown",
   "id": "685cb46a-3892-4879-9f7c-ba133d837f98",
   "metadata": {},
   "source": [
    "## Exploring Methods\n",
    "\n",
    "### Discoverying Methods"
   ]
  },
  {
   "cell_type": "code",
   "execution_count": 3,
   "id": "c4d44dff-eb64-4843-8301-dca471aa32a5",
   "metadata": {
    "tags": []
   },
   "outputs": [
    {
     "name": "stdout",
     "output_type": "stream",
     "text": [
      "['__add__', '__class__', '__contains__', '__delattr__', '__dir__', '__doc__', '__eq__', '__format__', '__ge__', '__getattribute__', '__getitem__', '__getnewargs__', '__gt__', '__hash__', '__init__', '__init_subclass__', '__iter__', '__le__', '__len__', '__lt__', '__mod__', '__mul__', '__ne__', '__new__', '__reduce__', '__reduce_ex__', '__repr__', '__rmod__', '__rmul__', '__setattr__', '__sizeof__', '__str__', '__subclasshook__', 'capitalize', 'casefold', 'center', 'count', 'encode', 'endswith', 'expandtabs', 'find', 'format', 'format_map', 'index', 'isalnum', 'isalpha', 'isascii', 'isdecimal', 'isdigit', 'isidentifier', 'islower', 'isnumeric', 'isprintable', 'isspace', 'istitle', 'isupper', 'join', 'ljust', 'lower', 'lstrip', 'maketrans', 'partition', 'removeprefix', 'removesuffix', 'replace', 'rfind', 'rindex', 'rjust', 'rpartition', 'rsplit', 'rstrip', 'split', 'splitlines', 'startswith', 'strip', 'swapcase', 'title', 'translate', 'upper', 'zfill']\n"
     ]
    }
   ],
   "source": [
    "list_of_methods = dir(text)\n",
    "print(list_of_methods)"
   ]
  },
  {
   "cell_type": "markdown",
   "id": "fc577253-b7e7-47f2-88f5-979d99fcfef0",
   "metadata": {},
   "source": [
    "Dunderscores are attributes you don't ever work with\n",
    "i.e. private attributes/methods\n",
    "\n",
    "The other methods are things the string knows how to do \n",
    "to itself or about itself"
   ]
  },
  {
   "cell_type": "code",
   "execution_count": 4,
   "id": "70160a8f-b152-47d9-82ad-4abfd441393e",
   "metadata": {
    "tags": []
   },
   "outputs": [
    {
     "name": "stdout",
     "output_type": "stream",
     "text": [
      " NOT ALL UPPER CASE     \n",
      " not all upper case     \n",
      " not all Lower case     \n",
      "not all Upper case\n"
     ]
    }
   ],
   "source": [
    "text = \" not all Upper case     \"\n",
    "# need to add print to see everything. It will still run, but won't print\n",
    "\n",
    "# Convert to upper case\n",
    "print(text.upper())\n",
    "\n",
    "# Convert to lower case\n",
    "print(text.lower())\n",
    "\n",
    "# Replace a substring\n",
    "print(text.replace(\"Upper\", \"Lower\"))\n",
    "\n",
    "# Strip out trailing and leading white space, including tabs and newlines!\n",
    "print(text.strip())"
   ]
  },
  {
   "cell_type": "markdown",
   "id": "a0015200-d731-49d5-9388-7a766e6d0797",
   "metadata": {},
   "source": [
    "### Combining Methods\n",
    "\n",
    "We can combine methods. Most functions return an instance of an object, so we can use that to run another command. This is called **methods chaining** \n",
    "\n",
    "An example would be string normalization\n",
    "\n",
    "1. where we want to remove whitespace\n",
    "2. make everything lower case\n",
    "3. replace whitespace with underscore\n",
    "#### The hard way..."
   ]
  },
  {
   "cell_type": "code",
   "execution_count": 5,
   "id": "a9a37c79-da37-446e-a47c-8aa8e86ead79",
   "metadata": {
    "tags": []
   },
   "outputs": [
    {
     "name": "stdout",
     "output_type": "stream",
     "text": [
      "air_temperature\n"
     ]
    }
   ],
   "source": [
    "column_bad = ' Air Temperature'\n",
    "# Step 1: strip lead/trailing whitespace\n",
    "column_better = column_bad.strip()\n",
    "\n",
    "# Step 2: make everything lower case\n",
    "even_better = column_better.lower()\n",
    "\n",
    "# Step 3: Replace whitespace with underscore \n",
    "column_best = even_better.replace(\" \", \"_\")\n",
    "\n",
    "print(column_best)"
   ]
  },
  {
   "cell_type": "markdown",
   "id": "ccc11d9a-a3a3-487e-8542-dd91eb40ac16",
   "metadata": {},
   "source": [
    "#### The Pythonic Way:"
   ]
  },
  {
   "cell_type": "code",
   "execution_count": 6,
   "id": "1a848b29-0dc3-4f3e-94d9-c7a4d6f8630e",
   "metadata": {
    "tags": []
   },
   "outputs": [
    {
     "name": "stdout",
     "output_type": "stream",
     "text": [
      "air_temperature\n"
     ]
    }
   ],
   "source": [
    "print(column_bad.strip().lower().replace(\" \", \"_\"))"
   ]
  },
  {
   "cell_type": "markdown",
   "id": "1a131407-5d0a-4d19-892d-dd3ada2b4e4d",
   "metadata": {},
   "source": [
    "### A more complicated example\n",
    "\n",
    "Looping through a list of strings and normalizing each one\n",
    "\n",
    "0. Make a list of strings\n",
    "1. Make a for loop to loop thru strings\n",
    "2. Normalize each string \n",
    "3. Print out the normalized string"
   ]
  },
  {
   "cell_type": "code",
   "execution_count": 7,
   "id": "d1642a24-d1bc-4580-9fd8-3c50bfa841c0",
   "metadata": {
    "tags": []
   },
   "outputs": [
    {
     "name": "stdout",
     "output_type": "stream",
     "text": [
      "Your Normalized Strings:\n",
      "========================\n",
      "Original: 'data science'\n",
      "Normalized: 'data_science'\n",
      "\n",
      "Original: '  MACHINE learning '\n",
      "Normalized: 'machine_learning'\n",
      "\n",
      "Original: 'Artificial Intelligence\t'\n",
      "Normalized: 'artificial_intelligence'\n",
      "\n",
      "Original: ' Natural\n",
      "Language Processing '\n",
      "Normalized: 'natural_language_processing'\n",
      "\n"
     ]
    }
   ],
   "source": [
    "# Step 0:\n",
    "strings_to_normalize = [\n",
    "    \"data science\",\n",
    "    \"  MACHINE learning \",\n",
    "    \"Artificial Intelligence\\t\",\n",
    "    \" Natural\\nLanguage Processing \"\n",
    "]\n",
    "\n",
    "print(\"Your Normalized Strings:\")\n",
    "print(\"========================\")\n",
    "\n",
    "# Step 1-3:\n",
    "for string in strings_to_normalize:\n",
    "    # Our normalization code here\n",
    "    normalized = string.strip().lower().replace('\\n', '_').replace(' ', '_') \n",
    "    \n",
    "    print(f\"Original: '{string}'\")\n",
    "    print(f\"Normalized: '{normalized}'\")\n",
    "    print()"
   ]
  }
 ],
 "metadata": {
  "kernelspec": {
   "display_name": "Python 3.10.0",
   "language": "python",
   "name": "python3.10.0"
  },
  "language_info": {
   "codemirror_mode": {
    "name": "ipython",
    "version": 3
   },
   "file_extension": ".py",
   "mimetype": "text/x-python",
   "name": "python",
   "nbconvert_exporter": "python",
   "pygments_lexer": "ipython3",
   "version": "3.10.0"
  }
 },
 "nbformat": 4,
 "nbformat_minor": 5
}
