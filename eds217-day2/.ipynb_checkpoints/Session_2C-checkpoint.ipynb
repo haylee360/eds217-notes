{
 "cells": [
  {
   "cell_type": "markdown",
   "id": "c172c421-9f30-40b4-a72c-a24588a977a6",
   "metadata": {},
   "source": [
    "# Coding co-lab 2C\n",
    "\n",
    "[session link](https://eds-217-essential-python.github.io/course-materials/coding-colabs/2c_lists_dictionaries_sets.html)"
   ]
  },
  {
   "cell_type": "code",
   "execution_count": 12,
   "id": "c834064b-5ce5-47d5-bf7d-55d6a5a98793",
   "metadata": {
    "tags": []
   },
   "outputs": [
    {
     "name": "stdout",
     "output_type": "stream",
     "text": [
      "{2, 4, 6, 8, 10}\n",
      "{2, 4, 6, 8, 10}\n",
      "{1, 3, 5, 7, 9}\n"
     ]
    }
   ],
   "source": [
    "evens = set([2, 4, 6, 8, 10])\n",
    "even = set(range(2, 11, 2))\n",
    "print(even)\n",
    "print(evens)\n",
    "odds = {1, 3, 5, 7, 9}\n",
    "print(odds)"
   ]
  },
  {
   "cell_type": "code",
   "execution_count": 6,
   "id": "cea241af-46b1-40e1-a29e-7fa0c7648ddf",
   "metadata": {
    "tags": []
   },
   "outputs": [
    {
     "name": "stdout",
     "output_type": "stream",
     "text": [
      "Union of a and b: {1, 2, 3, 4, 5, 6, 7, 8, 9, 10}\n"
     ]
    }
   ],
   "source": [
    "union_set = evens.union(odds)\n",
    "print(f\"Union of a and b: {union_set}\")"
   ]
  },
  {
   "cell_type": "code",
   "execution_count": 13,
   "id": "598e82db-88a6-4a06-9df3-d9b4b42763c8",
   "metadata": {
    "tags": []
   },
   "outputs": [
    {
     "name": "stdout",
     "output_type": "stream",
     "text": [
      "Intersection of a and b: set()\n"
     ]
    }
   ],
   "source": [
    "intersection_set = evens.intersection(odds)\n",
    "print(f\"Intersection of a and b: {intersection_set}\")"
   ]
  },
  {
   "cell_type": "code",
   "execution_count": 15,
   "id": "64d118e6-d5e0-4d1f-93da-b822312a8e2e",
   "metadata": {
    "tags": []
   },
   "outputs": [
    {
     "name": "stdout",
     "output_type": "stream",
     "text": [
      "{2, 4, 6, 8, 10, 12}\n"
     ]
    }
   ],
   "source": [
    "evens.add(12)\n",
    "print(evens)"
   ]
  },
  {
   "cell_type": "code",
   "execution_count": 31,
   "id": "5f4faf93-e3df-45e0-bb3b-a17ab468aac2",
   "metadata": {
    "tags": []
   },
   "outputs": [
    {
     "name": "stdout",
     "output_type": "stream",
     "text": [
      "[1, 2, 3, 4, 5]\n",
      "{1, 2, 3, 4, 5}\n"
     ]
    },
    {
     "data": {
      "text/plain": [
       "list"
      ]
     },
     "execution_count": 31,
     "metadata": {},
     "output_type": "execute_result"
    }
   ],
   "source": [
    "numbers = [1, 2, 2, 3, 3, 3, 4, 4, 5]\n",
    "other_numbers = set(range(1,6))\n",
    "print(list(other_numbers))\n",
    "intersection_numb = other_numbers.intersection(numbers)\n",
    "print(intersection_numb)\n",
    "new_list = list(intersection_numb)\n",
    "type(new_list)"
   ]
  }
 ],
 "metadata": {
  "kernelspec": {
   "display_name": "Python 3.10.0",
   "language": "python",
   "name": "python3.10.0"
  },
  "language_info": {
   "codemirror_mode": {
    "name": "ipython",
    "version": 3
   },
   "file_extension": ".py",
   "mimetype": "text/x-python",
   "name": "python",
   "nbconvert_exporter": "python",
   "pygments_lexer": "ipython3",
   "version": "3.10.0"
  }
 },
 "nbformat": 4,
 "nbformat_minor": 5
}
