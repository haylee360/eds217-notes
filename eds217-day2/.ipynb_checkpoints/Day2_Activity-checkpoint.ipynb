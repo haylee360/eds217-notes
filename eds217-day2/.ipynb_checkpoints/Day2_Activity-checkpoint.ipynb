{
 "cells": [
  {
   "cell_type": "markdown",
   "id": "6047aa92-218d-4392-8fb9-024dd8f27a36",
   "metadata": {},
   "source": [
    "# Day 2 Activity\n",
    "\n",
    "[Activity link](https://eds-217-essential-python.github.io/course-materials/eod-practice/eod-day2.html)"
   ]
  },
  {
   "cell_type": "code",
   "execution_count": 1,
   "id": "0933c0f0-f539-4e6a-932a-1e6ac2aab4e9",
   "metadata": {
    "tags": []
   },
   "outputs": [],
   "source": [
    "# We won't use the random library until the end of this exercise, \n",
    "# but it's always good to put imported libraries at the top of your notebook.\n",
    "import random "
   ]
  },
  {
   "cell_type": "code",
   "execution_count": 10,
   "id": "2006b568-0563-4450-a3ae-0e6717333bef",
   "metadata": {},
   "outputs": [],
   "source": [
    "names = ['Haylee', 'Naomi', 'Ian', 'Nicole']"
   ]
  },
  {
   "cell_type": "code",
   "execution_count": 3,
   "id": "d7134a80-5803-490c-9ee3-6873201a2709",
   "metadata": {
    "tags": []
   },
   "outputs": [],
   "source": [
    "haylee_dict = {\n",
    "    'favorite_color': 'Green',\n",
    "    'number_of_pets': '0',\n",
    "    'preferred_study_snacks': 'Peanut M&Ms'\n",
    "}\n",
    "\n",
    "naomi_dict = {\n",
    "    'favorite_color': 'purple',\n",
    "    'number_of_pets': '0',\n",
    "    'preferred_study_snacks': 'Dark chocolate M&Ms'\n",
    "}\n",
    "\n",
    "ian_dict = {\n",
    "    'favorite_color': 'red',\n",
    "    'number_of_pets': '1',\n",
    "    'preferred_study_snacks': 'Donut'\n",
    "}\n",
    "\n",
    "nicole_dict = {\n",
    "    'favorite_color': 'green',\n",
    "    'number_of_pets': '1',\n",
    "    'preferred_study_snacks': 'Cheese'\n",
    "}"
   ]
  },
  {
   "cell_type": "code",
   "execution_count": 47,
   "id": "a37cb3eb-7199-441e-ae10-91dff2c233cb",
   "metadata": {
    "tags": []
   },
   "outputs": [
    {
     "name": "stdout",
     "output_type": "stream",
     "text": [
      "{'Haylee': {'favorite_color': 'Green', 'number_of_pets': '0', 'preferred_study_snacks': 'Peanut M&Ms'}, 'Naomi': {'favorite_color': 'purple', 'number_of_pets': '0', 'preferred_study_snacks': 'Dark chocolate M&Ms'}, 'Ian': {'favorite_color': 'red', 'number_of_pets': '1', 'preferred_study_snacks': 'Donut'}, 'Nicole': {'favorite_color': 'green', 'number_of_pets': '1', 'preferred_study_snacks': 'Cheese'}}\n"
     ]
    }
   ],
   "source": [
    "favorite_dict = {\n",
    "    'Haylee': haylee_dict,\n",
    "    'Naomi': naomi_dict,\n",
    "    'Ian': ian_dict,\n",
    "    'Nicole': nicole_dict\n",
    "}\n",
    "\n",
    "second_fav_dict = {\n",
    "    'Haylee': {'favorite_color': 'Green', 'number_of_pets': '0','preferred_study_snacks': 'Peanut M&Ms'},\n",
    "    'Naomi': {'favorite_color': 'purple', 'number_of_pets': '0','preferred_study_snacks': 'Dark chocolate M&Ms'},\n",
    "    'Ian': {'favorite_color': 'red', 'number_of_pets': '1', 'preferred_study_snacks': 'Donut'},\n",
    "    'Nicole': {'favorite_color': 'green', 'number_of_pets': '1', 'preferred_study_snacks': 'Cheese'}\n",
    "}\n",
    "\n",
    "print(second_fav_dict)"
   ]
  },
  {
   "cell_type": "markdown",
   "id": "80d20463-76d4-401d-9fd5-cb7384c2aeff",
   "metadata": {},
   "source": [
    "## Data Structure Manipulation"
   ]
  },
  {
   "cell_type": "code",
   "execution_count": 11,
   "id": "9e1937a9-0aa7-4ff1-b5b1-a15377c1157f",
   "metadata": {
    "tags": []
   },
   "outputs": [
    {
     "name": "stdout",
     "output_type": "stream",
     "text": [
      "['Haylee', 'Naomi', 'Ian', 'Nicole', 'Josh']\n"
     ]
    }
   ],
   "source": [
    "names.append(\"Josh\")\n",
    "print(names)"
   ]
  },
  {
   "cell_type": "code",
   "execution_count": 12,
   "id": "0331acda-3a93-409c-8b89-9eacbf19f071",
   "metadata": {
    "tags": []
   },
   "outputs": [
    {
     "name": "stdout",
     "output_type": "stream",
     "text": [
      "['Haylee', 'Ian', 'Nicole', 'Josh']\n"
     ]
    }
   ],
   "source": [
    "names.pop(1)\n",
    "print(names)"
   ]
  },
  {
   "cell_type": "code",
   "execution_count": 19,
   "id": "fabc6b37-6dff-4283-99c9-fbecaa465c99",
   "metadata": {
    "tags": []
   },
   "outputs": [
    {
     "name": "stdout",
     "output_type": "stream",
     "text": [
      "['Haylee', 'Ian', 'Josh', 'Nicole']\n",
      "1\n"
     ]
    }
   ],
   "source": [
    "names.sort()\n",
    "print(names)\n",
    "\n",
    "print(names.index('Ian'))"
   ]
  },
  {
   "cell_type": "code",
   "execution_count": 23,
   "id": "d39faa49-0464-4978-ab87-1f4b5001129d",
   "metadata": {
    "tags": []
   },
   "outputs": [],
   "source": [
    "haylee_dict['favorite_study_spot']= 'library'\n",
    "ian_dict['favorite_study_spot']= 'with the besties'\n",
    "naomi_dict['favorite_study_spot']= 'room'\n",
    "nicole_dict['favorite_study_spot']= 'beach (???)'"
   ]
  },
  {
   "cell_type": "code",
   "execution_count": 49,
   "id": "70e47156-686a-4832-99eb-b37385bdd600",
   "metadata": {
    "tags": []
   },
   "outputs": [
    {
     "name": "stdout",
     "output_type": "stream",
     "text": [
      "['Green', 'purple', 'red', 'green']\n"
     ]
    }
   ],
   "source": [
    "colors = [second_fav_dict[names]['favorite_color']\n",
    "         for names in second_fav_dict]\n",
    "\n",
    "for people in second_fav_dict:\n",
    "    second_fav_dict[people]['fav_study_spot'] = 'library'\n",
    "\n",
    "print(colors)"
   ]
  },
  {
   "cell_type": "code",
   "execution_count": 25,
   "id": "5c67b404-e7eb-47d5-bf46-1ca4f098407b",
   "metadata": {
    "tags": []
   },
   "outputs": [
    {
     "name": "stdout",
     "output_type": "stream",
     "text": [
      "{'favorite_color': 'purple', 'number_of_pets': '4 labradoodles', 'preferred_study_snacks': 'Dark chocolate M&Ms', 'favorite_study_spot': 'room'}\n"
     ]
    }
   ],
   "source": [
    "naomi_dict['number_of_pets']= \"4 labradoodles\"\n",
    "print(naomi_dict)"
   ]
  },
  {
   "cell_type": "code",
   "execution_count": 26,
   "id": "3dbc8937-09e0-4b62-bc87-a2f62969bcbc",
   "metadata": {
    "tags": []
   },
   "outputs": [],
   "source": [
    "fav_colors = ['green', 'green', 'purple', 'red', 'seafoam']"
   ]
  },
  {
   "cell_type": "code",
   "execution_count": 57,
   "id": "5e306234-0e44-4e8a-9453-2bc4867645af",
   "metadata": {
    "tags": []
   },
   "outputs": [
    {
     "name": "stdout",
     "output_type": "stream",
     "text": [
      "Haylee will share Peanut M&Ms with Ian\n"
     ]
    }
   ],
   "source": [
    "#| echo: true\n",
    "def assign_random_snacks(classmate_info):\n",
    "    sharer, random_snack = random.choice(list(classmate_info.items()))\n",
    "    snack = random_snack[\"preferred_study_snacks\"] # because the snack is the value of the person's dict,\n",
    "    # this pulls the specific snack from that person's dict\n",
    "    receiver = random.choice(list(classmate_info.keys()))\n",
    "    print(f\"{sharer} will share {snack} with {receiver}\")\n",
    "\n",
    "# Test your function\n",
    "assign_random_snacks(second_fav_dict)"
   ]
  }
 ],
 "metadata": {
  "kernelspec": {
   "display_name": "Python 3.10.0",
   "language": "python",
   "name": "python3.10.0"
  },
  "language_info": {
   "codemirror_mode": {
    "name": "ipython",
    "version": 3
   },
   "file_extension": ".py",
   "mimetype": "text/x-python",
   "name": "python",
   "nbconvert_exporter": "python",
   "pygments_lexer": "ipython3",
   "version": "3.10.0"
  }
 },
 "nbformat": 4,
 "nbformat_minor": 5
}
