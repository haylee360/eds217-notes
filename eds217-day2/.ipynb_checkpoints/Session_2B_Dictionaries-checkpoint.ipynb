{
 "cells": [
  {
   "cell_type": "markdown",
   "id": "7c5d18d4-4384-4e97-8e86-2efcab163f59",
   "metadata": {
    "tags": []
   },
   "source": [
    "# Day 2: Session B - Dictionaries\n",
    "\n",
    "[Link to session webpage](https://eds-217-essential-python.github.io/course-materials/interactive-sessions/2b_dictionaries.html)\n",
    "\n",
    "Date: 09/04/2024"
   ]
  },
  {
   "cell_type": "code",
   "execution_count": 6,
   "id": "0a1d50b6-618d-4fbc-baaa-7d4d0eaa2b1a",
   "metadata": {
    "tags": []
   },
   "outputs": [],
   "source": [
    "# Define a dictionary with species data containing latin names and corresponding common names.\n",
    "# key:value pairs\n",
    "species_dict = {\n",
    "    \"P ochraceus\": \"Ochre sea star\",\n",
    "    \"M californianus\": \"California mussel\",\n",
    "    \"H rufescens\": \"Red abalone\"\n",
    "}\n",
    "# dictionaries aren't sorted, so you can't use indeces. They're not in a certain order\n",
    "# everything in python is an object, so anything can be a key"
   ]
  },
  {
   "cell_type": "code",
   "execution_count": 2,
   "id": "958c2083-c7a8-48eb-b735-3d5fefee0b2e",
   "metadata": {
    "tags": []
   },
   "outputs": [
    {
     "data": {
      "text/plain": [
       "'California mussel'"
      ]
     },
     "execution_count": 2,
     "metadata": {},
     "output_type": "execute_result"
    }
   ],
   "source": [
    "species_dict['M californianus']"
   ]
  },
  {
   "cell_type": "code",
   "execution_count": 8,
   "id": "5e82d4c7-74f5-44be-bf91-4853c3297a8f",
   "metadata": {
    "tags": []
   },
   "outputs": [],
   "source": [
    "# Adding a new entry for Leather star\n",
    "species_dict[\"D imbricata\"] = \"Leather star\"\n",
    "# don't have to worry about where it goes cuz it's unordered\n",
    "#Also, keys in dicts are unique. Two items cannot have the same key"
   ]
  },
  {
   "cell_type": "code",
   "execution_count": 10,
   "id": "82892a99-03bb-4417-9cf8-ec095c1db989",
   "metadata": {
    "tags": []
   },
   "outputs": [
    {
     "name": "stdout",
     "output_type": "stream",
     "text": [
      "Common name for P ochraceus: Ochre sea star\n"
     ]
    }
   ],
   "source": [
    "# Accessing a species by its latin name\n",
    "print(\"Common name for P ochraceus:\", species_dict[\"P ochraceus\"])"
   ]
  },
  {
   "cell_type": "code",
   "execution_count": 9,
   "id": "fefc7c50-f2a7-461b-94fe-7139f0f6d209",
   "metadata": {
    "tags": []
   },
   "outputs": [
    {
     "data": {
      "text/plain": [
       "['P ochraceus', 'M californianus', 'H rufescens', 'D imbricata']"
      ]
     },
     "execution_count": 9,
     "metadata": {},
     "output_type": "execute_result"
    }
   ],
   "source": [
    "# Make a list of all the keys in a dictionary\n",
    "list(species_dict.keys())"
   ]
  },
  {
   "cell_type": "code",
   "execution_count": 11,
   "id": "517f0d1f-0203-49a1-8bb0-00f83cf8f694",
   "metadata": {
    "tags": []
   },
   "outputs": [
    {
     "data": {
      "text/plain": [
       "['Ochre sea star', 'California mussel', 'Red abalone', 'Leather star']"
      ]
     },
     "execution_count": 11,
     "metadata": {},
     "output_type": "execute_result"
    }
   ],
   "source": [
    "list(species_dict.values())"
   ]
  },
  {
   "cell_type": "code",
   "execution_count": 15,
   "id": "31447c0f-c28f-462b-9a8e-b6a9f062655f",
   "metadata": {
    "tags": []
   },
   "outputs": [
    {
     "data": {
      "text/plain": [
       "dict_items([('P ochraceus', 'Ochre sea star'), ('M californianus', 'California mussel'), ('H rufescens', 'Red abalone'), ('D imbricata', 'Leather star')])"
      ]
     },
     "execution_count": 15,
     "metadata": {},
     "output_type": "execute_result"
    }
   ],
   "source": [
    "# make a list of typles of key, value pairs\n",
    "species_dict.items()\n",
    "# things in parenthesis are tuples. Lists that cannot be modified, immutable\n",
    "# i.e. a tuple of latitude longitude"
   ]
  },
  {
   "cell_type": "markdown",
   "id": "f8034893-b72f-4ed8-8dd8-6473febc8f27",
   "metadata": {},
   "source": [
    "## Looping through a dictionary:\n",
    "\n",
    "Use a `for` loop to loop through a dictionary\n",
    "\n",
    "```python\n",
    "for item in collection:\n",
    "    print(item)\n",
    "```"
   ]
  },
  {
   "cell_type": "code",
   "execution_count": 21,
   "id": "00fa5576-b8b7-40bf-8109-042a20f2afd0",
   "metadata": {
    "tags": []
   },
   "outputs": [
    {
     "name": "stdout",
     "output_type": "stream",
     "text": [
      "P ochraceus\n",
      "M californianus\n",
      "H rufescens\n",
      "D imbricata\n"
     ]
    }
   ],
   "source": [
    "# print each key in dict\n",
    "for key in list(species_dict.keys()):\n",
    "    print(key)"
   ]
  },
  {
   "cell_type": "code",
   "execution_count": 22,
   "id": "6d4122fb-80d3-4a9b-9a80-fa9cb04d3267",
   "metadata": {
    "tags": []
   },
   "outputs": [
    {
     "name": "stdout",
     "output_type": "stream",
     "text": [
      "Ochre sea star\n",
      "California mussel\n",
      "Red abalone\n",
      "Leather star\n"
     ]
    }
   ],
   "source": [
    "# print each value in dict\n",
    "for x in list(species_dict.values()): # doesn't matter what you make x\n",
    "    print(x)"
   ]
  },
  {
   "cell_type": "code",
   "execution_count": 23,
   "id": "7e07b278-43d0-4cec-9624-31b9bcd92c84",
   "metadata": {
    "tags": []
   },
   "outputs": [
    {
     "name": "stdout",
     "output_type": "stream",
     "text": [
      "('P ochraceus', 'Ochre sea star')\n",
      "('M californianus', 'California mussel')\n",
      "('H rufescens', 'Red abalone')\n",
      "('D imbricata', 'Leather star')\n"
     ]
    }
   ],
   "source": [
    "# print each item out of dict\n",
    "for item in list(species_dict.items()):\n",
    "    print(item)"
   ]
  },
  {
   "cell_type": "code",
   "execution_count": 25,
   "id": "0801298c-b8c1-431c-9dae-eb97ead58ad3",
   "metadata": {
    "tags": []
   },
   "outputs": [
    {
     "name": "stdout",
     "output_type": "stream",
     "text": [
      "The common name for P ochraceus is Ochre sea star\n",
      "The common name for M californianus is California mussel\n",
      "The common name for H rufescens is Red abalone\n",
      "The common name for D imbricata is Leather star\n"
     ]
    }
   ],
   "source": [
    "for item in list(species_dict.items()):\n",
    "    key, value = item # turn one variable into two variables. Works w tuples\n",
    "    print(f\"The common name for {key} is {value}\")"
   ]
  },
  {
   "cell_type": "code",
   "execution_count": 26,
   "id": "654f09a8-a738-40f7-9f7d-54b2d9f817b6",
   "metadata": {
    "tags": []
   },
   "outputs": [
    {
     "ename": "KeyError",
     "evalue": "'E dolifni'",
     "output_type": "error",
     "traceback": [
      "\u001b[0;31m---------------------------------------------------------------------------\u001b[0m",
      "\u001b[0;31mKeyError\u001b[0m                                  Traceback (most recent call last)",
      "Cell \u001b[0;32mIn[26], line 2\u001b[0m\n\u001b[1;32m      1\u001b[0m \u001b[38;5;66;03m# accessing a key that doesn't exist raises a 'Key Error' exception\u001b[39;00m\n\u001b[0;32m----> 2\u001b[0m \u001b[43mspecies_dict\u001b[49m\u001b[43m[\u001b[49m\u001b[38;5;124;43m'\u001b[39;49m\u001b[38;5;124;43mE dolifni\u001b[39;49m\u001b[38;5;124;43m'\u001b[39;49m\u001b[43m]\u001b[49m\n",
      "\u001b[0;31mKeyError\u001b[0m: 'E dolifni'"
     ]
    }
   ],
   "source": [
    "# accessing a key that doesn't exist raises a 'Key Error' exception\n",
    "species_dict['E dolifni']"
   ]
  },
  {
   "cell_type": "code",
   "execution_count": 27,
   "id": "141708e4-aa1b-4770-bc24-0ff62153102c",
   "metadata": {
    "tags": []
   },
   "outputs": [
    {
     "name": "stdout",
     "output_type": "stream",
     "text": [
      "Ochre sea star\n"
     ]
    }
   ],
   "source": [
    "# You can use the .get() method to allow lookups to fail silently.\n",
    "result = species_dict.get(\"P ochraceus\")\n",
    "print(result)"
   ]
  },
  {
   "cell_type": "code",
   "execution_count": 29,
   "id": "dbdc8cf1-d548-4e70-ad30-e2508c668426",
   "metadata": {
    "tags": []
   },
   "outputs": [
    {
     "name": "stdout",
     "output_type": "stream",
     "text": [
      "Ochre sea star\n",
      "Species not found\n"
     ]
    }
   ],
   "source": [
    "# you can also set a default response for missing keys:\n",
    "result = species_dict.get(\"P ochraceus\", \"Species not found\")\n",
    "print(result)\n",
    "\n",
    "result = species_dict.get(\"E dolifni\", \"Species not found\")\n",
    "print(result)"
   ]
  },
  {
   "cell_type": "code",
   "execution_count": null,
   "id": "54b31d91-7a76-4a2c-b514-45899e8a1def",
   "metadata": {},
   "outputs": [],
   "source": []
  }
 ],
 "metadata": {
  "kernelspec": {
   "display_name": "Python 3.10.0",
   "language": "python",
   "name": "python3.10.0"
  },
  "language_info": {
   "codemirror_mode": {
    "name": "ipython",
    "version": 3
   },
   "file_extension": ".py",
   "mimetype": "text/x-python",
   "name": "python",
   "nbconvert_exporter": "python",
   "pygments_lexer": "ipython3",
   "version": "3.10.0"
  }
 },
 "nbformat": 4,
 "nbformat_minor": 5
}
