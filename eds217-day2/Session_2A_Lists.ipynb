{
 "cells": [
  {
   "cell_type": "markdown",
   "id": "bddfe4af-952c-44e6-b1e3-19f88cf6e3f0",
   "metadata": {},
   "source": [
    "# Day 2: Session A - Lists\n",
    "\n",
    "[Link to session webpage](https://eds-217-essential-python.github.io/course-materials/interactive-sessions/2a_lists.html)\n",
    "\n",
    "Date: 09/04/2024"
   ]
  },
  {
   "cell_type": "code",
   "execution_count": 1,
   "id": "423e7837-bb9b-4307-8dd8-bb6852443e00",
   "metadata": {
    "tags": []
   },
   "outputs": [],
   "source": [
    "# Define list variables\n",
    "num_list = [4, 23, 654, 2, 0, -12, 4391]\n",
    "str_list = ['energy', 'water', 'carbon']"
   ]
  },
  {
   "cell_type": "code",
   "execution_count": 2,
   "id": "2c6f09a5-47c6-4169-918a-28c7d1242cc7",
   "metadata": {
    "tags": []
   },
   "outputs": [
    {
     "data": {
      "text/plain": [
       "3"
      ]
     },
     "execution_count": 2,
     "metadata": {},
     "output_type": "execute_result"
    }
   ],
   "source": [
    "len(str_list)"
   ]
  },
  {
   "cell_type": "code",
   "execution_count": 3,
   "id": "c33fdac6-02d7-484d-b871-9a69e5b9cffa",
   "metadata": {
    "tags": []
   },
   "outputs": [
    {
     "data": {
      "text/plain": [
       "-12"
      ]
     },
     "execution_count": 3,
     "metadata": {},
     "output_type": "execute_result"
    }
   ],
   "source": [
    "min(num_list)"
   ]
  },
  {
   "cell_type": "code",
   "execution_count": 4,
   "id": "bfe413ca-2b7e-4e0b-994a-5644a1d5df2e",
   "metadata": {
    "tags": []
   },
   "outputs": [
    {
     "data": {
      "text/plain": [
       "4391"
      ]
     },
     "execution_count": 4,
     "metadata": {},
     "output_type": "execute_result"
    }
   ],
   "source": [
    "max(num_list)"
   ]
  },
  {
   "cell_type": "markdown",
   "id": "d4dff26a-d8f6-43ac-bff3-ebcf74b015f4",
   "metadata": {},
   "source": [
    "## Indexing \n",
    "\n",
    "**Python is zero indexed!**"
   ]
  },
  {
   "cell_type": "code",
   "execution_count": 5,
   "id": "3b973809-2731-4729-a32c-2e42904a2ddc",
   "metadata": {
    "tags": []
   },
   "outputs": [
    {
     "name": "stdout",
     "output_type": "stream",
     "text": [
      "23\n"
     ]
    }
   ],
   "source": [
    "# The second element of a list is index position 1\n",
    "print(num_list[1])"
   ]
  },
  {
   "cell_type": "code",
   "execution_count": 6,
   "id": "f0c0c81c-16dd-41e3-952c-d2e0319359a7",
   "metadata": {
    "tags": []
   },
   "outputs": [
    {
     "name": "stdout",
     "output_type": "stream",
     "text": [
      "4391\n"
     ]
    }
   ],
   "source": [
    "# the last element of a list can be found using -1:\n",
    "print(num_list[-1])"
   ]
  },
  {
   "cell_type": "code",
   "execution_count": 11,
   "id": "ca7ff272-df5b-4fb6-9464-6500f387aec4",
   "metadata": {
    "tags": []
   },
   "outputs": [
    {
     "name": "stdout",
     "output_type": "stream",
     "text": [
      "water\n",
      "water\n"
     ]
    }
   ],
   "source": [
    "# Find the second value of str_list two different ways\n",
    "print(str_list[1]) # direct indexing\n",
    "print(str_list[-2]) # end of list"
   ]
  },
  {
   "cell_type": "markdown",
   "id": "d1259a63-3064-44fb-8feb-c383feec52de",
   "metadata": {},
   "source": [
    "## Slicing\n",
    "\n",
    "Selecting selections of a collections is slicing"
   ]
  },
  {
   "cell_type": "code",
   "execution_count": 17,
   "id": "62211f4b-74e8-4d6e-8817-32194926d577",
   "metadata": {
    "tags": []
   },
   "outputs": [
    {
     "data": {
      "text/plain": [
       "[654, 2]"
      ]
     },
     "execution_count": 17,
     "metadata": {},
     "output_type": "execute_result"
    }
   ],
   "source": [
    "num_list = [4, 23, 654, 2, 0, -12, 4391]\n",
    "num_list[2:4] # gives you two numbers\n",
    "# non-greedy, doesn't include the end"
   ]
  },
  {
   "cell_type": "code",
   "execution_count": 15,
   "id": "83ee93a8-08bd-4fdf-a581-be07359e2ad7",
   "metadata": {
    "tags": []
   },
   "outputs": [
    {
     "name": "stdout",
     "output_type": "stream",
     "text": [
      "[2, 0, -12, 4391]\n"
     ]
    }
   ],
   "source": [
    "# Everything after a location (including that location)\n",
    "print(num_list[3:])"
   ]
  },
  {
   "cell_type": "code",
   "execution_count": 21,
   "id": "0a5c524e-7e56-487b-b093-dbf20386cd77",
   "metadata": {
    "tags": []
   },
   "outputs": [
    {
     "data": {
      "text/plain": [
       "[654, 2, 0, -12]"
      ]
     },
     "execution_count": 21,
     "metadata": {},
     "output_type": "execute_result"
    }
   ],
   "source": [
    "num_list[2:6] "
   ]
  },
  {
   "cell_type": "code",
   "execution_count": 18,
   "id": "06a68986-7a0c-4e98-b459-54722a765ebc",
   "metadata": {
    "tags": []
   },
   "outputs": [
    {
     "data": {
      "text/plain": [
       "[4, 23, 654, 2]"
      ]
     },
     "execution_count": 18,
     "metadata": {},
     "output_type": "execute_result"
    }
   ],
   "source": [
    "num_list[0:4]"
   ]
  },
  {
   "cell_type": "code",
   "execution_count": 20,
   "id": "b4dc14cf-eff7-4fda-b495-df2dc2567610",
   "metadata": {
    "tags": []
   },
   "outputs": [
    {
     "data": {
      "text/plain": [
       "[4, 23, 654, 2]"
      ]
     },
     "execution_count": 20,
     "metadata": {},
     "output_type": "execute_result"
    }
   ],
   "source": [
    "num_list[:4] # same as the one above"
   ]
  },
  {
   "cell_type": "code",
   "execution_count": 24,
   "id": "da3cd442-3920-45e7-971b-a72939164101",
   "metadata": {
    "tags": []
   },
   "outputs": [
    {
     "data": {
      "text/plain": [
       "[23, 654, 2, 0, -12]"
      ]
     },
     "execution_count": 24,
     "metadata": {},
     "output_type": "execute_result"
    }
   ],
   "source": [
    "num_list[-6:-1] # when counting from the back, you don't start from 0\n",
    "# 6 from the back, not including -1"
   ]
  },
  {
   "cell_type": "code",
   "execution_count": null,
   "id": "7fe2992a-3a5a-47e1-af0c-7a72b6993874",
   "metadata": {},
   "outputs": [],
   "source": [
    "#[start:stop:step]\n",
    "# step is default always 1"
   ]
  },
  {
   "cell_type": "code",
   "execution_count": 25,
   "id": "80004f53-ffef-49b5-bb1a-e1512cea482c",
   "metadata": {
    "tags": []
   },
   "outputs": [
    {
     "data": {
      "text/plain": [
       "[4, 654]"
      ]
     },
     "execution_count": 25,
     "metadata": {},
     "output_type": "execute_result"
    }
   ],
   "source": [
    "num_list[0:4:2]"
   ]
  },
  {
   "cell_type": "code",
   "execution_count": 26,
   "id": "f5800d9a-fae6-44b6-829c-1b1718a51282",
   "metadata": {
    "tags": []
   },
   "outputs": [
    {
     "data": {
      "text/plain": [
       "[4, 654, 0, 4391]"
      ]
     },
     "execution_count": 26,
     "metadata": {},
     "output_type": "execute_result"
    }
   ],
   "source": [
    "num_list[::2]"
   ]
  },
  {
   "cell_type": "code",
   "execution_count": 27,
   "id": "3e78735f-532c-4342-a842-73c3f38a4b87",
   "metadata": {
    "tags": []
   },
   "outputs": [
    {
     "data": {
      "text/plain": [
       "[4391, -12, 0, 2, 654, 23, 4]"
      ]
     },
     "execution_count": 27,
     "metadata": {},
     "output_type": "execute_result"
    }
   ],
   "source": [
    "# A step of -1 returns the list in reverse\n",
    "num_list[::-1]"
   ]
  },
  {
   "cell_type": "markdown",
   "id": "2496bd2b-e191-4aba-9748-6d4ee51f7248",
   "metadata": {},
   "source": [
    "### String Indices\n",
    "\n",
    "similar to lists..."
   ]
  },
  {
   "cell_type": "code",
   "execution_count": 28,
   "id": "f522de5a-b710-42b5-828a-e1ea009d7613",
   "metadata": {
    "tags": []
   },
   "outputs": [],
   "source": [
    "word_str = 'antidisestablishmentarianism'"
   ]
  },
  {
   "cell_type": "code",
   "execution_count": 29,
   "id": "0ab7a258-9a1f-42d1-aebf-67a7efa9f17e",
   "metadata": {
    "tags": []
   },
   "outputs": [
    {
     "data": {
      "text/plain": [
       "'s'"
      ]
     },
     "execution_count": 29,
     "metadata": {},
     "output_type": "execute_result"
    }
   ],
   "source": [
    "word_str[14]"
   ]
  },
  {
   "cell_type": "code",
   "execution_count": 31,
   "id": "3ae326fe-9f2f-4317-9215-94e071bb4dfb",
   "metadata": {
    "tags": []
   },
   "outputs": [
    {
     "data": {
      "text/plain": [
       "'aistlhnrnm'"
      ]
     },
     "execution_count": 31,
     "metadata": {},
     "output_type": "execute_result"
    }
   ],
   "source": [
    "# select every 3rd letter\n",
    "word_str[::3]"
   ]
  },
  {
   "cell_type": "code",
   "execution_count": 49,
   "id": "782c2f1b-d1b6-4512-8eee-f0979eaa86d0",
   "metadata": {
    "tags": []
   },
   "outputs": [],
   "source": [
    "colors = ['red', 'blue', 'green', 'black', 'white', 'pink']\n",
    "#lists are mutable, they can be changed"
   ]
  },
  {
   "cell_type": "code",
   "execution_count": 50,
   "id": "cf4dd25a-b924-42ef-a1aa-d56657fda46a",
   "metadata": {
    "tags": []
   },
   "outputs": [
    {
     "name": "stdout",
     "output_type": "stream",
     "text": [
      "['red', 'blue', 'green', 'purple', 'black', 'white', 'pink']\n"
     ]
    }
   ],
   "source": [
    "# add element x to a list at position i using insert(i, x)\n",
    "colors.insert(3, 'purple')\n",
    "print(colors)\n"
   ]
  },
  {
   "cell_type": "code",
   "execution_count": 51,
   "id": "d32fbe2f-33f0-4d49-a50d-5dfc0ea24abd",
   "metadata": {
    "tags": []
   },
   "outputs": [
    {
     "name": "stdout",
     "output_type": "stream",
     "text": [
      "pink\n",
      "['red', 'blue', 'green', 'purple', 'black', 'white']\n"
     ]
    }
   ],
   "source": [
    "# remove from the end of a list using pop\n",
    "# pop something off the end of the list and give the pizza to someone\n",
    "\n",
    "print(colors.pop())       # removes the last element, assumes pop(-1)\n",
    "print(colors)"
   ]
  },
  {
   "cell_type": "code",
   "execution_count": 53,
   "id": "3dd26115-e632-45f5-95bb-bfae1626a0a5",
   "metadata": {
    "tags": []
   },
   "outputs": [
    {
     "name": "stdout",
     "output_type": "stream",
     "text": [
      "['blue', 'green', 'purple', 'black', 'white']\n"
     ]
    }
   ],
   "source": [
    "colors.remove('red')\n",
    "print(colors)"
   ]
  },
  {
   "cell_type": "code",
   "execution_count": 41,
   "id": "ddd22f57-e05a-40a9-b0b1-ad87ac03df87",
   "metadata": {
    "tags": []
   },
   "outputs": [
    {
     "data": {
      "text/plain": [
       "'green'"
      ]
     },
     "execution_count": 41,
     "metadata": {},
     "output_type": "execute_result"
    }
   ],
   "source": [
    "colors.pop(2)      # removes the third element"
   ]
  },
  {
   "cell_type": "code",
   "execution_count": 56,
   "id": "ff9e9afb-34a2-479c-9980-1685576ed059",
   "metadata": {
    "tags": []
   },
   "outputs": [],
   "source": [
    "del colors[2]      # removes the third element, hasn't been pythonified. will delete index position 2"
   ]
  },
  {
   "cell_type": "code",
   "execution_count": 54,
   "id": "ff167c8f-81a6-49f4-a3de-cc5deea65d5f",
   "metadata": {
    "tags": []
   },
   "outputs": [],
   "source": [
    "del colors[2:4]    # removes the third and fourth elements"
   ]
  },
  {
   "cell_type": "code",
   "execution_count": 57,
   "id": "5f87dc88-2341-429d-aeec-1ee85a19e3ad",
   "metadata": {
    "tags": []
   },
   "outputs": [
    {
     "name": "stdout",
     "output_type": "stream",
     "text": [
      "['blue', 'green']\n"
     ]
    }
   ],
   "source": [
    "print(colors)"
   ]
  },
  {
   "cell_type": "markdown",
   "id": "4db17eeb-a898-41c0-a9f2-298a3f443e89",
   "metadata": {},
   "source": [
    "Apply what we've learned:"
   ]
  },
  {
   "cell_type": "code",
   "execution_count": 58,
   "id": "321d124e-2122-41fc-90ee-e4dfe0e8cfef",
   "metadata": {
    "tags": []
   },
   "outputs": [],
   "source": [
    "colors = ['red', 'blue', 'green', 'purple', 'black', 'white', 'pink']"
   ]
  },
  {
   "cell_type": "code",
   "execution_count": 59,
   "id": "8e118bf2-ccf3-416a-8ed2-e766e2b30df9",
   "metadata": {
    "tags": []
   },
   "outputs": [
    {
     "name": "stdout",
     "output_type": "stream",
     "text": [
      "['red', 'blue', 'green', 'black', 'white']\n"
     ]
    }
   ],
   "source": [
    "del colors[-1]\n",
    "colors.remove('purple')\n",
    "print(colors)"
   ]
  },
  {
   "cell_type": "markdown",
   "id": "de25b5bc-9d7b-4bb2-ad90-4ca9d8ca38b0",
   "metadata": {},
   "source": [
    "## Sorting"
   ]
  },
  {
   "cell_type": "code",
   "execution_count": 1,
   "id": "e32bda3a-e9a5-480f-9bc3-13907d7b9c8c",
   "metadata": {
    "tags": []
   },
   "outputs": [
    {
     "name": "stdout",
     "output_type": "stream",
     "text": [
      "[0.5, 3.333, 3.42, 5.1, 5.8, 7.44, 26.0, 39.0, 100.4]\n"
     ]
    }
   ],
   "source": [
    "rand_list = [5.1 , 3.42 , 3.333 , 100.4 , 0.5 , 26.0 , 7.44 , 5.8 , 39.0]\n",
    "rand_list.sort()\n",
    "print(rand_list)"
   ]
  },
  {
   "cell_type": "code",
   "execution_count": 2,
   "id": "aae8346e-7fd4-479a-a42d-24cf11af7621",
   "metadata": {
    "tags": []
   },
   "outputs": [
    {
     "name": "stdout",
     "output_type": "stream",
     "text": [
      "[100.4, 39.0, 26.0, 7.44, 5.8, 5.1, 3.42, 3.333, 0.5]\n"
     ]
    }
   ],
   "source": [
    "rand_list = [5.1 , 3.42 , 3.333 , 100.4 , 0.5 , 26.0 , 7.44 , 5.8 , 39.0]\n",
    "rand_list.sort(reverse=True)\n",
    "print(rand_list)"
   ]
  },
  {
   "cell_type": "markdown",
   "id": "031a92d8-b314-4dcc-85a7-b59550699f0f",
   "metadata": {},
   "source": [
    "This is probably the best way to assign a new list while retaining the integrity of the old list "
   ]
  },
  {
   "cell_type": "code",
   "execution_count": 4,
   "id": "d5a17050-9d23-422d-80f9-841c191e7055",
   "metadata": {
    "tags": []
   },
   "outputs": [
    {
     "name": "stdout",
     "output_type": "stream",
     "text": [
      "5.1\n",
      "0.5\n"
     ]
    }
   ],
   "source": [
    "rand_list = [5.1 , 3.42 , 3.333 , 100.4 , 0.5 , 26.0 , 7.44 , 5.8 , 39.0]\n",
    "sorted_list = sorted(rand_list) # sorted returns a new list that is the sorted version of the provided list\n",
    "print(rand_list[0])\n",
    "print(sorted_list[0])"
   ]
  },
  {
   "cell_type": "code",
   "execution_count": 8,
   "id": "49a5a612-e189-4b80-90c9-34cdb87561ea",
   "metadata": {
    "tags": []
   },
   "outputs": [
    {
     "name": "stdout",
     "output_type": "stream",
     "text": [
      "[0.5, 3.333, 3.42, 5.1, 5.8, 7.44, 26.0, 39.0, 100.4]\n",
      "[0.5, 3.333, 3.42, 5.1, 5.8, 7.44, 26.0, 39.0, 100.4]\n"
     ]
    }
   ],
   "source": [
    "rand_list = [5.1 , 3.42 , 3.333 , 100.4 , 0.5 , 26.0 , 7.44 , 5.8 , 39.0]\n",
    "new_list = rand_list \n",
    "new_list.sort() # overwrites rand list too. new_list only points to rand list. Just a relationship amongst things, not a new entity\n",
    "# you're not making a copy\n",
    "print(new_list)\n",
    "print(rand_list)"
   ]
  },
  {
   "cell_type": "code",
   "execution_count": 11,
   "id": "c2c462d5-5cc6-46a0-8abd-d4311e539671",
   "metadata": {
    "tags": []
   },
   "outputs": [
    {
     "name": "stdout",
     "output_type": "stream",
     "text": [
      "[0.5, 3.333, 3.42, 5.1, 5.8, 7.44, 26.0, 39.0, 100.4]\n",
      "[5.1, 3.42, 3.333, 100.4, 0.5, 26.0, 7.44, 5.8, 39.0]\n"
     ]
    }
   ],
   "source": [
    "# use copy to avoid creating naked assignments\n",
    "rand_list = [5.1 , 3.42 , 3.333 , 100.4 , 0.5 , 26.0 , 7.44 , 5.8 , 39.0]\n",
    "new_list = rand_list.copy() # actually makes a copy of rand list into new list\n",
    "new_list.sort() \n",
    "print(new_list)\n",
    "print(rand_list) # preserves structure"
   ]
  },
  {
   "cell_type": "code",
   "execution_count": 13,
   "id": "73753d24-dd89-454c-9d7b-43f6ac3a149b",
   "metadata": {
    "tags": []
   },
   "outputs": [],
   "source": [
    "# other ways to actually make a copy\n",
    "str_list = ['energy', 'water', 'carbon']\n",
    "str_list_view = str_list\n",
    "str_list_copy = str_list.copy()\n",
    "# or\n",
    "str_list_copy = str_list[:]\n",
    "# or\n",
    "str_list_copy = list(str_list)"
   ]
  },
  {
   "cell_type": "markdown",
   "id": "aab6e670-437e-44d2-b9b0-4c130fa41f2c",
   "metadata": {},
   "source": [
    "## Basic Operators and Lists\n",
    "\n",
    "`+` and `*`"
   ]
  },
  {
   "cell_type": "code",
   "execution_count": 12,
   "id": "07277edf-31b9-4bcb-a745-6364a766439f",
   "metadata": {
    "tags": []
   },
   "outputs": [
    {
     "name": "stdout",
     "output_type": "stream",
     "text": [
      "['red', 'orange', 'yellow', 'green', 'blue', 'indigo', 'violet', 'coral', 'chartreuse', 'cyan', 'navy']\n"
     ]
    }
   ],
   "source": [
    "# Can add lists together\n",
    "rainbow  = ['red', 'orange', 'yellow', 'green', 'blue', 'indigo', 'violet']\n",
    "shades = ['coral', 'chartreuse', 'cyan', 'navy']\n",
    "print( rainbow + shades )"
   ]
  },
  {
   "cell_type": "code",
   "execution_count": 16,
   "id": "569023fc-2a1f-425f-a33f-85986899cc77",
   "metadata": {
    "tags": []
   },
   "outputs": [
    {
     "name": "stdout",
     "output_type": "stream",
     "text": [
      "['energy', 'water', 'carbon', 'energy', 'water', 'carbon']\n",
      "[4, 23, 654, 2, 0, -12, 4391, 4, 23, 654, 2, 0, -12, 4391, 4, 23, 654, 2, 0, -12, 4391, 4, 23, 654, 2, 0, -12, 4391]\n"
     ]
    }
   ],
   "source": [
    "# single lists can be repeated by multiplying by an integer\n",
    "# list mulitiplication just makes x number of lists\n",
    "num_list = [4, 23, 654, 2, 0, -12, 4391]\n",
    "str_list2 = str_list * 2\n",
    "num_list4 = num_list * 4\n",
    "print( str_list2 )\n",
    "print( num_list4 )"
   ]
  },
  {
   "cell_type": "code",
   "execution_count": 18,
   "id": "1e0c516e-96ca-4766-888b-86e680bf566b",
   "metadata": {
    "tags": []
   },
   "outputs": [
    {
     "name": "stdout",
     "output_type": "stream",
     "text": [
      "[0, 0, 0, 0, 0, 0, 0, 0, 0, 0, 0, 0, 0, 0, 0, 0, 0, 0, 0, 0]\n"
     ]
    }
   ],
   "source": [
    "print([0]*20) # a list of zeroes"
   ]
  },
  {
   "cell_type": "markdown",
   "id": "aa4db33c-8ae1-4f7d-ba64-32da01a48727",
   "metadata": {},
   "source": [
    "## Sequential lists\n",
    "\n",
    "`range()` is a built in function to make sequential lists"
   ]
  },
  {
   "cell_type": "code",
   "execution_count": 24,
   "id": "ea466923-de28-4315-a761-1b1d32ae4a1f",
   "metadata": {
    "tags": []
   },
   "outputs": [
    {
     "data": {
      "text/plain": [
       "[0, 1, 2, 3]"
      ]
     },
     "execution_count": 24,
     "metadata": {},
     "output_type": "execute_result"
    }
   ],
   "source": [
    "range(4) # doesn't immediately generate a list, need list(). range is a tool that will sequentially produce each value\n",
    "list(range(4))"
   ]
  },
  {
   "cell_type": "code",
   "execution_count": 26,
   "id": "45fd3171-9c1c-468d-913d-7fe5b19b37ea",
   "metadata": {
    "tags": []
   },
   "outputs": [
    {
     "name": "stdout",
     "output_type": "stream",
     "text": [
      "[1, 2, 3, 4, 5, 6, 7, 8, 9, 10]\n",
      "[1, 3, 5, 7, 9]\n"
     ]
    }
   ],
   "source": [
    "range_10 = list(range(1,11))\n",
    "odds_10 = list(range(1,11,2)) # step by 2, start:stop:step\n",
    "# not greedy, up to but not including stop\n",
    "# internally consistent w the slicing notation\n",
    "print(range_10)\n",
    "print(odds_10)"
   ]
  }
 ],
 "metadata": {
  "kernelspec": {
   "display_name": "Python 3.10.0",
   "language": "python",
   "name": "python3.10.0"
  },
  "language_info": {
   "codemirror_mode": {
    "name": "ipython",
    "version": 3
   },
   "file_extension": ".py",
   "mimetype": "text/x-python",
   "name": "python",
   "nbconvert_exporter": "python",
   "pygments_lexer": "ipython3",
   "version": "3.10.0"
  }
 },
 "nbformat": 4,
 "nbformat_minor": 5
}
