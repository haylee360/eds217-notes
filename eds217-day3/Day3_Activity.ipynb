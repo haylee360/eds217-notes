{
 "cells": [
  {
   "cell_type": "markdown",
   "id": "e0732da1-5683-44eb-a6a6-b35d6a837fc0",
   "metadata": {},
   "source": [
    "# Day 3 Activity\n",
    "\n",
    "[session link](https://eds-217-essential-python.github.io/course-materials/eod-practice/eod-day3.html)"
   ]
  },
  {
   "cell_type": "code",
   "execution_count": 2,
   "id": "ea51d46d-9d81-4f9f-b3da-b648c5c2b65b",
   "metadata": {
    "tags": []
   },
   "outputs": [],
   "source": [
    "import pandas as pd\n",
    "import numpy as np"
   ]
  },
  {
   "cell_type": "code",
   "execution_count": 3,
   "id": "2f3ca456-f447-4e3a-ad3e-d09bf765deb7",
   "metadata": {
    "tags": []
   },
   "outputs": [
    {
     "name": "stdout",
     "output_type": "stream",
     "text": [
      "Generator(PCG64)\n",
      "[72 93 89 83 82 95 72 90 76 72]\n",
      "<class 'numpy.ndarray'>\n"
     ]
    },
    {
     "data": {
      "text/plain": [
       "10"
      ]
     },
     "execution_count": 3,
     "metadata": {},
     "output_type": "execute_result"
    }
   ],
   "source": [
    "rng = np.random.default_rng(seed=42)\n",
    "print(rng)\n",
    "rscores = rng.choice(range(70,100), 10)\n",
    "print(rscores)\n",
    "print(type(rscores))\n",
    "len(rscores)"
   ]
  },
  {
   "cell_type": "code",
   "execution_count": 4,
   "id": "8f1bf97e-1f82-4cfa-a294-4bb2dd81a1a2",
   "metadata": {
    "tags": []
   },
   "outputs": [
    {
     "name": "stdout",
     "output_type": "stream",
     "text": [
      "Sep    72\n",
      "Oct    93\n",
      "Nov    89\n",
      "Dec    83\n",
      "Jan    82\n",
      "Feb    95\n",
      "Mar    72\n",
      "Apr    90\n",
      "May    76\n",
      "Jun    72\n",
      "dtype: int64\n"
     ]
    }
   ],
   "source": [
    "months = ['Sep', 'Oct', 'Nov', 'Dec', 'Jan', 'Feb', 'Mar', 'Apr', 'May', 'Jun']\n",
    "\n",
    "scores = pd.Series(data=rscores, index=months)\n",
    "print(scores)"
   ]
  },
  {
   "cell_type": "markdown",
   "id": "f7dd16a8-d5b8-4596-be06-407801bc8b7b",
   "metadata": {},
   "source": [
    "1. What is the student’s average test score for the entire year?\n",
    "Calculate the mean of all scores in the series.\n",
    "\n",
    "2. What is the student’s average test score during the first half of the year?\n",
    "Calculate the mean of the first five months’ scores.\n",
    "\n",
    "3. What is the student’s average test score during the second half of the year?\n",
    "Calculate the mean of the last five months’ scores.\n",
    "\n",
    "4. Did the student improve their performance in the second half? If so, by how much?\n",
    "Compare the average scores from the first and second half of the year."
   ]
  },
  {
   "cell_type": "code",
   "execution_count": 6,
   "id": "5034f4c2-0f02-42ac-bd5f-8d5ea72139f6",
   "metadata": {
    "tags": []
   },
   "outputs": [
    {
     "name": "stdout",
     "output_type": "stream",
     "text": [
      "The mean test score is 82.40\n",
      "The mean test score is during the first half of the year is 83.80\n",
      "The mean test score is during the second half of the year is 81.00\n",
      "The difference in mean test score is -2.80\n"
     ]
    }
   ],
   "source": [
    "# mean test score\n",
    "print(f\"The mean test score is {scores.mean():.2f}\")\n",
    "\n",
    "# Mean score during the first five months\n",
    "print(f\"The mean test score is during the first half of the year is {scores[:5].mean():.2f}\")\n",
    "\n",
    "# Mean score during the last five months\n",
    "print(f\"The mean test score is during the second half of the year is {scores[5:].mean():.2f}\")\n",
    "\n",
    "# Comparing first and second half scores\n",
    "print(f\"The difference in mean test score is {scores[5:].mean() - scores[:5].mean():.2f}\")"
   ]
  },
  {
   "cell_type": "markdown",
   "id": "b0f643ce-ceff-474a-b7c9-155cd8ef89df",
   "metadata": {},
   "source": [
    "## Exploring reproducibility"
   ]
  },
  {
   "cell_type": "code",
   "execution_count": 49,
   "id": "f8117071-525b-4194-b9c7-616dfb48d736",
   "metadata": {
    "tags": []
   },
   "outputs": [
    {
     "name": "stdout",
     "output_type": "stream",
     "text": [
      "True\n"
     ]
    }
   ],
   "source": [
    "rng1 = np.random.default_rng(seed=42)\n",
    "rng2 = np.random.default_rng(seed=42)\n",
    "\n",
    "series1 = pd.Series(rng1.integers(70, 101, size=10), index=months)\n",
    "series2 = pd.Series(rng2.integers(70, 101, size=10), index=months)\n",
    "\n",
    "print(series1.equals(series2))  # This should return True"
   ]
  },
  {
   "cell_type": "code",
   "execution_count": 50,
   "id": "bc92e5d1-6aaf-4031-b6e2-871011bbee83",
   "metadata": {
    "tags": []
   },
   "outputs": [
    {
     "name": "stdout",
     "output_type": "stream",
     "text": [
      "False\n"
     ]
    }
   ],
   "source": [
    "rng3 = np.random.default_rng(seed=42)\n",
    "rng4 = np.random.default_rng(seed=123)\n",
    "\n",
    "series3 = pd.Series(rng3.integers(70, 101, size=10), index=months)\n",
    "series4 = pd.Series(rng4.integers(70, 101, size=10), index=months)\n",
    "\n",
    "print(series3.equals(series4))  # This should return False"
   ]
  },
  {
   "cell_type": "code",
   "execution_count": null,
   "id": "f46561e8-6d6c-46d0-836f-e557ce44b5ad",
   "metadata": {},
   "outputs": [],
   "source": []
  }
 ],
 "metadata": {
  "kernelspec": {
   "display_name": "Python 3.10.0",
   "language": "python",
   "name": "python3.10.0"
  },
  "language_info": {
   "codemirror_mode": {
    "name": "ipython",
    "version": 3
   },
   "file_extension": ".py",
   "mimetype": "text/x-python",
   "name": "python",
   "nbconvert_exporter": "python",
   "pygments_lexer": "ipython3",
   "version": "3.10.0"
  }
 },
 "nbformat": 4,
 "nbformat_minor": 5
}
