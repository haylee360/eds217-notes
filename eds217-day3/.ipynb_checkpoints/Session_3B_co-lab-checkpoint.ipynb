{
 "cells": [
  {
   "cell_type": "markdown",
   "id": "3c6def04-73cd-4dcf-82b1-af30e27ff87d",
   "metadata": {},
   "source": [
    "# Session 3B coding lab\n",
    "\n",
    "[session link](https://eds-217-essential-python.github.io/course-materials/coding-colabs/3b_control_flows.html)"
   ]
  },
  {
   "cell_type": "code",
   "execution_count": 2,
   "id": "74f8f603-9639-4a0a-9360-3e8b5a3f321f",
   "metadata": {
    "tags": []
   },
   "outputs": [
    {
     "name": "stdout",
     "output_type": "stream",
     "text": [
      "Enjoy the pleasant weahter!\n"
     ]
    }
   ],
   "source": [
    "temperature = 20\n",
    "\n",
    "# If temperature is above 25, print “It’s a hot day, stay hydrated!”\n",
    "# Otherwise, print “Enjoy the pleasant weather!”\n",
    "# Use an if-else statement to print weather advice\n",
    "\n",
    "if temperature > 25:\n",
    "    print(\"It's a hot day, stay hydrated!\")\n",
    "elif temperature <= 25:\n",
    "    print(\"Enjoy the pleasant weahter!\")"
   ]
  },
  {
   "cell_type": "code",
   "execution_count": 6,
   "id": "3fff1b67-4abf-4269-9da0-8af7e158d48b",
   "metadata": {
    "tags": []
   },
   "outputs": [
    {
     "name": "stdout",
     "output_type": "stream",
     "text": [
      "B\n"
     ]
    }
   ],
   "source": [
    "score = 85\n",
    "\n",
    "if score >= 90:\n",
    "    print(\"A\")\n",
    "elif score >= 80 and score <= 89:\n",
    "    print(\"B\")\n",
    "elif score >= 70 and score <= 79:\n",
    "    print(\"C\")\n",
    "elif score >= 60 and score <= 69:\n",
    "    print(\"D\")\n",
    "elif score > 60:\n",
    "    print(\"F\")"
   ]
  },
  {
   "cell_type": "code",
   "execution_count": 14,
   "id": "5928cb53-204d-4e48-bd59-9240cedc9cd2",
   "metadata": {
    "tags": []
   },
   "outputs": [
    {
     "name": "stdout",
     "output_type": "stream",
     "text": [
      "55\n"
     ]
    }
   ],
   "source": [
    "# harder method\n",
    "total = 0\n",
    "\n",
    "for count in range(1,11):\n",
    "    total += count\n",
    "    if count == 10:\n",
    "        print(total)"
   ]
  },
  {
   "cell_type": "code",
   "execution_count": 15,
   "id": "1d26e357-8d4f-48a6-a833-3603e1eb3243",
   "metadata": {
    "tags": []
   },
   "outputs": [
    {
     "name": "stdout",
     "output_type": "stream",
     "text": [
      "55\n"
     ]
    }
   ],
   "source": [
    "# simpler method\n",
    "total = 0\n",
    "\n",
    "for count in range(1,11):\n",
    "    total = total + count\n",
    "print(total) # this is not in the loop"
   ]
  },
  {
   "cell_type": "code",
   "execution_count": 25,
   "id": "887ee664-1455-4efa-b7d5-68b852b97ab0",
   "metadata": {
    "tags": []
   },
   "outputs": [
    {
     "name": "stdout",
     "output_type": "stream",
     "text": [
      "5\n",
      "4\n",
      "3\n",
      "2\n",
      "1\n",
      "BLAST OFF!\n"
     ]
    }
   ],
   "source": [
    "count = 5\n",
    "\n",
    "while count >= 0:\n",
    "    if count > 0:\n",
    "        print(count)\n",
    "    elif count == 0:\n",
    "        print(\"BLAST OFF!\")\n",
    "    count -= 1"
   ]
  }
 ],
 "metadata": {
  "kernelspec": {
   "display_name": "Python 3.10.0",
   "language": "python",
   "name": "python3.10.0"
  },
  "language_info": {
   "codemirror_mode": {
    "name": "ipython",
    "version": 3
   },
   "file_extension": ".py",
   "mimetype": "text/x-python",
   "name": "python",
   "nbconvert_exporter": "python",
   "pygments_lexer": "ipython3",
   "version": "3.10.0"
  }
 },
 "nbformat": 4,
 "nbformat_minor": 5
}
