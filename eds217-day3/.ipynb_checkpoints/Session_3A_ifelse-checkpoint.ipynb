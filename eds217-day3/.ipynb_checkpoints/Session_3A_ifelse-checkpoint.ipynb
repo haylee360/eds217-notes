{
 "cells": [
  {
   "cell_type": "markdown",
   "id": "d1195134-038e-4bcd-accb-9ca61fb6a5b9",
   "metadata": {},
   "source": [
    "# Day 3: Session A - If Else\n",
    "\n",
    "[Link to session webpage](https://eds-217-essential-python.github.io/course-materials/live-coding/3a_control_flows.html)\n"
   ]
  },
  {
   "cell_type": "markdown",
   "id": "f934296f-a1ce-4721-a875-c6fc0f88cf37",
   "metadata": {},
   "source": [
    "## Introduction to Control Flows \n",
    "\n",
    "Main types are conditionals (changed based on a value) or Loops (repeat based on a value)"
   ]
  },
  {
   "cell_type": "markdown",
   "id": "3af0b5ef-0118-487e-9f6e-aaacd6c16ae0",
   "metadata": {
    "tags": []
   },
   "source": [
    "### Conditionals\n",
    "\n",
    "#### Basic If Statement\n",
    "\n",
    "```python\n",
    "\n",
    "# must start with a colon\n",
    "if x:\n",
    "# must be indented\n",
    "    print(x)\n",
    "\n",
    "print(\"finished\")\n",
    "```"
   ]
  },
  {
   "cell_type": "code",
   "execution_count": 3,
   "id": "18b21511-766c-4da8-994e-251baaf00aea",
   "metadata": {
    "tags": []
   },
   "outputs": [
    {
     "name": "stdout",
     "output_type": "stream",
     "text": [
      "Positive number\n"
     ]
    }
   ],
   "source": [
    "number = 5\n",
    "if number > 0:\n",
    "    print(\"Positive number\")"
   ]
  },
  {
   "cell_type": "code",
   "execution_count": 6,
   "id": "db78d60b-da8c-4f78-9855-093758292820",
   "metadata": {
    "tags": []
   },
   "outputs": [
    {
     "name": "stdout",
     "output_type": "stream",
     "text": [
      "Positive number\n"
     ]
    }
   ],
   "source": [
    "# the if statement uses boolean T/F to determine code execution\n",
    "if True:\n",
    "    print(\"Positive number\")\n",
    "    \n",
    "if False:\n",
    "    print(\"Positive number\")\n",
    "# doesn't evaluate"
   ]
  },
  {
   "cell_type": "markdown",
   "id": "36ebceb5-2d24-4b4c-be29-47440098a3c6",
   "metadata": {},
   "source": [
    "#### Adding Else\n",
    "\n",
    "Yes or No"
   ]
  },
  {
   "cell_type": "code",
   "execution_count": 8,
   "id": "18deaa17-def8-47bf-8b55-16d458e48b3f",
   "metadata": {
    "tags": []
   },
   "outputs": [
    {
     "name": "stdout",
     "output_type": "stream",
     "text": [
      "Not a positive number\n"
     ]
    }
   ],
   "source": [
    "number = 0\n",
    "if number > 0:\n",
    "    print(\"Positive number\") \n",
    "else: # the last resort, if all else fails, then else\n",
    "    print(\"Not a positive number\")"
   ]
  },
  {
   "cell_type": "markdown",
   "id": "34e6158f-8a14-4356-bd69-aac7b192bed9",
   "metadata": {},
   "source": [
    "#### Using Elif"
   ]
  },
  {
   "cell_type": "code",
   "execution_count": 10,
   "id": "de39edff-1c54-4943-b337-a56e55e462c0",
   "metadata": {
    "tags": []
   },
   "outputs": [
    {
     "name": "stdout",
     "output_type": "stream",
     "text": [
      "Positive number\n"
     ]
    }
   ],
   "source": [
    "number = 5\n",
    "if number > 0:\n",
    "    print(\"Positive number\") \n",
    "elif number < 0:\n",
    "    print(\"Negative number\")\n",
    "else:\n",
    "    print(\"Zero\")"
   ]
  },
  {
   "cell_type": "markdown",
   "id": "4281dc42-1501-46e7-946e-c1800171dae4",
   "metadata": {},
   "source": [
    "Use `pass` to avoid code block execution (e.g. as a placeholder)"
   ]
  },
  {
   "cell_type": "code",
   "execution_count": 16,
   "id": "3668b48a-05c2-4f39-b0be-0021344432a2",
   "metadata": {
    "tags": []
   },
   "outputs": [
    {
     "name": "stdout",
     "output_type": "stream",
     "text": [
      "You're doing great\n"
     ]
    }
   ],
   "source": [
    "if grade >= 90: # need to account for the edges! put the equal sign in there\n",
    "    print(\"You're doing great\")\n",
    "elif grade < 90 and grade > 80:\n",
    "    print(\"Okay!\")\n",
    "elif grade <80 and grade >= 70:\n",
    "    print(\"Sure, I guess.\")\n",
    "else:\n",
    "    print(\"uh oh...\")"
   ]
  },
  {
   "cell_type": "markdown",
   "id": "8c9ef8ec-4db4-4d60-97d9-4e146e32d7e8",
   "metadata": {},
   "source": [
    "### Loops\n",
    "\n",
    "Loops allow similar things to happen repeatedly to groups of things\n",
    "\n",
    "#### For Loops\n",
    "Collections: sets, lists, dictionarys, tuples, etc. "
   ]
  },
  {
   "cell_type": "code",
   "execution_count": 20,
   "id": "e2b8a7a1-830c-4e82-afe5-ce050105ef36",
   "metadata": {
    "tags": []
   },
   "outputs": [
    {
     "name": "stdout",
     "output_type": "stream",
     "text": [
      "Apple\n",
      "Banana\n",
      "Peach\n"
     ]
    }
   ],
   "source": [
    "fruits = ['apple', 'banana', 'peach']\n",
    "for fruit in fruits: #fruit is the iterator\n",
    "    print(fruit.title()) # capitalizes the first letter"
   ]
  },
  {
   "cell_type": "markdown",
   "id": "bcb67c5b-6317-4636-989a-977a703d521a",
   "metadata": {},
   "source": [
    "#### While Loops\n",
    "\n",
    "They will run forever... be careful with them\n",
    "\n",
    "Evaluate as long as a condition is true\n",
    "\n",
    "Can use them to read in file, when the text ends it'll stop"
   ]
  },
  {
   "cell_type": "code",
   "execution_count": 21,
   "id": "9f85db37-0c06-4317-82d7-3e1e044a7d8d",
   "metadata": {
    "tags": []
   },
   "outputs": [
    {
     "name": "stdout",
     "output_type": "stream",
     "text": [
      "5\n",
      "4\n",
      "3\n",
      "2\n",
      "1\n"
     ]
    }
   ],
   "source": [
    "count = 5\n",
    "while count >0:\n",
    "    print(count)\n",
    "    count -= 1 # takes count and subtract one from it"
   ]
  },
  {
   "cell_type": "markdown",
   "id": "7c58ec4a-e848-4d2c-b715-0a3e764f8879",
   "metadata": {},
   "source": [
    "## Applying Control Flows in Data Science\n",
    "\n",
    "Columns = Keys\n",
    "\n",
    "Rows = Values"
   ]
  },
  {
   "cell_type": "code",
   "execution_count": 27,
   "id": "70705455-7953-4654-a323-f793b7c4302c",
   "metadata": {
    "tags": []
   },
   "outputs": [],
   "source": [
    "import pandas as pd\n",
    "data = pd.DataFrame({ \n",
    "    'Temperature': [18, 21, 24, 19, 17],\n",
    "    'Weather': ['rainy', 'sunny', 'sunny', 'cloudy', 'rainy']\n",
    "})\n",
    "\n",
    "for temp in data['Temperature']:\n",
    "    print(temp)"
   ]
  },
  {
   "cell_type": "code",
   "execution_count": 29,
   "id": "3b873964-ba9b-431d-9608-a8cc23ef5b84",
   "metadata": {
    "tags": []
   },
   "outputs": [
    {
     "data": {
      "text/plain": [
       "0    False\n",
       "1     True\n",
       "2     True\n",
       "3    False\n",
       "4    False\n",
       "Name: Temperature, dtype: bool"
      ]
     },
     "execution_count": 29,
     "metadata": {},
     "output_type": "execute_result"
    }
   ],
   "source": [
    "data['Temperature'] > 20"
   ]
  },
  {
   "cell_type": "code",
   "execution_count": 36,
   "id": "0627fd7c-2072-4eb5-94ab-ed6f2d6a95e7",
   "metadata": {
    "tags": []
   },
   "outputs": [
    {
     "data": {
      "text/html": [
       "<div>\n",
       "<style scoped>\n",
       "    .dataframe tbody tr th:only-of-type {\n",
       "        vertical-align: middle;\n",
       "    }\n",
       "\n",
       "    .dataframe tbody tr th {\n",
       "        vertical-align: top;\n",
       "    }\n",
       "\n",
       "    .dataframe thead th {\n",
       "        text-align: right;\n",
       "    }\n",
       "</style>\n",
       "<table border=\"1\" class=\"dataframe\">\n",
       "  <thead>\n",
       "    <tr style=\"text-align: right;\">\n",
       "      <th></th>\n",
       "      <th>Temperature</th>\n",
       "      <th>Weather</th>\n",
       "    </tr>\n",
       "  </thead>\n",
       "  <tbody>\n",
       "    <tr>\n",
       "      <th>1</th>\n",
       "      <td>21</td>\n",
       "      <td>sunny</td>\n",
       "    </tr>\n",
       "    <tr>\n",
       "      <th>2</th>\n",
       "      <td>24</td>\n",
       "      <td>sunny</td>\n",
       "    </tr>\n",
       "  </tbody>\n",
       "</table>\n",
       "</div>"
      ],
      "text/plain": [
       "   Temperature Weather\n",
       "1           21   sunny\n",
       "2           24   sunny"
      ]
     },
     "execution_count": 36,
     "metadata": {},
     "output_type": "execute_result"
    }
   ],
   "source": [
    "data[data['Weather'] == 'sunny'] # give me the rows where weather equals sunny\n",
    "# returns a list of true false statements that are as long as the rows of data, \n",
    "# then returns the rows evaluated as true"
   ]
  },
  {
   "cell_type": "code",
   "execution_count": 35,
   "id": "21992452-e2d5-430c-9e66-81ea5845ebbd",
   "metadata": {
    "tags": []
   },
   "outputs": [
    {
     "data": {
      "text/html": [
       "<div>\n",
       "<style scoped>\n",
       "    .dataframe tbody tr th:only-of-type {\n",
       "        vertical-align: middle;\n",
       "    }\n",
       "\n",
       "    .dataframe tbody tr th {\n",
       "        vertical-align: top;\n",
       "    }\n",
       "\n",
       "    .dataframe thead th {\n",
       "        text-align: right;\n",
       "    }\n",
       "</style>\n",
       "<table border=\"1\" class=\"dataframe\">\n",
       "  <thead>\n",
       "    <tr style=\"text-align: right;\">\n",
       "      <th></th>\n",
       "      <th>Temperature</th>\n",
       "      <th>Weather</th>\n",
       "    </tr>\n",
       "  </thead>\n",
       "  <tbody>\n",
       "    <tr>\n",
       "      <th>0</th>\n",
       "      <td>18</td>\n",
       "      <td>rainy</td>\n",
       "    </tr>\n",
       "    <tr>\n",
       "      <th>1</th>\n",
       "      <td>21</td>\n",
       "      <td>sunny</td>\n",
       "    </tr>\n",
       "    <tr>\n",
       "      <th>2</th>\n",
       "      <td>24</td>\n",
       "      <td>sunny</td>\n",
       "    </tr>\n",
       "    <tr>\n",
       "      <th>3</th>\n",
       "      <td>19</td>\n",
       "      <td>cloudy</td>\n",
       "    </tr>\n",
       "    <tr>\n",
       "      <th>4</th>\n",
       "      <td>17</td>\n",
       "      <td>rainy</td>\n",
       "    </tr>\n",
       "  </tbody>\n",
       "</table>\n",
       "</div>"
      ],
      "text/plain": [
       "   Temperature Weather\n",
       "0           18   rainy\n",
       "1           21   sunny\n",
       "2           24   sunny\n",
       "3           19  cloudy\n",
       "4           17   rainy"
      ]
     },
     "execution_count": 35,
     "metadata": {},
     "output_type": "execute_result"
    }
   ],
   "source": [
    "data[:] # all the data, which rows of data do you want? "
   ]
  },
  {
   "cell_type": "markdown",
   "id": "fe3e5553-e59f-4687-9127-4d55aa086425",
   "metadata": {},
   "source": [
    "## Conclusion"
   ]
  },
  {
   "cell_type": "code",
   "execution_count": null,
   "id": "dcdd2532-9154-492d-abe2-8c95e253fc3d",
   "metadata": {},
   "outputs": [],
   "source": []
  }
 ],
 "metadata": {
  "kernelspec": {
   "display_name": "Python 3.10.0",
   "language": "python",
   "name": "python3.10.0"
  },
  "language_info": {
   "codemirror_mode": {
    "name": "ipython",
    "version": 3
   },
   "file_extension": ".py",
   "mimetype": "text/x-python",
   "name": "python",
   "nbconvert_exporter": "python",
   "pygments_lexer": "ipython3",
   "version": "3.10.0"
  }
 },
 "nbformat": 4,
 "nbformat_minor": 5
}
