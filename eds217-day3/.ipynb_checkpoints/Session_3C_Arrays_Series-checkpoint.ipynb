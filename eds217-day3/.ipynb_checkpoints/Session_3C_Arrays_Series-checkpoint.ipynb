{
 "cells": [
  {
   "cell_type": "markdown",
   "id": "45a72393-9c25-459a-9df9-b19754283ac0",
   "metadata": {},
   "source": [
    "# Day X: Session Y - Arrays and Series\n",
    "\n",
    "[Link to session webpage](https://eds-217-essential-python.github.io/course-materials/interactive-sessions/3c_arrays_and_series.html)\n"
   ]
  },
  {
   "cell_type": "code",
   "execution_count": 1,
   "id": "979600b3-3d1a-421f-9303-c0dc1089a2cb",
   "metadata": {
    "tags": []
   },
   "outputs": [],
   "source": [
    "import numpy as np\n",
    "import pandas as pd"
   ]
  },
  {
   "cell_type": "markdown",
   "id": "b3068343-307f-4aa1-be64-d8b5741a4982",
   "metadata": {},
   "source": [
    "## Arrays\n",
    "\n",
    "array: a collection of items that are ordered. Array is specific to numpy. list is general\n",
    "\n",
    "numpy arrays are much more compact, much less space\n",
    "\n",
    "Data frames can be coerced into np arrays for calculation\n",
    "\n",
    "### Create numpy arrays"
   ]
  },
  {
   "cell_type": "code",
   "execution_count": 7,
   "id": "76f35253-1dbe-4d5a-a33c-fc06dd899061",
   "metadata": {
    "tags": []
   },
   "outputs": [
    {
     "name": "stdout",
     "output_type": "stream",
     "text": [
      "[1 2 3 4 5]\n",
      "[1, 2, 3, 4, 5]\n"
     ]
    },
    {
     "data": {
      "text/plain": [
       "numpy.ndarray"
      ]
     },
     "execution_count": 7,
     "metadata": {},
     "output_type": "execute_result"
    }
   ],
   "source": [
    "# create a 1D array (which is a flat list)\n",
    "my_list = [1, 2, 3, 4, 5]\n",
    "my_array = np.array(my_list)\n",
    "print(my_array) # no commas, mostly for visual distinguishing and usually working w large lists\n",
    "print(my_list)\n",
    "type(my_array)"
   ]
  },
  {
   "cell_type": "code",
   "execution_count": 10,
   "id": "c601a199-8ac6-4194-af29-43879bc6359d",
   "metadata": {
    "tags": []
   },
   "outputs": [
    {
     "name": "stdout",
     "output_type": "stream",
     "text": [
      "[[1 2 3]\n",
      " [4 5 6]]\n",
      "<class 'numpy.ndarray'>\n"
     ]
    }
   ],
   "source": [
    "# create a 2D array \n",
    "my_lists = [[1,2,3], [4,5,6]] # a list of two separate lists\n",
    "my_arrays = np.array(my_lists)\n",
    "print(my_arrays)\n",
    "print(type(my_arrays))"
   ]
  },
  {
   "cell_type": "markdown",
   "id": "81687509-bc6a-481e-94b6-a11403b7540f",
   "metadata": {},
   "source": [
    "### Basic Array Operations\n",
    "\n",
    "`min`, `max`, `mean`, etc.\n",
    "\n",
    "The objects have better ways of doing things than the global namespace!\n",
    "\n",
    "The core difference of an object-oriented language\n",
    "\n",
    "Transformations are way easier with arrays, multiply, add, etc.\n",
    "\n",
    "Arrays have indeces into position, they don't have labels. can only every be a number"
   ]
  },
  {
   "cell_type": "code",
   "execution_count": 27,
   "id": "337566d9-43e1-4039-972a-cbb401648807",
   "metadata": {
    "tags": []
   },
   "outputs": [
    {
     "name": "stdout",
     "output_type": "stream",
     "text": [
      "np.min 1\n",
      "np.min of [1 2 3 4 5] is 1\n",
      "np.max of [1 2 3 4 5] is 5\n",
      "np.mean of [1 2 3 4 5] is 3.0\n",
      "np.std of [1 2 3 4 5] is 1.41\n",
      "[ 2  4  6  8 10]\n",
      "[1, 2, 3, 4, 5, 1, 2, 3, 4, 5]\n",
      "[3 4 5 6 7]\n"
     ]
    }
   ],
   "source": [
    "# global min max are still around\n",
    "min(3,4,5)\n",
    "\n",
    "# But arrays use their own methods for basic operations\n",
    "np.min(my_array)\n",
    "print(\"np.min\", np.min(my_array)) # this also works instead of f string\n",
    "print(f\"np.min of {my_array} is {np.min(my_array)}\") # format string allows you to use variables in a print statement\n",
    "\n",
    "# max\n",
    "print(f\"np.max of {my_array} is {np.max(my_array)}\")\n",
    "\n",
    "# mean\n",
    "print(f\"np.mean of {my_array} is {np.mean(my_array)}\")\n",
    "\n",
    "# standard deviation\n",
    "print(f\"np.std of {my_array} is {np.std(my_array):.2f}\") # :.2f shortens to two decimal places\n",
    "# If you actually wanted to change the number you'd have to round it. This just changes visual output\n",
    "\n",
    "# array transformations\n",
    "# multiply every element in an array by 2\n",
    "print(my_array * 2)\n",
    "print(my_list * 2)\n",
    "\n",
    "# add 2 to every element in an array\n",
    "print(my_array +2)"
   ]
  },
  {
   "cell_type": "markdown",
   "id": "68f3a61e-1138-4a5e-a7a6-f6a783c5f4f4",
   "metadata": {},
   "source": [
    "## Using Panda Series\n",
    "\n",
    "A series is a 1D labelled array\n",
    "\n",
    "### Creating a series\n",
    "We create them using pd.Series() command, constructor function. It's an object bc it's capital S\n",
    "\n",
    "Once we have arrays of info with indeces we can control, we can build as complex of stuff as we want\n"
   ]
  },
  {
   "cell_type": "code",
   "execution_count": 31,
   "id": "b3d2ce2b-4106-4e33-841b-9bf835eadffa",
   "metadata": {
    "tags": []
   },
   "outputs": [
    {
     "name": "stdout",
     "output_type": "stream",
     "text": [
      "Series from list:\n",
      " 0    1\n",
      "1    2\n",
      "2    3\n",
      "3    4\n",
      "4    5\n",
      "dtype: int64\n",
      "\n",
      "Series with custom index:\n",
      " a    10\n",
      "b    20\n",
      "c    30\n",
      "d    40\n",
      "e    50\n",
      "dtype: int64\n"
     ]
    }
   ],
   "source": [
    "# Create a Series from a list\n",
    "s1 = pd.Series([1, 2, 3, 4, 5])\n",
    "print(\"Series from list:\\n\", s1)\n",
    "\n",
    "# Create a Series with custom index\n",
    "s2 = pd.Series([10, 20, 30, 40, 50], index=['a', 'b', 'c', 'd', 'e'])\n",
    "print(\"\\nSeries with custom index:\\n\", s2)\n",
    "# changed the labels! (indeces)"
   ]
  },
  {
   "cell_type": "code",
   "execution_count": 34,
   "id": "5e73d845-2e50-4640-90cc-7551cad51f13",
   "metadata": {
    "tags": []
   },
   "outputs": [
    {
     "data": {
      "text/plain": [
       "10"
      ]
     },
     "execution_count": 34,
     "metadata": {},
     "output_type": "execute_result"
    }
   ],
   "source": [
    "s2['a'] # can index by label or index value (a or 0)"
   ]
  },
  {
   "cell_type": "markdown",
   "id": "ceb6b958-87e1-4e0d-b447-9972dd7543e7",
   "metadata": {},
   "source": [
    "### Basic series operations\n",
    "\n",
    "#### Accessing and slicing\n",
    "\n",
    "Everything we've learned about slicing works in these series and arrays"
   ]
  },
  {
   "cell_type": "code",
   "execution_count": 37,
   "id": "1222dab6-3cb9-4ce6-b928-3b8e3ba36c91",
   "metadata": {
    "tags": []
   },
   "outputs": [
    {
     "name": "stdout",
     "output_type": "stream",
     "text": [
      "The value at index 'c': 30\n",
      "The value of the first three elements:\n",
      " a    10\n",
      "b    20\n",
      "c    30\n",
      "dtype: int64\n"
     ]
    }
   ],
   "source": [
    "# access based on the index value\n",
    "print(\"The value at index 'c':\", s2['c'])\n",
    "\n",
    "# access based on location (like a list index position)\n",
    "print(\"The value of the first three elements:\\n\", s2[:3])"
   ]
  },
  {
   "cell_type": "markdown",
   "id": "c433253f-e028-4a80-b1bd-00c9ad997a81",
   "metadata": {},
   "source": [
    "#### Arithmetic and Stats\n",
    "\n",
    "Same as with arrays"
   ]
  },
  {
   "cell_type": "code",
   "execution_count": 46,
   "id": "6b78ae10-faf5-43c2-9430-de768a9464c0",
   "metadata": {
    "tags": []
   },
   "outputs": [
    {
     "name": "stdout",
     "output_type": "stream",
     "text": [
      "a    15\n",
      "b    25\n",
      "c    35\n",
      "d    45\n",
      "e    55\n",
      "dtype: int64\n",
      "30.0\n",
      "Standard deviation: 15.81\n",
      "30.0\n"
     ]
    }
   ],
   "source": [
    "# add 5 to every element\n",
    "print(s2 + 5)\n",
    "\n",
    "# calculate mean\n",
    "print(s2.mean())\n",
    "\n",
    "# standard deviation\n",
    "print(f\"Standard deviation: {s2.std():.2f}\")\n",
    "\n",
    "# median\n",
    "print(s2.median())"
   ]
  },
  {
   "cell_type": "code",
   "execution_count": 51,
   "id": "b2e662de-f31a-44ac-88db-1d8965f3debf",
   "metadata": {
    "tags": []
   },
   "outputs": [],
   "source": [
    "#help(s2.mean) # don't evaluate the function!!\n",
    "# dont do help(s2.mean()), just pass the function, not evaluate it"
   ]
  },
  {
   "cell_type": "code",
   "execution_count": null,
   "id": "6677307c-5043-426b-ba96-12189a479e52",
   "metadata": {},
   "outputs": [],
   "source": []
  }
 ],
 "metadata": {
  "kernelspec": {
   "display_name": "Python 3.10.0",
   "language": "python",
   "name": "python3.10.0"
  },
  "language_info": {
   "codemirror_mode": {
    "name": "ipython",
    "version": 3
   },
   "file_extension": ".py",
   "mimetype": "text/x-python",
   "name": "python",
   "nbconvert_exporter": "python",
   "pygments_lexer": "ipython3",
   "version": "3.10.0"
  }
 },
 "nbformat": 4,
 "nbformat_minor": 5
}
