{
 "cells": [
  {
   "cell_type": "markdown",
   "id": "50e40556-6546-4ef6-86e0-ad5e0cec2e45",
   "metadata": {},
   "source": [
    "# Day 3 Session 3D Coding co-lab\n",
    "\n",
    "[session link](https://eds-217-essential-python.github.io/course-materials/coding-colabs/3d_pandas_series.html)"
   ]
  },
  {
   "cell_type": "code",
   "execution_count": 33,
   "id": "aaeb8a02-e1fb-4cd6-960d-cfb18ebeb09c",
   "metadata": {
    "tags": []
   },
   "outputs": [
    {
     "name": "stdout",
     "output_type": "stream",
     "text": [
      "0         apple\n",
      "1        banana\n",
      "2        cherry\n",
      "3          date\n",
      "4    elderberry\n",
      "Name: Fruits, dtype: object\n"
     ]
    }
   ],
   "source": [
    "import pandas as pd\n",
    "import numpy as np\n",
    "\n",
    "# Create a sample Series\n",
    "fruits = pd.Series(['apple', 'banana', 'cherry', 'date', 'elderberry'], name='Fruits')\n",
    "print(fruits)"
   ]
  },
  {
   "cell_type": "markdown",
   "id": "a5e1910b-a551-418e-8dae-c9d1ffc38992",
   "metadata": {},
   "source": [
    "## Exercise 1"
   ]
  },
  {
   "cell_type": "code",
   "execution_count": 25,
   "id": "a1b62179-8ca3-4ccd-8b67-4605e893a9b3",
   "metadata": {
    "tags": []
   },
   "outputs": [
    {
     "name": "stdout",
     "output_type": "stream",
     "text": [
      "Fruits\n",
      "apple         0.5\n",
      "banana        0.3\n",
      "cherry        1.0\n",
      "date          1.5\n",
      "elderberry    2.0\n",
      "dtype: float64\n"
     ]
    }
   ],
   "source": [
    "# Create a Series called 'prices' with the same index as 'fruits'\n",
    "# Use these prices: apple: $0.5, banana: $0.3, cherry: $1.0, date: $1.5, elderberry: $2.0\n",
    "prices = pd.Series([0.5, 0.3, 1.0, 1.5, 2.0], index=fruits)\n",
    "print(prices)"
   ]
  },
  {
   "cell_type": "code",
   "execution_count": 20,
   "id": "d903587a-79df-447e-9f2f-c4b3dc650b17",
   "metadata": {
    "tags": []
   },
   "outputs": [
    {
     "name": "stdout",
     "output_type": "stream",
     "text": [
      "5.3\n",
      "2.0\n",
      "Fruits\n",
      "apple         0.50\n",
      "banana        0.30\n",
      "cherry        1.00\n",
      "date          1.35\n",
      "elderberry    1.80\n",
      "dtype: float64\n"
     ]
    }
   ],
   "source": [
    "# 1. Calculate the total price of all fruits\n",
    "print(prices.sum())\n",
    "\n",
    "# 2. Find the most expensive fruit\n",
    "print(prices.max())\n",
    "\n",
    "# 3. Apply a 10% discount to all fruits priced over $1.0\n",
    "\n",
    "# This worked!! \n",
    "prices = prices.mask(prices > 1, prices * 0.9)\n",
    "print(prices)\n"
   ]
  },
  {
   "cell_type": "markdown",
   "id": "10720080-b135-41b2-967e-bf27870a14bf",
   "metadata": {},
   "source": [
    "## Series Analysis"
   ]
  },
  {
   "cell_type": "code",
   "execution_count": 28,
   "id": "33fa0a35-bbfe-42b0-882b-ffe8cfea9fdb",
   "metadata": {
    "tags": []
   },
   "outputs": [
    {
     "name": "stdout",
     "output_type": "stream",
     "text": [
      "1.06\n",
      "2\n"
     ]
    },
    {
     "data": {
      "text/plain": [
       "1.7"
      ]
     },
     "execution_count": 28,
     "metadata": {},
     "output_type": "execute_result"
    }
   ],
   "source": [
    "# 1. Calculate the average price of the fruits\n",
    "print(prices.mean())\n",
    "\n",
    "# 2. Count how many fruits cost less than $1.0\n",
    "print(len(prices[prices < 1.0]))\n",
    "\n",
    "# 3. Calculate the price range (difference between max and min prices)\n",
    "(prices.max() - prices.min())"
   ]
  },
  {
   "cell_type": "markdown",
   "id": "10fe98a8-dcb0-4609-b3da-a8df80e6e9ce",
   "metadata": {},
   "source": [
    "## Series Manipulation"
   ]
  },
  {
   "cell_type": "code",
   "execution_count": 38,
   "id": "e70b749f-034c-4d91-aa01-7906acf2ce76",
   "metadata": {
    "tags": []
   },
   "outputs": [],
   "source": [
    "fruits = pd.Series(['apple', 'banana', 'cherry', 'date', 'elderberry'], name='Fruits')\n",
    "prices = pd.Series([0.5, 0.3, 1.0, 1.5, 2.0], index=fruits)"
   ]
  },
  {
   "cell_type": "code",
   "execution_count": 37,
   "id": "4091069f-9d39-4adf-b17c-ca8e7bde6502",
   "metadata": {
    "tags": []
   },
   "outputs": [
    {
     "name": "stdout",
     "output_type": "stream",
     "text": [
      "0         apple\n",
      "1        banana\n",
      "2        cherry\n",
      "3          date\n",
      "4    elderberry\n",
      "5           fig\n",
      "Name: Fruits, dtype: object\n"
     ]
    }
   ],
   "source": [
    "# 1. Add 'fig' to both Series (price: $1.2)\n",
    "fruits[5] = 'fig'\n",
    "print(fruits)\n",
    "\n",
    "\n",
    "# 2. Remove 'banana' from both Series\n",
    "\n",
    "\n",
    "# 3. Sort both Series alphabetically by fruit name"
   ]
  }
 ],
 "metadata": {
  "kernelspec": {
   "display_name": "Python 3.10.0",
   "language": "python",
   "name": "python3.10.0"
  },
  "language_info": {
   "codemirror_mode": {
    "name": "ipython",
    "version": 3
   },
   "file_extension": ".py",
   "mimetype": "text/x-python",
   "name": "python",
   "nbconvert_exporter": "python",
   "pygments_lexer": "ipython3",
   "version": "3.10.0"
  }
 },
 "nbformat": 4,
 "nbformat_minor": 5
}
