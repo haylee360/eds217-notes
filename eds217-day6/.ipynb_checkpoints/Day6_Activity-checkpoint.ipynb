{
 "cells": [
  {
   "cell_type": "markdown",
   "id": "7efa589d-dda4-4176-93d6-02757f1df56a",
   "metadata": {},
   "source": [
    "# Day 6 End of Day Activity\n",
    "\n",
    "[session link](https://eds-217-essential-python.github.io/course-materials/eod-practice/eod-day6.html)"
   ]
  },
  {
   "cell_type": "code",
   "execution_count": 92,
   "id": "addb6646-d901-4c18-a181-37ac43ec3d91",
   "metadata": {
    "tags": []
   },
   "outputs": [],
   "source": [
    "import pandas as pd\n",
    "import numpy as np\n",
    "import matplotlib.pyplot as plt\n",
    "import seaborn as sns\n",
    "\n",
    "# Load the dataset\n",
    "url = \"https://github.com/Spijkervet/eurovision-dataset/releases/download/2020.0/contestants.csv\"\n",
    "eurovision_df = pd.read_csv(url)"
   ]
  },
  {
   "cell_type": "markdown",
   "id": "2b0800f8-6e90-41a5-9859-f81e013217e0",
   "metadata": {},
   "source": [
    "## 1. Data Exploration and Cleaning"
   ]
  },
  {
   "cell_type": "code",
   "execution_count": 47,
   "id": "1c5b81cd-7e0a-4805-82ce-f051408c7c11",
   "metadata": {
    "tags": []
   },
   "outputs": [
    {
     "name": "stdout",
     "output_type": "stream",
     "text": [
      "(1603, 21)\n"
     ]
    },
    {
     "data": {
      "text/html": [
       "<div>\n",
       "<style scoped>\n",
       "    .dataframe tbody tr th:only-of-type {\n",
       "        vertical-align: middle;\n",
       "    }\n",
       "\n",
       "    .dataframe tbody tr th {\n",
       "        vertical-align: top;\n",
       "    }\n",
       "\n",
       "    .dataframe thead th {\n",
       "        text-align: right;\n",
       "    }\n",
       "</style>\n",
       "<table border=\"1\" class=\"dataframe\">\n",
       "  <thead>\n",
       "    <tr style=\"text-align: right;\">\n",
       "      <th></th>\n",
       "      <th>year</th>\n",
       "      <th>to_country_id</th>\n",
       "      <th>to_country</th>\n",
       "      <th>performer</th>\n",
       "      <th>song</th>\n",
       "      <th>place_contest</th>\n",
       "      <th>sf_num</th>\n",
       "      <th>running_final</th>\n",
       "      <th>running_sf</th>\n",
       "      <th>place_final</th>\n",
       "      <th>...</th>\n",
       "      <th>place_sf</th>\n",
       "      <th>points_sf</th>\n",
       "      <th>points_tele_final</th>\n",
       "      <th>points_jury_final</th>\n",
       "      <th>points_tele_sf</th>\n",
       "      <th>points_jury_sf</th>\n",
       "      <th>composers</th>\n",
       "      <th>lyricists</th>\n",
       "      <th>lyrics</th>\n",
       "      <th>youtube_url</th>\n",
       "    </tr>\n",
       "  </thead>\n",
       "  <tbody>\n",
       "    <tr>\n",
       "      <th>0</th>\n",
       "      <td>1956</td>\n",
       "      <td>ch</td>\n",
       "      <td>Switzerland</td>\n",
       "      <td>Lys Assia</td>\n",
       "      <td>Refrain</td>\n",
       "      <td>2.0</td>\n",
       "      <td>NaN</td>\n",
       "      <td>2.0</td>\n",
       "      <td>NaN</td>\n",
       "      <td>2.0</td>\n",
       "      <td>...</td>\n",
       "      <td>NaN</td>\n",
       "      <td>NaN</td>\n",
       "      <td>NaN</td>\n",
       "      <td>NaN</td>\n",
       "      <td>NaN</td>\n",
       "      <td>NaN</td>\n",
       "      <td>Georg Benz Stahl</td>\n",
       "      <td>NaN</td>\n",
       "      <td>(Refrain d'amour...)\\n\\nRefrain, couleur du ci...</td>\n",
       "      <td>https://youtube.com/watch?v=IyqIPvOkiRk</td>\n",
       "    </tr>\n",
       "    <tr>\n",
       "      <th>1</th>\n",
       "      <td>1956</td>\n",
       "      <td>nl</td>\n",
       "      <td>Netherlands</td>\n",
       "      <td>Jetty Paerl</td>\n",
       "      <td>De Vogels Van Holland</td>\n",
       "      <td>2.0</td>\n",
       "      <td>NaN</td>\n",
       "      <td>1.0</td>\n",
       "      <td>NaN</td>\n",
       "      <td>2.0</td>\n",
       "      <td>...</td>\n",
       "      <td>NaN</td>\n",
       "      <td>NaN</td>\n",
       "      <td>NaN</td>\n",
       "      <td>NaN</td>\n",
       "      <td>NaN</td>\n",
       "      <td>NaN</td>\n",
       "      <td>Cor Lemaire</td>\n",
       "      <td>Annie M. G. Schmidt</td>\n",
       "      <td>De vogels van Holland zijn zo muzikaal\\nZe ler...</td>\n",
       "      <td>https://youtube.com/watch?v=u45UQVGRVPA</td>\n",
       "    </tr>\n",
       "    <tr>\n",
       "      <th>2</th>\n",
       "      <td>1956</td>\n",
       "      <td>be</td>\n",
       "      <td>Belgium</td>\n",
       "      <td>Fud Leclerc</td>\n",
       "      <td>Messieurs Les Noyés De La Seine</td>\n",
       "      <td>2.0</td>\n",
       "      <td>NaN</td>\n",
       "      <td>3.0</td>\n",
       "      <td>NaN</td>\n",
       "      <td>2.0</td>\n",
       "      <td>...</td>\n",
       "      <td>NaN</td>\n",
       "      <td>NaN</td>\n",
       "      <td>NaN</td>\n",
       "      <td>NaN</td>\n",
       "      <td>NaN</td>\n",
       "      <td>NaN</td>\n",
       "      <td>Jacques Say;Jean Miret</td>\n",
       "      <td>Robert Montal</td>\n",
       "      <td>Messieurs les noyés de la Seine\\nOuvrez-moi le...</td>\n",
       "      <td>https://youtube.com/watch?v=U9O3sqlyra0</td>\n",
       "    </tr>\n",
       "    <tr>\n",
       "      <th>3</th>\n",
       "      <td>1956</td>\n",
       "      <td>de</td>\n",
       "      <td>Germany</td>\n",
       "      <td>Walter Andreas Schwarz</td>\n",
       "      <td>Im Wartesaal Zum Großen Glück</td>\n",
       "      <td>2.0</td>\n",
       "      <td>NaN</td>\n",
       "      <td>4.0</td>\n",
       "      <td>NaN</td>\n",
       "      <td>2.0</td>\n",
       "      <td>...</td>\n",
       "      <td>NaN</td>\n",
       "      <td>NaN</td>\n",
       "      <td>NaN</td>\n",
       "      <td>NaN</td>\n",
       "      <td>NaN</td>\n",
       "      <td>NaN</td>\n",
       "      <td>Walter Andreas Schwarz</td>\n",
       "      <td>NaN</td>\n",
       "      <td>Es gibt einen Hafen, da fährt kaum ein Schiff\\...</td>\n",
       "      <td>https://youtube.com/watch?v=BDNARIDnmTc</td>\n",
       "    </tr>\n",
       "    <tr>\n",
       "      <th>4</th>\n",
       "      <td>1956</td>\n",
       "      <td>fr</td>\n",
       "      <td>France</td>\n",
       "      <td>Mathé Altéry</td>\n",
       "      <td>Le Temps Perdu</td>\n",
       "      <td>2.0</td>\n",
       "      <td>NaN</td>\n",
       "      <td>5.0</td>\n",
       "      <td>NaN</td>\n",
       "      <td>2.0</td>\n",
       "      <td>...</td>\n",
       "      <td>NaN</td>\n",
       "      <td>NaN</td>\n",
       "      <td>NaN</td>\n",
       "      <td>NaN</td>\n",
       "      <td>NaN</td>\n",
       "      <td>NaN</td>\n",
       "      <td>André Lodge</td>\n",
       "      <td>Rachèle Thoreau</td>\n",
       "      <td>Chante, carillon\\nLe chant du temps perdu\\nCha...</td>\n",
       "      <td>https://youtube.com/watch?v=dm1L0XyikKI</td>\n",
       "    </tr>\n",
       "  </tbody>\n",
       "</table>\n",
       "<p>5 rows × 21 columns</p>\n",
       "</div>"
      ],
      "text/plain": [
       "   year to_country_id   to_country               performer  \\\n",
       "0  1956            ch  Switzerland               Lys Assia   \n",
       "1  1956            nl  Netherlands             Jetty Paerl   \n",
       "2  1956            be      Belgium             Fud Leclerc   \n",
       "3  1956            de      Germany  Walter Andreas Schwarz   \n",
       "4  1956            fr       France            Mathé Altéry   \n",
       "\n",
       "                              song  place_contest  sf_num  running_final  \\\n",
       "0                          Refrain            2.0     NaN            2.0   \n",
       "1            De Vogels Van Holland            2.0     NaN            1.0   \n",
       "2  Messieurs Les Noyés De La Seine            2.0     NaN            3.0   \n",
       "3    Im Wartesaal Zum Großen Glück            2.0     NaN            4.0   \n",
       "4                   Le Temps Perdu            2.0     NaN            5.0   \n",
       "\n",
       "   running_sf  place_final  ...  place_sf  points_sf  points_tele_final  \\\n",
       "0         NaN          2.0  ...       NaN        NaN                NaN   \n",
       "1         NaN          2.0  ...       NaN        NaN                NaN   \n",
       "2         NaN          2.0  ...       NaN        NaN                NaN   \n",
       "3         NaN          2.0  ...       NaN        NaN                NaN   \n",
       "4         NaN          2.0  ...       NaN        NaN                NaN   \n",
       "\n",
       "   points_jury_final  points_tele_sf  points_jury_sf               composers  \\\n",
       "0                NaN             NaN             NaN        Georg Benz Stahl   \n",
       "1                NaN             NaN             NaN             Cor Lemaire   \n",
       "2                NaN             NaN             NaN  Jacques Say;Jean Miret   \n",
       "3                NaN             NaN             NaN  Walter Andreas Schwarz   \n",
       "4                NaN             NaN             NaN             André Lodge   \n",
       "\n",
       "             lyricists                                             lyrics  \\\n",
       "0                  NaN  (Refrain d'amour...)\\n\\nRefrain, couleur du ci...   \n",
       "1  Annie M. G. Schmidt  De vogels van Holland zijn zo muzikaal\\nZe ler...   \n",
       "2        Robert Montal  Messieurs les noyés de la Seine\\nOuvrez-moi le...   \n",
       "3                  NaN  Es gibt einen Hafen, da fährt kaum ein Schiff\\...   \n",
       "4      Rachèle Thoreau  Chante, carillon\\nLe chant du temps perdu\\nCha...   \n",
       "\n",
       "                               youtube_url  \n",
       "0  https://youtube.com/watch?v=IyqIPvOkiRk  \n",
       "1  https://youtube.com/watch?v=u45UQVGRVPA  \n",
       "2  https://youtube.com/watch?v=U9O3sqlyra0  \n",
       "3  https://youtube.com/watch?v=BDNARIDnmTc  \n",
       "4  https://youtube.com/watch?v=dm1L0XyikKI  \n",
       "\n",
       "[5 rows x 21 columns]"
      ]
     },
     "execution_count": 47,
     "metadata": {},
     "output_type": "execute_result"
    }
   ],
   "source": [
    "# Display the first few rows of the dataset.\n",
    "print(eurovision_df.shape)\n",
    "eurovision_df.head()"
   ]
  },
  {
   "cell_type": "code",
   "execution_count": 48,
   "id": "c7269c81-1715-47df-8d17-b869a3c1750c",
   "metadata": {
    "tags": []
   },
   "outputs": [
    {
     "name": "stdout",
     "output_type": "stream",
     "text": [
      "year                    0\n",
      "to_country_id           0\n",
      "to_country              0\n",
      "performer               0\n",
      "song                    3\n",
      "place_contest          41\n",
      "sf_num               1046\n",
      "running_final         282\n",
      "running_sf           1081\n",
      "place_final           283\n",
      "points_final          295\n",
      "place_sf             1081\n",
      "points_sf            1081\n",
      "points_tele_final    1499\n",
      "points_jury_final    1499\n",
      "points_tele_sf       1459\n",
      "points_jury_sf       1459\n",
      "composers              42\n",
      "lyricists             673\n",
      "lyrics                  0\n",
      "youtube_url             0\n",
      "dtype: int64\n"
     ]
    },
    {
     "data": {
      "text/plain": [
       "year                   int64\n",
       "to_country_id         object\n",
       "to_country            object\n",
       "performer             object\n",
       "song                  object\n",
       "place_contest        float64\n",
       "sf_num               float64\n",
       "running_final        float64\n",
       "running_sf           float64\n",
       "place_final          float64\n",
       "points_final         float64\n",
       "place_sf             float64\n",
       "points_sf            float64\n",
       "points_tele_final    float64\n",
       "points_jury_final    float64\n",
       "points_tele_sf       float64\n",
       "points_jury_sf       float64\n",
       "composers             object\n",
       "lyricists             object\n",
       "lyrics                object\n",
       "youtube_url           object\n",
       "dtype: object"
      ]
     },
     "execution_count": 48,
     "metadata": {},
     "output_type": "execute_result"
    }
   ],
   "source": [
    "# Check the data types of each column.\n",
    "print(eurovision_df.isnull().sum())\n",
    "\n",
    "eurovision_df.dtypes\n"
   ]
  },
  {
   "cell_type": "code",
   "execution_count": 93,
   "id": "195fadd4-3432-4422-8edf-c8cefa7152ef",
   "metadata": {
    "tags": []
   },
   "outputs": [
    {
     "name": "stdout",
     "output_type": "stream",
     "text": [
      "year                 0\n",
      "to_country_id        0\n",
      "to_country           0\n",
      "performer            0\n",
      "song                 0\n",
      "place_contest        0\n",
      "sf_num               0\n",
      "running_final        0\n",
      "running_sf           0\n",
      "place_final          0\n",
      "points_final         0\n",
      "place_sf             0\n",
      "points_sf            0\n",
      "points_tele_final    0\n",
      "points_jury_final    0\n",
      "points_tele_sf       0\n",
      "points_jury_sf       0\n",
      "composers            0\n",
      "lyricists            0\n",
      "lyrics               0\n",
      "youtube_url          0\n",
      "dtype: int64\n"
     ]
    },
    {
     "data": {
      "text/plain": [
       "year                   int64\n",
       "to_country_id         object\n",
       "to_country            object\n",
       "performer             object\n",
       "song                  object\n",
       "place_contest        float64\n",
       "sf_num               float64\n",
       "running_final        float64\n",
       "running_sf           float64\n",
       "place_final          float64\n",
       "points_final         float64\n",
       "place_sf             float64\n",
       "points_sf            float64\n",
       "points_tele_final    float64\n",
       "points_jury_final    float64\n",
       "points_tele_sf       float64\n",
       "points_jury_sf       float64\n",
       "composers             object\n",
       "lyricists             object\n",
       "lyrics                object\n",
       "youtube_url           object\n",
       "dtype: object"
      ]
     },
     "execution_count": 93,
     "metadata": {},
     "output_type": "execute_result"
    }
   ],
   "source": [
    "# Identify and handle any missing values.\n",
    "# eurovision_df['points_final'] = eurovision_df['points_final'].fillna(eurovision_df['points_final'].mean())\n",
    "eurovision_df = eurovision_df.fillna(0)\n",
    "\n",
    "print(eurovision_df.isnull().sum())\n",
    "eurovision_df.dtypes"
   ]
  },
  {
   "cell_type": "code",
   "execution_count": 94,
   "id": "3ad01d98-8a82-4817-b6c8-baf871e1625c",
   "metadata": {
    "tags": []
   },
   "outputs": [],
   "source": [
    "# Convert the ‘year’ column to datetime type.\n",
    "eurovision_df['year'] = pd.to_datetime(eurovision_df['year'], format=\"%Y\")"
   ]
  },
  {
   "cell_type": "code",
   "execution_count": 58,
   "id": "9dd9a4de-7000-4d45-acec-c61eac364f2c",
   "metadata": {
    "tags": []
   },
   "outputs": [
    {
     "data": {
      "text/html": [
       "<div>\n",
       "<style scoped>\n",
       "    .dataframe tbody tr th:only-of-type {\n",
       "        vertical-align: middle;\n",
       "    }\n",
       "\n",
       "    .dataframe tbody tr th {\n",
       "        vertical-align: top;\n",
       "    }\n",
       "\n",
       "    .dataframe thead th {\n",
       "        text-align: right;\n",
       "    }\n",
       "</style>\n",
       "<table border=\"1\" class=\"dataframe\">\n",
       "  <thead>\n",
       "    <tr style=\"text-align: right;\">\n",
       "      <th></th>\n",
       "      <th>year</th>\n",
       "      <th>to_country_id</th>\n",
       "      <th>to_country</th>\n",
       "      <th>performer</th>\n",
       "      <th>song</th>\n",
       "      <th>place_contest</th>\n",
       "      <th>sf_num</th>\n",
       "      <th>running_final</th>\n",
       "      <th>running_sf</th>\n",
       "      <th>place_final</th>\n",
       "      <th>...</th>\n",
       "      <th>place_sf</th>\n",
       "      <th>points_sf</th>\n",
       "      <th>points_tele_final</th>\n",
       "      <th>points_jury_final</th>\n",
       "      <th>points_tele_sf</th>\n",
       "      <th>points_jury_sf</th>\n",
       "      <th>composers</th>\n",
       "      <th>lyricists</th>\n",
       "      <th>lyrics</th>\n",
       "      <th>youtube_url</th>\n",
       "    </tr>\n",
       "  </thead>\n",
       "  <tbody>\n",
       "    <tr>\n",
       "      <th>0</th>\n",
       "      <td>1956-01-01</td>\n",
       "      <td>ch</td>\n",
       "      <td>Switzerland</td>\n",
       "      <td>Lys Assia</td>\n",
       "      <td>Refrain</td>\n",
       "      <td>2.0</td>\n",
       "      <td>0.0</td>\n",
       "      <td>2.0</td>\n",
       "      <td>0.0</td>\n",
       "      <td>2.0</td>\n",
       "      <td>...</td>\n",
       "      <td>0.0</td>\n",
       "      <td>0.0</td>\n",
       "      <td>0.0</td>\n",
       "      <td>0.0</td>\n",
       "      <td>0.0</td>\n",
       "      <td>0.0</td>\n",
       "      <td>Georg Benz Stahl</td>\n",
       "      <td>0</td>\n",
       "      <td>(Refrain d'amour...)\\n\\nRefrain, couleur du ci...</td>\n",
       "      <td>https://youtube.com/watch?v=IyqIPvOkiRk</td>\n",
       "    </tr>\n",
       "    <tr>\n",
       "      <th>1</th>\n",
       "      <td>1956-01-01</td>\n",
       "      <td>nl</td>\n",
       "      <td>Netherlands</td>\n",
       "      <td>Jetty Paerl</td>\n",
       "      <td>De Vogels Van Holland</td>\n",
       "      <td>2.0</td>\n",
       "      <td>0.0</td>\n",
       "      <td>1.0</td>\n",
       "      <td>0.0</td>\n",
       "      <td>2.0</td>\n",
       "      <td>...</td>\n",
       "      <td>0.0</td>\n",
       "      <td>0.0</td>\n",
       "      <td>0.0</td>\n",
       "      <td>0.0</td>\n",
       "      <td>0.0</td>\n",
       "      <td>0.0</td>\n",
       "      <td>Cor Lemaire</td>\n",
       "      <td>Annie M. G. Schmidt</td>\n",
       "      <td>De vogels van Holland zijn zo muzikaal\\nZe ler...</td>\n",
       "      <td>https://youtube.com/watch?v=u45UQVGRVPA</td>\n",
       "    </tr>\n",
       "    <tr>\n",
       "      <th>2</th>\n",
       "      <td>1956-01-01</td>\n",
       "      <td>be</td>\n",
       "      <td>Belgium</td>\n",
       "      <td>Fud Leclerc</td>\n",
       "      <td>Messieurs Les Noyés De La Seine</td>\n",
       "      <td>2.0</td>\n",
       "      <td>0.0</td>\n",
       "      <td>3.0</td>\n",
       "      <td>0.0</td>\n",
       "      <td>2.0</td>\n",
       "      <td>...</td>\n",
       "      <td>0.0</td>\n",
       "      <td>0.0</td>\n",
       "      <td>0.0</td>\n",
       "      <td>0.0</td>\n",
       "      <td>0.0</td>\n",
       "      <td>0.0</td>\n",
       "      <td>Jacques Say;Jean Miret</td>\n",
       "      <td>Robert Montal</td>\n",
       "      <td>Messieurs les noyés de la Seine\\nOuvrez-moi le...</td>\n",
       "      <td>https://youtube.com/watch?v=U9O3sqlyra0</td>\n",
       "    </tr>\n",
       "    <tr>\n",
       "      <th>3</th>\n",
       "      <td>1956-01-01</td>\n",
       "      <td>de</td>\n",
       "      <td>Germany</td>\n",
       "      <td>Walter Andreas Schwarz</td>\n",
       "      <td>Im Wartesaal Zum Großen Glück</td>\n",
       "      <td>2.0</td>\n",
       "      <td>0.0</td>\n",
       "      <td>4.0</td>\n",
       "      <td>0.0</td>\n",
       "      <td>2.0</td>\n",
       "      <td>...</td>\n",
       "      <td>0.0</td>\n",
       "      <td>0.0</td>\n",
       "      <td>0.0</td>\n",
       "      <td>0.0</td>\n",
       "      <td>0.0</td>\n",
       "      <td>0.0</td>\n",
       "      <td>Walter Andreas Schwarz</td>\n",
       "      <td>0</td>\n",
       "      <td>Es gibt einen Hafen, da fährt kaum ein Schiff\\...</td>\n",
       "      <td>https://youtube.com/watch?v=BDNARIDnmTc</td>\n",
       "    </tr>\n",
       "    <tr>\n",
       "      <th>4</th>\n",
       "      <td>1956-01-01</td>\n",
       "      <td>fr</td>\n",
       "      <td>France</td>\n",
       "      <td>Mathé Altéry</td>\n",
       "      <td>Le Temps Perdu</td>\n",
       "      <td>2.0</td>\n",
       "      <td>0.0</td>\n",
       "      <td>5.0</td>\n",
       "      <td>0.0</td>\n",
       "      <td>2.0</td>\n",
       "      <td>...</td>\n",
       "      <td>0.0</td>\n",
       "      <td>0.0</td>\n",
       "      <td>0.0</td>\n",
       "      <td>0.0</td>\n",
       "      <td>0.0</td>\n",
       "      <td>0.0</td>\n",
       "      <td>André Lodge</td>\n",
       "      <td>Rachèle Thoreau</td>\n",
       "      <td>Chante, carillon\\nLe chant du temps perdu\\nCha...</td>\n",
       "      <td>https://youtube.com/watch?v=dm1L0XyikKI</td>\n",
       "    </tr>\n",
       "  </tbody>\n",
       "</table>\n",
       "<p>5 rows × 21 columns</p>\n",
       "</div>"
      ],
      "text/plain": [
       "        year to_country_id   to_country               performer  \\\n",
       "0 1956-01-01            ch  Switzerland               Lys Assia   \n",
       "1 1956-01-01            nl  Netherlands             Jetty Paerl   \n",
       "2 1956-01-01            be      Belgium             Fud Leclerc   \n",
       "3 1956-01-01            de      Germany  Walter Andreas Schwarz   \n",
       "4 1956-01-01            fr       France            Mathé Altéry   \n",
       "\n",
       "                              song  place_contest  sf_num  running_final  \\\n",
       "0                          Refrain            2.0     0.0            2.0   \n",
       "1            De Vogels Van Holland            2.0     0.0            1.0   \n",
       "2  Messieurs Les Noyés De La Seine            2.0     0.0            3.0   \n",
       "3    Im Wartesaal Zum Großen Glück            2.0     0.0            4.0   \n",
       "4                   Le Temps Perdu            2.0     0.0            5.0   \n",
       "\n",
       "   running_sf  place_final  ...  place_sf  points_sf  points_tele_final  \\\n",
       "0         0.0          2.0  ...       0.0        0.0                0.0   \n",
       "1         0.0          2.0  ...       0.0        0.0                0.0   \n",
       "2         0.0          2.0  ...       0.0        0.0                0.0   \n",
       "3         0.0          2.0  ...       0.0        0.0                0.0   \n",
       "4         0.0          2.0  ...       0.0        0.0                0.0   \n",
       "\n",
       "   points_jury_final  points_tele_sf  points_jury_sf               composers  \\\n",
       "0                0.0             0.0             0.0        Georg Benz Stahl   \n",
       "1                0.0             0.0             0.0             Cor Lemaire   \n",
       "2                0.0             0.0             0.0  Jacques Say;Jean Miret   \n",
       "3                0.0             0.0             0.0  Walter Andreas Schwarz   \n",
       "4                0.0             0.0             0.0             André Lodge   \n",
       "\n",
       "             lyricists                                             lyrics  \\\n",
       "0                    0  (Refrain d'amour...)\\n\\nRefrain, couleur du ci...   \n",
       "1  Annie M. G. Schmidt  De vogels van Holland zijn zo muzikaal\\nZe ler...   \n",
       "2        Robert Montal  Messieurs les noyés de la Seine\\nOuvrez-moi le...   \n",
       "3                    0  Es gibt einen Hafen, da fährt kaum ein Schiff\\...   \n",
       "4      Rachèle Thoreau  Chante, carillon\\nLe chant du temps perdu\\nCha...   \n",
       "\n",
       "                               youtube_url  \n",
       "0  https://youtube.com/watch?v=IyqIPvOkiRk  \n",
       "1  https://youtube.com/watch?v=u45UQVGRVPA  \n",
       "2  https://youtube.com/watch?v=U9O3sqlyra0  \n",
       "3  https://youtube.com/watch?v=BDNARIDnmTc  \n",
       "4  https://youtube.com/watch?v=dm1L0XyikKI  \n",
       "\n",
       "[5 rows x 21 columns]"
      ]
     },
     "execution_count": 58,
     "metadata": {},
     "output_type": "execute_result"
    }
   ],
   "source": [
    "eurovision_df.head()"
   ]
  },
  {
   "cell_type": "markdown",
   "id": "27e35d99-a8d0-4a85-8273-fbabe10c1fc5",
   "metadata": {},
   "source": [
    "## Task 2: Filtering and Transformation\n"
   ]
  },
  {
   "cell_type": "code",
   "execution_count": 59,
   "id": "86643f0f-e8dc-4d31-8dc5-9f847b8f39e8",
   "metadata": {
    "tags": []
   },
   "outputs": [
    {
     "data": {
      "text/html": [
       "<div>\n",
       "<style scoped>\n",
       "    .dataframe tbody tr th:only-of-type {\n",
       "        vertical-align: middle;\n",
       "    }\n",
       "\n",
       "    .dataframe tbody tr th {\n",
       "        vertical-align: top;\n",
       "    }\n",
       "\n",
       "    .dataframe thead th {\n",
       "        text-align: right;\n",
       "    }\n",
       "</style>\n",
       "<table border=\"1\" class=\"dataframe\">\n",
       "  <thead>\n",
       "    <tr style=\"text-align: right;\">\n",
       "      <th></th>\n",
       "      <th>year</th>\n",
       "      <th>to_country_id</th>\n",
       "      <th>to_country</th>\n",
       "      <th>performer</th>\n",
       "      <th>song</th>\n",
       "      <th>place_contest</th>\n",
       "      <th>sf_num</th>\n",
       "      <th>running_final</th>\n",
       "      <th>running_sf</th>\n",
       "      <th>place_final</th>\n",
       "      <th>...</th>\n",
       "      <th>place_sf</th>\n",
       "      <th>points_sf</th>\n",
       "      <th>points_tele_final</th>\n",
       "      <th>points_jury_final</th>\n",
       "      <th>points_tele_sf</th>\n",
       "      <th>points_jury_sf</th>\n",
       "      <th>composers</th>\n",
       "      <th>lyricists</th>\n",
       "      <th>lyrics</th>\n",
       "      <th>youtube_url</th>\n",
       "    </tr>\n",
       "  </thead>\n",
       "  <tbody>\n",
       "    <tr>\n",
       "      <th>604</th>\n",
       "      <td>1991-01-01</td>\n",
       "      <td>se</td>\n",
       "      <td>Sweden</td>\n",
       "      <td>Carola</td>\n",
       "      <td>Fångad Av En Stormvind</td>\n",
       "      <td>1.0</td>\n",
       "      <td>0.0</td>\n",
       "      <td>8.0</td>\n",
       "      <td>0.0</td>\n",
       "      <td>1.0</td>\n",
       "      <td>...</td>\n",
       "      <td>0.0</td>\n",
       "      <td>0.0</td>\n",
       "      <td>0.0</td>\n",
       "      <td>0.0</td>\n",
       "      <td>0.0</td>\n",
       "      <td>0.0</td>\n",
       "      <td>Stephan Berg</td>\n",
       "      <td>0</td>\n",
       "      <td>Jag har aldrig slutat tro\\nAtt efter varje nat...</td>\n",
       "      <td>https://youtube.com/watch?v=7wnS4nu-bOc</td>\n",
       "    </tr>\n",
       "    <tr>\n",
       "      <th>605</th>\n",
       "      <td>1991-01-01</td>\n",
       "      <td>fr</td>\n",
       "      <td>France</td>\n",
       "      <td>Amina</td>\n",
       "      <td>C'est Le Dernier Qui A Parlé Qui A Raison</td>\n",
       "      <td>2.0</td>\n",
       "      <td>0.0</td>\n",
       "      <td>9.0</td>\n",
       "      <td>0.0</td>\n",
       "      <td>2.0</td>\n",
       "      <td>...</td>\n",
       "      <td>0.0</td>\n",
       "      <td>0.0</td>\n",
       "      <td>0.0</td>\n",
       "      <td>0.0</td>\n",
       "      <td>0.0</td>\n",
       "      <td>0.0</td>\n",
       "      <td>Wasis Diop</td>\n",
       "      <td>Amina Annabi</td>\n",
       "      <td>C'est le dernier qui a parlé qui a raison\\nDan...</td>\n",
       "      <td>https://youtube.com/watch?v=PnxEBAoCZIw</td>\n",
       "    </tr>\n",
       "    <tr>\n",
       "      <th>606</th>\n",
       "      <td>1991-01-01</td>\n",
       "      <td>il</td>\n",
       "      <td>Israel</td>\n",
       "      <td>Duo Datz</td>\n",
       "      <td>Kan</td>\n",
       "      <td>3.0</td>\n",
       "      <td>0.0</td>\n",
       "      <td>15.0</td>\n",
       "      <td>0.0</td>\n",
       "      <td>3.0</td>\n",
       "      <td>...</td>\n",
       "      <td>0.0</td>\n",
       "      <td>0.0</td>\n",
       "      <td>0.0</td>\n",
       "      <td>0.0</td>\n",
       "      <td>0.0</td>\n",
       "      <td>0.0</td>\n",
       "      <td>Uzi Hitman</td>\n",
       "      <td>0</td>\n",
       "      <td>Kan beiti, po ani noladeti\\nBamishor asher al ...</td>\n",
       "      <td>https://youtube.com/watch?v=yF4BDqbidrc</td>\n",
       "    </tr>\n",
       "    <tr>\n",
       "      <th>607</th>\n",
       "      <td>1991-01-01</td>\n",
       "      <td>es</td>\n",
       "      <td>Spain</td>\n",
       "      <td>Sergio Dalma</td>\n",
       "      <td>Bailar Pegados</td>\n",
       "      <td>4.0</td>\n",
       "      <td>0.0</td>\n",
       "      <td>19.0</td>\n",
       "      <td>0.0</td>\n",
       "      <td>4.0</td>\n",
       "      <td>...</td>\n",
       "      <td>0.0</td>\n",
       "      <td>0.0</td>\n",
       "      <td>0.0</td>\n",
       "      <td>0.0</td>\n",
       "      <td>0.0</td>\n",
       "      <td>0.0</td>\n",
       "      <td>Julio Seijas</td>\n",
       "      <td>Luis Gómez-Escolar</td>\n",
       "      <td>Bailar de lejos no es bailar\\nEs como estar ba...</td>\n",
       "      <td>https://youtube.com/watch?v=4EGAIciJ76U</td>\n",
       "    </tr>\n",
       "    <tr>\n",
       "      <th>608</th>\n",
       "      <td>1991-01-01</td>\n",
       "      <td>ch</td>\n",
       "      <td>Switzerland</td>\n",
       "      <td>Sandra Simò</td>\n",
       "      <td>Canzone Per Te</td>\n",
       "      <td>5.0</td>\n",
       "      <td>0.0</td>\n",
       "      <td>5.0</td>\n",
       "      <td>0.0</td>\n",
       "      <td>5.0</td>\n",
       "      <td>...</td>\n",
       "      <td>0.0</td>\n",
       "      <td>0.0</td>\n",
       "      <td>0.0</td>\n",
       "      <td>0.0</td>\n",
       "      <td>0.0</td>\n",
       "      <td>0.0</td>\n",
       "      <td>Renato Mascetti</td>\n",
       "      <td>0</td>\n",
       "      <td>Io questa sera vorrei sognare un po'\\nCon quat...</td>\n",
       "      <td>https://youtube.com/watch?v=IOkdJSli5Gc</td>\n",
       "    </tr>\n",
       "  </tbody>\n",
       "</table>\n",
       "<p>5 rows × 21 columns</p>\n",
       "</div>"
      ],
      "text/plain": [
       "          year to_country_id   to_country     performer  \\\n",
       "604 1991-01-01            se       Sweden        Carola   \n",
       "605 1991-01-01            fr       France         Amina   \n",
       "606 1991-01-01            il       Israel      Duo Datz   \n",
       "607 1991-01-01            es        Spain  Sergio Dalma   \n",
       "608 1991-01-01            ch  Switzerland   Sandra Simò   \n",
       "\n",
       "                                          song  place_contest  sf_num  \\\n",
       "604                     Fångad Av En Stormvind            1.0     0.0   \n",
       "605  C'est Le Dernier Qui A Parlé Qui A Raison            2.0     0.0   \n",
       "606                                        Kan            3.0     0.0   \n",
       "607                             Bailar Pegados            4.0     0.0   \n",
       "608                             Canzone Per Te            5.0     0.0   \n",
       "\n",
       "     running_final  running_sf  place_final  ...  place_sf  points_sf  \\\n",
       "604            8.0         0.0          1.0  ...       0.0        0.0   \n",
       "605            9.0         0.0          2.0  ...       0.0        0.0   \n",
       "606           15.0         0.0          3.0  ...       0.0        0.0   \n",
       "607           19.0         0.0          4.0  ...       0.0        0.0   \n",
       "608            5.0         0.0          5.0  ...       0.0        0.0   \n",
       "\n",
       "     points_tele_final  points_jury_final  points_tele_sf  points_jury_sf  \\\n",
       "604                0.0                0.0             0.0             0.0   \n",
       "605                0.0                0.0             0.0             0.0   \n",
       "606                0.0                0.0             0.0             0.0   \n",
       "607                0.0                0.0             0.0             0.0   \n",
       "608                0.0                0.0             0.0             0.0   \n",
       "\n",
       "           composers           lyricists  \\\n",
       "604     Stephan Berg                   0   \n",
       "605       Wasis Diop        Amina Annabi   \n",
       "606       Uzi Hitman                   0   \n",
       "607     Julio Seijas  Luis Gómez-Escolar   \n",
       "608  Renato Mascetti                   0   \n",
       "\n",
       "                                                lyrics  \\\n",
       "604  Jag har aldrig slutat tro\\nAtt efter varje nat...   \n",
       "605  C'est le dernier qui a parlé qui a raison\\nDan...   \n",
       "606  Kan beiti, po ani noladeti\\nBamishor asher al ...   \n",
       "607  Bailar de lejos no es bailar\\nEs como estar ba...   \n",
       "608  Io questa sera vorrei sognare un po'\\nCon quat...   \n",
       "\n",
       "                                 youtube_url  \n",
       "604  https://youtube.com/watch?v=7wnS4nu-bOc  \n",
       "605  https://youtube.com/watch?v=PnxEBAoCZIw  \n",
       "606  https://youtube.com/watch?v=yF4BDqbidrc  \n",
       "607  https://youtube.com/watch?v=4EGAIciJ76U  \n",
       "608  https://youtube.com/watch?v=IOkdJSli5Gc  \n",
       "\n",
       "[5 rows x 21 columns]"
      ]
     },
     "execution_count": 59,
     "metadata": {},
     "output_type": "execute_result"
    }
   ],
   "source": [
    "# Create a new dataframe containing only data from 1990 onwards\n",
    "# Important\n",
    "# Use .copy() to make sure you create a new dataframe and not just a view.\n",
    "recent_euro = eurovision_df[eurovision_df['year'] > '1990-01-01'].copy()\n",
    "recent_euro.head()"
   ]
  },
  {
   "cell_type": "code",
   "execution_count": 62,
   "id": "80494b11-03ca-409c-a856-522594088d14",
   "metadata": {
    "tags": []
   },
   "outputs": [
    {
     "data": {
      "text/plain": [
       "<Axes: ylabel='Frequency'>"
      ]
     },
     "execution_count": 62,
     "metadata": {},
     "output_type": "execute_result"
    },
    {
     "data": {
      "image/png": "[encoded data removed]",
      "text/plain": [
       "<Figure size 640x480 with 1 Axes>"
      ]
     },
     "metadata": {},
     "output_type": "display_data"
    }
   ],
   "source": [
    "# Calculate the difference between final points and semi-final points for each entry and make a histogram of these values using the builtin dataframe .hist() command.\n",
    "\n",
    "final_sf = recent_euro['points_final'] - recent_euro['points_sf']\n",
    "final_sf.plot(kind='hist')"
   ]
  },
  {
   "cell_type": "markdown",
   "id": "74bf8671-6fb3-439e-9861-39db160c305a",
   "metadata": {},
   "source": [
    "## Task 3: Sorting and Aggregation\n",
    "\n",
    "Note\n",
    "Use value_counts() for counting appearances and groupby() for calculating averages.\n"
   ]
  },
  {
   "cell_type": "code",
   "execution_count": 71,
   "id": "abd8664a-7d43-4e66-bcea-72c3241d63ef",
   "metadata": {
    "tags": []
   },
   "outputs": [
    {
     "data": {
      "text/plain": [
       "to_country\n",
       "Germany                 65\n",
       "France                  64\n",
       "Belgium                 63\n",
       "United Kingdom          63\n",
       "Netherlands             62\n",
       "Switzerland             61\n",
       "Spain                   60\n",
       "Sweden                  60\n",
       "Norway                  59\n",
       "Ireland                 54\n",
       "Finland                 54\n",
       "Austria                 53\n",
       "Portugal                52\n",
       "Denmark                 49\n",
       "Italy                   47\n",
       "Israel                  43\n",
       "Greece                  41\n",
       "Luxembourg              37\n",
       "Cyprus                  37\n",
       "Turkey                  34\n",
       "Iceland                 33\n",
       "Malta                   33\n",
       "Yugoslavia              27\n",
       "Croatia                 26\n",
       "Estonia                 26\n",
       "Slovenia                26\n",
       "Monaco                  24\n",
       "Poland                  23\n",
       "Russia                  23\n",
       "Lithuania               21\n",
       "Latvia                  21\n",
       "Romania                 21\n",
       "North Macedonia         20\n",
       "Bosnia & Herzegovina    19\n",
       "Albania                 17\n",
       "Belarus                 17\n",
       "Hungary                 17\n",
       "Moldova                 16\n",
       "Ukraine                 16\n",
       "Armenia                 14\n",
       "Azerbaijan              13\n",
       "Bulgaria                13\n",
       "Serbia                  13\n",
       "Georgia                 13\n",
       "San Marino              11\n",
       "Montenegro              11\n",
       "Czech Republic           9\n",
       "Slovakia                 7\n",
       "Andorra                  6\n",
       "Australia                6\n",
       "Serbia & Montenegro      2\n",
       "Morocco                  1\n",
       "Name: count, dtype: int64"
      ]
     },
     "execution_count": 71,
     "metadata": {},
     "output_type": "execute_result"
    }
   ],
   "source": [
    "# Find the top 10 countries with the most Eurovision appearances (use the entire dataset for this calculation)\n",
    "\n",
    "eurovision_df.value_counts('to_country').sort_values(ascending=False)"
   ]
  },
  {
   "cell_type": "code",
   "execution_count": 74,
   "id": "c71923b0-80ed-42e8-9eec-1b4aebf4ac8b",
   "metadata": {
    "tags": []
   },
   "outputs": [],
   "source": [
    "# Calculate the average final points for each country across all years. Make a simple bar plot of these data.\n",
    "avg_final = eurovision_df.groupby('to_country')['points_final'].mean().sort_values(ascending=False)"
   ]
  },
  {
   "cell_type": "code",
   "execution_count": 75,
   "id": "fb5a78df-c1ae-4416-873e-e6752bd9c0f5",
   "metadata": {
    "tags": []
   },
   "outputs": [
    {
     "data": {
      "text/plain": [
       "<Axes: xlabel='to_country'>"
      ]
     },
     "execution_count": 75,
     "metadata": {},
     "output_type": "execute_result"
    },
    {
     "data": {
      "image/png": "[encoded data removed]",
      "text/plain": [
       "<Figure size 640x480 with 1 Axes>"
      ]
     },
     "metadata": {},
     "output_type": "display_data"
    }
   ],
   "source": [
    "avg_final.plot(kind='bar')"
   ]
  },
  {
   "cell_type": "markdown",
   "id": "71dae488-c85b-45ce-ab6c-65b68469056a",
   "metadata": {},
   "source": [
    "## Task 4: Grouping and Analysis\n"
   ]
  },
  {
   "cell_type": "code",
   "execution_count": 95,
   "id": "633b6362-2861-4753-85f1-b4b78c60d023",
   "metadata": {
    "tags": []
   },
   "outputs": [],
   "source": [
    "# Determine the country with the highest average final points for each decade.\n",
    "eurovision_df['decade'] = eurovision_df['year'].dt.year // 10 * 10"
   ]
  },
  {
   "cell_type": "code",
   "execution_count": 97,
   "id": "52750279-7a76-4391-824a-593895c5a5ac",
   "metadata": {
    "tags": []
   },
   "outputs": [
    {
     "name": "stdout",
     "output_type": "stream",
     "text": [
      "decade\n",
      "1950                 (1950, France)\n",
      "1960         (1960, United Kingdom)\n",
      "1970         (1970, United Kingdom)\n",
      "1980                (1980, Ireland)\n",
      "1990                (1990, Ireland)\n",
      "2000    (2000, Serbia & Montenegro)\n",
      "2010              (2010, Australia)\n",
      "2020                (2020, Albania)\n",
      "Name: points_final, dtype: object\n"
     ]
    }
   ],
   "source": [
    "decade_winners = eurovision_df.groupby(['decade', 'to_country'])['points_final'].mean().groupby('decade').idxmax()\n",
    "print(decade_winners)"
   ]
  },
  {
   "cell_type": "markdown",
   "id": "91cf4b2d-4e64-4623-9725-15651b4f1016",
   "metadata": {},
   "source": [
    "## Task 5: Joining Data\n"
   ]
  },
  {
   "cell_type": "code",
   "execution_count": 104,
   "id": "097d4de3-7831-4a91-8c04-d233c6e7ce9a",
   "metadata": {
    "tags": []
   },
   "outputs": [
    {
     "data": {
      "text/html": [
       "<div>\n",
       "<style scoped>\n",
       "    .dataframe tbody tr th:only-of-type {\n",
       "        vertical-align: middle;\n",
       "    }\n",
       "\n",
       "    .dataframe tbody tr th {\n",
       "        vertical-align: top;\n",
       "    }\n",
       "\n",
       "    .dataframe thead th {\n",
       "        text-align: right;\n",
       "    }\n",
       "</style>\n",
       "<table border=\"1\" class=\"dataframe\">\n",
       "  <thead>\n",
       "    <tr style=\"text-align: right;\">\n",
       "      <th></th>\n",
       "      <th>country_name</th>\n",
       "      <th>population</th>\n",
       "    </tr>\n",
       "  </thead>\n",
       "  <tbody>\n",
       "    <tr>\n",
       "      <th>0</th>\n",
       "      <td>Switzerland</td>\n",
       "      <td>6674000</td>\n",
       "    </tr>\n",
       "    <tr>\n",
       "      <th>1</th>\n",
       "      <td>Netherlands</td>\n",
       "      <td>14952000</td>\n",
       "    </tr>\n",
       "    <tr>\n",
       "      <th>2</th>\n",
       "      <td>Belgium</td>\n",
       "      <td>9967379</td>\n",
       "    </tr>\n",
       "    <tr>\n",
       "      <th>3</th>\n",
       "      <td>Germany</td>\n",
       "      <td>79433029</td>\n",
       "    </tr>\n",
       "    <tr>\n",
       "      <th>4</th>\n",
       "      <td>France</td>\n",
       "      <td>56707000</td>\n",
       "    </tr>\n",
       "  </tbody>\n",
       "</table>\n",
       "</div>"
      ],
      "text/plain": [
       "  country_name  population\n",
       "0  Switzerland     6674000\n",
       "1  Netherlands    14952000\n",
       "2      Belgium     9967379\n",
       "3      Germany    79433029\n",
       "4       France    56707000"
      ]
     },
     "execution_count": 104,
     "metadata": {},
     "output_type": "execute_result"
    }
   ],
   "source": [
    "population_url = 'https://bit.ly/euro_pop'\n",
    "pop_df = pd.read_csv(population_url)\n",
    "pop_df.head()\n",
    "# Ensure that country names match exactly between the two dataframes before joining."
   ]
  },
  {
   "cell_type": "code",
   "execution_count": 106,
   "id": "5d7efb04-6550-4f34-9907-9a8e71f44039",
   "metadata": {
    "tags": []
   },
   "outputs": [
    {
     "name": "stdout",
     "output_type": "stream",
     "text": [
      "['Albania' 'Andorra' 'Armenia' 'Australia' 'Austria' 'Azerbaijan'\n",
      " 'Belarus' 'Belgium' 'Bosnia & Herzegovina' 'Bulgaria' 'Croatia' 'Cyprus'\n",
      " 'Czech Republic' 'Denmark' 'Estonia' 'Finland' 'France' 'Georgia'\n",
      " 'Germany' 'Greece' 'Hungary' 'Iceland' 'Ireland' 'Israel' 'Italy'\n",
      " 'Latvia' 'Lithuania' 'Luxembourg' 'Malta' 'Moldova' 'Monaco' 'Montenegro'\n",
      " 'Morocco' 'Netherlands' 'North Macedonia' 'Norway' 'Poland' 'Portugal'\n",
      " 'Romania' 'Russia' 'San Marino' 'Serbia' 'Serbia & Montenegro' 'Slovakia'\n",
      " 'Slovenia' 'Spain' 'Sweden' 'Switzerland' 'Turkey' 'Ukraine'\n",
      " 'United Kingdom' 'Yugoslavia']\n",
      "['Albania' 'Andorra' 'Armenia' 'Australia' 'Austria' 'Azerbaijan'\n",
      " 'Belarus' 'Belgium' 'Bosnia & Herzegovina' 'Bulgaria' 'Croatia' 'Cyprus'\n",
      " 'Czech Republic' 'Denmark' 'Estonia' 'Finland' 'France' 'Georgia'\n",
      " 'Germany' 'Greece' 'Hungary' 'Iceland' 'Ireland' 'Israel' 'Italy'\n",
      " 'Latvia' 'Lithuania' 'Luxembourg' 'Malta' 'Moldova' 'Monaco' 'Montenegro'\n",
      " 'Morocco' 'Netherlands' 'North Macedonia' 'Norway' 'Poland' 'Portugal'\n",
      " 'Romania' 'Russia' 'San Marino' 'Serbia' 'Serbia & Montenegro' 'Slovakia'\n",
      " 'Slovenia' 'Spain' 'Sweden' 'Switzerland' 'Turkey' 'Ukraine'\n",
      " 'United Kingdom' 'Yugoslavia']\n"
     ]
    }
   ],
   "source": [
    "print(np.unique(pop_df['country_name']))\n",
    "print(np.unique(eurovision_df['to_country']))"
   ]
  },
  {
   "cell_type": "markdown",
   "id": "7a76795c-7074-4115-b841-1e67df8b6b93",
   "metadata": {},
   "source": [
    "Calculate total entries per capita by country.\n",
    "\n",
    "Substeps:\n",
    "\n",
    "3a. Create a new dataframe containing the counts of entries for each county (use value_counts)\n",
    "\n",
    "3b. Merge the dataframe of counts of entries for each country with the population dataframe.\n",
    "\n",
    "3c. Calculate entries per million population (using entries per million to make the numbers easier to work with)\n",
    "\n",
    "\n",
    "3e. Print the top 10 values"
   ]
  },
  {
   "cell_type": "code",
   "execution_count": 108,
   "id": "2c50d223-27fd-4e5b-badc-93f78218efdc",
   "metadata": {
    "tags": []
   },
   "outputs": [],
   "source": [
    "eurovision_df = eurovision_df.rename(columns = {'to_country': 'country_name'})"
   ]
  },
  {
   "cell_type": "code",
   "execution_count": 111,
   "id": "23a33cbc-0ee6-4aaf-a119-a23cdf18d136",
   "metadata": {
    "tags": []
   },
   "outputs": [],
   "source": [
    "count_df = eurovision_df['country_name'].value_counts()"
   ]
  },
  {
   "cell_type": "code",
   "execution_count": 113,
   "id": "2e2e0a72-e22f-480b-ac36-8c36893a244b",
   "metadata": {
    "tags": []
   },
   "outputs": [
    {
     "data": {
      "text/html": [
       "<div>\n",
       "<style scoped>\n",
       "    .dataframe tbody tr th:only-of-type {\n",
       "        vertical-align: middle;\n",
       "    }\n",
       "\n",
       "    .dataframe tbody tr th {\n",
       "        vertical-align: top;\n",
       "    }\n",
       "\n",
       "    .dataframe thead th {\n",
       "        text-align: right;\n",
       "    }\n",
       "</style>\n",
       "<table border=\"1\" class=\"dataframe\">\n",
       "  <thead>\n",
       "    <tr style=\"text-align: right;\">\n",
       "      <th></th>\n",
       "      <th>country_name</th>\n",
       "      <th>population</th>\n",
       "      <th>count</th>\n",
       "    </tr>\n",
       "  </thead>\n",
       "  <tbody>\n",
       "    <tr>\n",
       "      <th>0</th>\n",
       "      <td>Switzerland</td>\n",
       "      <td>6674000</td>\n",
       "      <td>61</td>\n",
       "    </tr>\n",
       "    <tr>\n",
       "      <th>1</th>\n",
       "      <td>Netherlands</td>\n",
       "      <td>14952000</td>\n",
       "      <td>62</td>\n",
       "    </tr>\n",
       "    <tr>\n",
       "      <th>2</th>\n",
       "      <td>Belgium</td>\n",
       "      <td>9967379</td>\n",
       "      <td>63</td>\n",
       "    </tr>\n",
       "    <tr>\n",
       "      <th>3</th>\n",
       "      <td>Germany</td>\n",
       "      <td>79433029</td>\n",
       "      <td>65</td>\n",
       "    </tr>\n",
       "    <tr>\n",
       "      <th>4</th>\n",
       "      <td>France</td>\n",
       "      <td>56707000</td>\n",
       "      <td>64</td>\n",
       "    </tr>\n",
       "  </tbody>\n",
       "</table>\n",
       "</div>"
      ],
      "text/plain": [
       "  country_name  population  count\n",
       "0  Switzerland     6674000     61\n",
       "1  Netherlands    14952000     62\n",
       "2      Belgium     9967379     63\n",
       "3      Germany    79433029     65\n",
       "4       France    56707000     64"
      ]
     },
     "execution_count": 113,
     "metadata": {},
     "output_type": "execute_result"
    }
   ],
   "source": [
    "merged_df = pd.merge(pop_df, count_df, on='country_name', how='inner')\n",
    "merged_df.head()"
   ]
  },
  {
   "cell_type": "code",
   "execution_count": 117,
   "id": "b58d860e-34af-40b9-943e-cb0744acbac4",
   "metadata": {
    "tags": []
   },
   "outputs": [],
   "source": [
    "merged_df['entries per million'] = merged_df['count'] / (merged_df['population'] / 1000000)\n"
   ]
  },
  {
   "cell_type": "code",
   "execution_count": 120,
   "id": "e67e40ac-2701-41f4-bd52-05e3a6542bc8",
   "metadata": {
    "tags": []
   },
   "outputs": [],
   "source": [
    "# 3d. Sort the results by entries per capita\n",
    "\n",
    "sorted_capita = merged_df.sort_values('entries per million', ascending=False)"
   ]
  },
  {
   "cell_type": "code",
   "execution_count": 122,
   "id": "46e7c744-ff6d-4c5d-aace-3244f1e2f055",
   "metadata": {
    "tags": []
   },
   "outputs": [
    {
     "data": {
      "text/html": [
       "<div>\n",
       "<style scoped>\n",
       "    .dataframe tbody tr th:only-of-type {\n",
       "        vertical-align: middle;\n",
       "    }\n",
       "\n",
       "    .dataframe tbody tr th {\n",
       "        vertical-align: top;\n",
       "    }\n",
       "\n",
       "    .dataframe thead th {\n",
       "        text-align: right;\n",
       "    }\n",
       "</style>\n",
       "<table border=\"1\" class=\"dataframe\">\n",
       "  <thead>\n",
       "    <tr style=\"text-align: right;\">\n",
       "      <th></th>\n",
       "      <th>country_name</th>\n",
       "      <th>population</th>\n",
       "      <th>count</th>\n",
       "      <th>entries per million</th>\n",
       "    </tr>\n",
       "  </thead>\n",
       "  <tbody>\n",
       "    <tr>\n",
       "      <th>11</th>\n",
       "      <td>Monaco</td>\n",
       "      <td>29972</td>\n",
       "      <td>24</td>\n",
       "      <td>800.747364</td>\n",
       "    </tr>\n",
       "    <tr>\n",
       "      <th>50</th>\n",
       "      <td>San Marino</td>\n",
       "      <td>23186</td>\n",
       "      <td>11</td>\n",
       "      <td>474.424222</td>\n",
       "    </tr>\n",
       "    <tr>\n",
       "      <th>24</th>\n",
       "      <td>Iceland</td>\n",
       "      <td>255866</td>\n",
       "      <td>33</td>\n",
       "      <td>128.973760</td>\n",
       "    </tr>\n",
       "    <tr>\n",
       "      <th>40</th>\n",
       "      <td>Andorra</td>\n",
       "      <td>54507</td>\n",
       "      <td>6</td>\n",
       "      <td>110.077605</td>\n",
       "    </tr>\n",
       "    <tr>\n",
       "      <th>5</th>\n",
       "      <td>Luxembourg</td>\n",
       "      <td>381900</td>\n",
       "      <td>37</td>\n",
       "      <td>96.884001</td>\n",
       "    </tr>\n",
       "    <tr>\n",
       "      <th>18</th>\n",
       "      <td>Malta</td>\n",
       "      <td>352430</td>\n",
       "      <td>33</td>\n",
       "      <td>93.635616</td>\n",
       "    </tr>\n",
       "    <tr>\n",
       "      <th>23</th>\n",
       "      <td>Cyprus</td>\n",
       "      <td>766615</td>\n",
       "      <td>37</td>\n",
       "      <td>48.264122</td>\n",
       "    </tr>\n",
       "    <tr>\n",
       "      <th>47</th>\n",
       "      <td>Montenegro</td>\n",
       "      <td>615035</td>\n",
       "      <td>11</td>\n",
       "      <td>17.885161</td>\n",
       "    </tr>\n",
       "    <tr>\n",
       "      <th>33</th>\n",
       "      <td>Estonia</td>\n",
       "      <td>1570599</td>\n",
       "      <td>26</td>\n",
       "      <td>16.554194</td>\n",
       "    </tr>\n",
       "    <tr>\n",
       "      <th>17</th>\n",
       "      <td>Ireland</td>\n",
       "      <td>3515000</td>\n",
       "      <td>54</td>\n",
       "      <td>15.362731</td>\n",
       "    </tr>\n",
       "  </tbody>\n",
       "</table>\n",
       "</div>"
      ],
      "text/plain": [
       "   country_name  population  count  entries per million\n",
       "11       Monaco       29972     24           800.747364\n",
       "50   San Marino       23186     11           474.424222\n",
       "24      Iceland      255866     33           128.973760\n",
       "40      Andorra       54507      6           110.077605\n",
       "5    Luxembourg      381900     37            96.884001\n",
       "18        Malta      352430     33            93.635616\n",
       "23       Cyprus      766615     37            48.264122\n",
       "47   Montenegro      615035     11            17.885161\n",
       "33      Estonia     1570599     26            16.554194\n",
       "17      Ireland     3515000     54            15.362731"
      ]
     },
     "execution_count": 122,
     "metadata": {},
     "output_type": "execute_result"
    }
   ],
   "source": [
    "sorted_capita.head(10)"
   ]
  },
  {
   "cell_type": "markdown",
   "id": "df5633c8-bc1c-4377-9a36-1553b5e44c8f",
   "metadata": {},
   "source": [
    "## Task 6: Time Series Analysis\n",
    "Plot the trend of maximum final points awarded over the years.\n",
    "\n",
    "Identify any significant changes in the scoring system based on this trend.\n",
    "\n",
    "(This step simply requires visual interpretation of the plot, but perhaps you could explore if there are actual rules changes underlying observed patterns using google)"
   ]
  },
  {
   "cell_type": "code",
   "execution_count": 125,
   "id": "c044febb-5f5b-46a8-9699-0176049d5a06",
   "metadata": {
    "tags": []
   },
   "outputs": [],
   "source": [
    "year_max = eurovision_df.groupby('year')['points_final'].max()"
   ]
  },
  {
   "cell_type": "code",
   "execution_count": 126,
   "id": "2d8b6815-7d45-41a7-afb0-14ee3b76d817",
   "metadata": {
    "tags": []
   },
   "outputs": [
    {
     "data": {
      "text/plain": [
       "<Axes: xlabel='year'>"
      ]
     },
     "execution_count": 126,
     "metadata": {},
     "output_type": "execute_result"
    },
    {
     "data": {
      "image/png": "[encoded data removed]",
      "text/plain": [
       "<Figure size 640x480 with 1 Axes>"
      ]
     },
     "metadata": {},
     "output_type": "display_data"
    }
   ],
   "source": [
    "year_max.plot()"
   ]
  },
  {
   "cell_type": "markdown",
   "id": "ebcf7c45-3812-4de3-83f7-238250112842",
   "metadata": {},
   "source": [
    "## Task 7: Choose your own analysis!\n",
    "Come up with your own analysis of the Eurovision data that reveals some pattern across the data or through time. Feel free to discuss your ideas with others; often this leads to new ideas or refinement of ones you are already working on."
   ]
  }
 ],
 "metadata": {
  "kernelspec": {
   "display_name": "Python 3.10.0",
   "language": "python",
   "name": "python3.10.0"
  },
  "language_info": {
   "codemirror_mode": {
    "name": "ipython",
    "version": 3
   },
   "file_extension": ".py",
   "mimetype": "text/x-python",
   "name": "python",
   "nbconvert_exporter": "python",
   "pygments_lexer": "ipython3",
   "version": "3.10.0"
  }
 },
 "nbformat": 4,
 "nbformat_minor": 5
}
