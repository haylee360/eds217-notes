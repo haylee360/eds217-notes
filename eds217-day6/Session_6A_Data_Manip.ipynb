{
 "cells": [
  {
   "cell_type": "markdown",
   "id": "b3381ea1-40b8-4f33-8e73-00e46c6f59fa",
   "metadata": {},
   "source": [
    "# Day 6: Session A - Data Manipulation and Analysis Techniques\n",
    "\n",
    "[Link to session webpage](https://eds-217-essential-python.github.io/course-materials/interactive-sessions/6a_grouping_joining_sorting.html)\n",
    "\n",
    "Sorting, grouping, joining, applying\n"
   ]
  },
  {
   "cell_type": "markdown",
   "id": "d101b49d-d987-4106-b1c9-640b00be5da0",
   "metadata": {},
   "source": [
    "## Setup"
   ]
  },
  {
   "cell_type": "code",
   "execution_count": 2,
   "id": "bfddb31f-66c1-4567-b192-603878d17c9a",
   "metadata": {
    "tags": []
   },
   "outputs": [],
   "source": [
    "import pandas as pd\n",
    "import numpy as np\n",
    "import matplotlib.pyplot as plt\n",
    "import seaborn as sns"
   ]
  },
  {
   "cell_type": "code",
   "execution_count": 24,
   "id": "965221c3-9b87-4f61-ae92-5e6c37f10e57",
   "metadata": {
    "tags": []
   },
   "outputs": [
    {
     "name": "stdout",
     "output_type": "stream",
     "text": [
      "        date     site species  count  temperature\n",
      "0 2023-01-01  Wetland   Birch      7     9.043483\n",
      "1 2023-01-02   Forest   Birch      1    18.282768\n",
      "2 2023-01-03  Wetland   Birch      1    10.126592\n",
      "3 2023-01-04  Wetland    Pine     13    18.935423\n",
      "4 2023-01-05   Forest    Pine      9    20.792978\n"
     ]
    }
   ],
   "source": [
    "# Create a sample dataset of species observations\n",
    "np.random.seed(42) # seed is initial condition\n",
    "# don't use a seed unless you have a good reason to (i.e. teaching)\n",
    "dates = pd.date_range(start='2023-01-01', periods=100)\n",
    "data = { # dictionary\n",
    "    'date': dates,\n",
    "    'site': np.random.choice(['Forest', 'Grassland', 'Wetland'], 100),\n",
    "    'species': np.random.choice(['Oak', 'Maple', 'Pine', 'Birch'], 100),\n",
    "    'count': np.random.randint(1, 20, 100),\n",
    "    'temperature': np.random.normal(15, 5, 100)\n",
    "}\n",
    "df = pd.DataFrame(data)\n",
    "print(df.head())"
   ]
  },
  {
   "cell_type": "markdown",
   "id": "2c632354-ec87-4306-80f8-4533b1f6177e",
   "metadata": {},
   "source": [
    "## 1. Sorting Data\n",
    "\n",
    "### Basic Sorting"
   ]
  },
  {
   "cell_type": "code",
   "execution_count": 25,
   "id": "849161fd-6f8a-4111-b816-8e311d3fc7ab",
   "metadata": {
    "tags": []
   },
   "outputs": [
    {
     "name": "stdout",
     "output_type": "stream",
     "text": [
      "         date       site species  count  temperature\n",
      "81 2023-03-23     Forest   Birch     19    19.262167\n",
      "12 2023-01-13     Forest     Oak     19    10.552428\n",
      "53 2023-02-23     Forest   Maple     19    20.677828\n",
      "55 2023-02-25    Wetland   Birch     19    18.256956\n",
      "33 2023-02-03  Grassland   Maple     19    19.281994\n"
     ]
    }
   ],
   "source": [
    "# Sort by species count\n",
    "df_sorted = df.sort_values('count', ascending=False)\n",
    "print(df_sorted.head())"
   ]
  },
  {
   "cell_type": "markdown",
   "id": "3685b021-1959-4d88-a8bf-32bf639f7691",
   "metadata": {},
   "source": [
    "### Multi-column Sorting\n",
    "\n",
    "We can change sort order between diff rows"
   ]
  },
  {
   "cell_type": "code",
   "execution_count": 26,
   "id": "c9a80642-a773-4b4d-9a8d-1104695ee12d",
   "metadata": {
    "tags": []
   },
   "outputs": [
    {
     "name": "stdout",
     "output_type": "stream",
     "text": [
      "         date    site species  count  temperature\n",
      "12 2023-01-13  Forest     Oak     19    10.552428\n",
      "53 2023-02-23  Forest   Maple     19    20.677828\n",
      "81 2023-03-23  Forest   Birch     19    19.262167\n",
      "61 2023-03-03  Forest     Oak     18    15.409371\n",
      "95 2023-04-06  Forest   Maple     18    20.162326\n"
     ]
    }
   ],
   "source": [
    "# Sort by site and then by species count\n",
    "df_multi_sorted = df.sort_values(['site', 'count'], ascending=[True, False])\n",
    "print(df_multi_sorted.head())\n",
    "# reads from left to rightSort all the forests first, by highest count forests\n",
    "# then grasslands by highest count grasslands, etc...\n",
    "# don't need to use copy! It auto makes a new df. not a view"
   ]
  },
  {
   "cell_type": "markdown",
   "id": "1736c430-e116-46f0-ac92-ed5c417f3db0",
   "metadata": {
    "tags": []
   },
   "source": [
    "This will break your data frame! You took values out, sorted, and pasted it back in\n",
    "\n",
    "```python\n",
    " df['count'] = df['count'].sort_values(ascending=False) \n",
    "```"
   ]
  },
  {
   "cell_type": "markdown",
   "id": "b1705ecc-c608-4616-bc07-c814b0c37f73",
   "metadata": {},
   "source": [
    "## 2. Grouping and Aggregating Data\n",
    "\n",
    "### Basic group by"
   ]
  },
  {
   "cell_type": "code",
   "execution_count": 27,
   "id": "1440ba82-eb80-4a8a-b39f-e34f0555e95a",
   "metadata": {
    "tags": []
   },
   "outputs": [
    {
     "name": "stdout",
     "output_type": "stream",
     "text": [
      "site\n",
      "Forest       311\n",
      "Grassland    336\n",
      "Wetland      248\n",
      "Name: count, dtype: int64\n"
     ]
    }
   ],
   "source": [
    "# Sum of species counts by site\n",
    "site_counts = df.groupby('site')['count'].sum()\n",
    "#                group by,       select,  aggregate\n",
    "print(site_counts)"
   ]
  },
  {
   "cell_type": "markdown",
   "id": "478437e4-de15-4b4b-8133-2f1981127a67",
   "metadata": {},
   "source": [
    "### Multiple aggregations\n",
    "\n",
    "Provide a list of aggregations instead of just one function using `agg()`\n",
    "\n",
    "Using agg and groupby is super powerful!!"
   ]
  },
  {
   "cell_type": "code",
   "execution_count": 28,
   "id": "94d7f6e1-682e-48f9-8b7a-1286a0efa2b3",
   "metadata": {
    "tags": []
   },
   "outputs": [],
   "source": [
    "# For one column, let's get the result of multiple aggrations:\n",
    "# pass the commands in as strings, which is a little weird\n",
    "site_stats_count = df.groupby('site')['count'].agg(['sum', 'mean', 'max'])\n",
    "# need to use functions as strings because without, you would use the system's min which is much slower\n"
   ]
  },
  {
   "cell_type": "code",
   "execution_count": 29,
   "id": "b0ab7ebd-0b4d-4378-98f2-722995fdf255",
   "metadata": {
    "tags": []
   },
   "outputs": [
    {
     "name": "stdout",
     "output_type": "stream",
     "text": [
      "          count               species temperature\n",
      "            sum      mean max nunique        mean\n",
      "site                                             \n",
      "Forest      311  9.424242  19       4   16.527332\n",
      "Grassland   336  9.333333  19       4   15.540037\n",
      "Wetland     248  8.000000  19       4   14.528127\n"
     ]
    }
   ],
   "source": [
    "# Provide column specific aggregations in a dictionary\n",
    "# Multiple stats by site\n",
    "site_stats = df.groupby('site').agg({\n",
    "    'count': ['sum', 'mean', 'max'],\n",
    "    'species': 'nunique',\n",
    "    'temperature': 'mean'\n",
    "})\n",
    "print(site_stats)"
   ]
  },
  {
   "cell_type": "markdown",
   "id": "37230955-5255-43f7-aa48-6bb112187ff4",
   "metadata": {},
   "source": [
    "## Joining Data\n",
    "\n",
    "Arguments\n",
    "1. initial df (positional, have to be first)\n",
    "2. new df (positional, have to be second)\n",
    "3. on='site' <- column you want to join on\n",
    "4. how='inner' <- joining method"
   ]
  },
  {
   "cell_type": "code",
   "execution_count": 30,
   "id": "eb3a69a4-31ce-43fb-854a-d0f7c501bf9e",
   "metadata": {
    "tags": []
   },
   "outputs": [],
   "source": [
    "# Create a second DataFrame with site characteristics\n",
    "site_data = pd.DataFrame({\n",
    "    'site': ['Forest', 'Grassland', 'Wetland'],\n",
    "    'soil_pH': [6.5, 7.2, 6.8],\n",
    "    'annual_rainfall': [1200, 800, 1500]\n",
    "})"
   ]
  },
  {
   "cell_type": "code",
   "execution_count": 31,
   "id": "310a65c8-a7f6-4245-af4e-159134fe9de4",
   "metadata": {
    "tags": []
   },
   "outputs": [
    {
     "name": "stdout",
     "output_type": "stream",
     "text": [
      "        date     site species  count  temperature  soil_pH  annual_rainfall\n",
      "0 2023-01-01  Wetland   Birch      7     9.043483      6.8             1500\n",
      "1 2023-01-02   Forest   Birch      1    18.282768      6.5             1200\n",
      "2 2023-01-03  Wetland   Birch      1    10.126592      6.8             1500\n",
      "3 2023-01-04  Wetland    Pine     13    18.935423      6.8             1500\n",
      "4 2023-01-05   Forest    Pine      9    20.792978      6.5             1200\n"
     ]
    }
   ],
   "source": [
    "# Perform an inner join\n",
    "# \n",
    "merged_df = pd.merge(df, site_data, on='site', how='inner')\n",
    "print(merged_df.head())"
   ]
  },
  {
   "cell_type": "markdown",
   "id": "c7c04cef-2dc9-4843-b4cd-cbe1dc2fcc51",
   "metadata": {},
   "source": [
    "## 4. Working with Dates\n",
    "\n",
    "For time series data, it's nice to make the row index a timestamp\n",
    "\n",
    "Set index to change the index"
   ]
  },
  {
   "cell_type": "code",
   "execution_count": 33,
   "id": "42302fef-26cc-4bd2-906e-a26e204b2eec",
   "metadata": {
    "tags": []
   },
   "outputs": [
    {
     "data": {
      "text/plain": [
       "Index([1, 1, 1, 1, 1, 1, 1, 1, 1, 1, 1, 1, 1, 1, 1, 1, 1, 1, 1, 1, 1, 1, 1, 1,\n",
       "       1, 1, 1, 1, 1, 1, 1, 2, 2, 2, 2, 2, 2, 2, 2, 2, 2, 2, 2, 2, 2, 2, 2, 2,\n",
       "       2, 2, 2, 2, 2, 2, 2, 2, 2, 2, 2, 3, 3, 3, 3, 3, 3, 3, 3, 3, 3, 3, 3, 3,\n",
       "       3, 3, 3, 3, 3, 3, 3, 3, 3, 3, 3, 3, 3, 3, 3, 3, 3, 3, 4, 4, 4, 4, 4, 4,\n",
       "       4, 4, 4, 4],\n",
       "      dtype='int32', name='date')"
      ]
     },
     "execution_count": 33,
     "metadata": {},
     "output_type": "execute_result"
    }
   ],
   "source": [
    "new_df = merged_df.set_index('date')\n",
    "new_df.index.month"
   ]
  },
  {
   "cell_type": "markdown",
   "id": "445d7778-4263-41f9-892f-dad5ad4838d6",
   "metadata": {},
   "source": [
    "### Understanding `inplace=True`\n",
    "\n",
    "If you are calling a method that usually generates a new df (like `set_index()`, `sort_values()`) and you want the operation to act on the dataframe without making a copy...\n",
    "\n",
    "Then you can use the `inplace` keyword argument to force this behavior\n",
    "\n",
    "There is a tendency to bloat data space. Can avoid this by\n",
    "1. Editing in place\n",
    "2. Chaining operations"
   ]
  },
  {
   "cell_type": "code",
   "execution_count": 45,
   "id": "8f51c815-76b4-4a8b-b331-51215fc001b5",
   "metadata": {
    "tags": []
   },
   "outputs": [
    {
     "name": "stdout",
     "output_type": "stream",
     "text": [
      "without in place \n",
      "         date     site species  count  temperature  soil_pH  annual_rainfall\n",
      "0 2023-01-01  Wetland   Birch      7     9.043483      6.8             1500\n",
      "1 2023-01-02   Forest   Birch      1    18.282768      6.5             1200\n",
      "2 2023-01-03  Wetland   Birch      1    10.126592      6.8             1500\n",
      "3 2023-01-04  Wetland    Pine     13    18.935423      6.8             1500\n",
      "4 2023-01-05   Forest    Pine      9    20.792978      6.5             1200\n",
      "               site species  count  temperature  soil_pH  annual_rainfall\n",
      "date                                                                     \n",
      "2023-01-01  Wetland   Birch      7     9.043483      6.8             1500\n",
      "2023-01-02   Forest   Birch      1    18.282768      6.5             1200\n",
      "2023-01-03  Wetland   Birch      1    10.126592      6.8             1500\n",
      "2023-01-04  Wetland    Pine     13    18.935423      6.8             1500\n",
      "2023-01-05   Forest    Pine      9    20.792978      6.5             1200\n",
      "\n",
      "with in place \n",
      "                site species  count  temperature  soil_pH  annual_rainfall\n",
      "date                                                                     \n",
      "2023-01-01  Wetland   Birch      7     9.043483      6.8             1500\n",
      "2023-01-02   Forest   Birch      1    18.282768      6.5             1200\n",
      "2023-01-03  Wetland   Birch      1    10.126592      6.8             1500\n",
      "2023-01-04  Wetland    Pine     13    18.935423      6.8             1500\n",
      "2023-01-05   Forest    Pine      9    20.792978      6.5             1200\n"
     ]
    }
   ],
   "source": [
    "df_copy = merged_df.copy() #insurance\n",
    "print(\"without in place \\n\", df_copy.head())\n",
    "\n",
    "# without inplace keyword argument, we get new df\n",
    "df_new = df_copy.set_index('date')\n",
    "print(df_new.head())\n",
    "\n",
    "df_copy.set_index('date', inplace=True)\n",
    "print(\"\\nwith in place \\n\", df_copy.head())\n"
   ]
  }
 ],
 "metadata": {
  "kernelspec": {
   "display_name": "Python 3.10.0",
   "language": "python",
   "name": "python3.10.0"
  },
  "language_info": {
   "codemirror_mode": {
    "name": "ipython",
    "version": 3
   },
   "file_extension": ".py",
   "mimetype": "text/x-python",
   "name": "python",
   "nbconvert_exporter": "python",
   "pygments_lexer": "ipython3",
   "version": "3.10.0"
  }
 },
 "nbformat": 4,
 "nbformat_minor": 5
}
